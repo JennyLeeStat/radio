{
 "cells": [
  {
   "cell_type": "markdown",
   "metadata": {},
   "source": [
    "# Метрики качества предсказаний"
   ]
  },
  {
   "cell_type": "markdown",
   "metadata": {},
   "source": [
    "### True positive rate (sensitivity)\n",
    "_доля обнаруженных нодул_"
   ]
  },
  {
   "cell_type": "markdown",
   "metadata": {},
   "source": [
    "Параметры:\n",
    "- T - порог для бинаризации маски\n",
    "- D - минимальная доля площади покрытия нодулы маской, чтобы считать нодулу обнаруженной"
   ]
  },
  {
   "cell_type": "markdown",
   "metadata": {},
   "source": [
    "Алгоритм:\n",
    "- бинаризовать таргет-маску по порогу T\n",
    "- бинаризовать предсказанную маску по порогу T\n",
    "- нодулы, закрытые маской не менее чем на D% площади, отметить как обнаруженные\n",
    "- разделить кол-во обнаруженых нодул на общее кол-во нодул в скане / кропе / батче"
   ]
  },
  {
   "cell_type": "markdown",
   "metadata": {},
   "source": [
    "## True negative rate (specificity)\n",
    "_доля площади верно предсказанной здоровой ткани_"
   ]
  },
  {
   "cell_type": "markdown",
   "metadata": {},
   "source": [
    "Параметры:\n",
    "- T - порог для бинаризации маски"
   ]
  },
  {
   "cell_type": "markdown",
   "metadata": {},
   "source": [
    "Алгоритм:\n",
    "- бинаризовать таргет-маску по порогу T\n",
    "- бинаризовать предсказанную маску по порогу T\n",
    "- разделить сумму верно предсказанной здоровой области на сумму здоровой области в таргет-маске скана / кропа / батча\n",
    "\n",
    "$$\n",
    "TNR = \\frac{\\sum (1 - target) * (1 -prediction)}{\\sum (1 - target)}\n",
    "$$"
   ]
  },
  {
   "cell_type": "markdown",
   "metadata": {},
   "source": [
    "## False discovery rate\n",
    "_доля площади неверно предсказанная как раковая_"
   ]
  },
  {
   "cell_type": "markdown",
   "metadata": {},
   "source": [
    "Параметры:\n",
    "- T - порог для бинаризации маски"
   ]
  },
  {
   "cell_type": "markdown",
   "metadata": {},
   "source": [
    "Алгоритм:\n",
    "- бинаризовать таргет-маску по порогу T\n",
    "- бинаризовать предсказанную маску по порогу T\n",
    "- разделить сумму неверно предсказанной маски на сумму предсказанной маске\n",
    "\n",
    "$$\n",
    "FDR = \\frac{\\sum (1 - target) * prediction}{\\sum prediction}\n",
    "$$"
   ]
  },
  {
   "cell_type": "markdown",
   "metadata": {},
   "source": [
    "## False positive per scan\n",
    "_количество ложно предсказанных нодул на скан_"
   ]
  },
  {
   "cell_type": "markdown",
   "metadata": {},
   "source": [
    "Параметры:\n",
    "- T - порог для бинаризации маски\n",
    "- D - минимальная доля площади покрытия нодулы маской, чтобы считать нодулу обнаруженной"
   ]
  },
  {
   "cell_type": "markdown",
   "metadata": {},
   "source": [
    "Алгоритм:\n",
    "- бинаризовать предсказанную маску по порогу T\n",
    "- рассчитать по ней связные компоненты\n",
    "- удалить все компоненты, которые пересекаются с нодулами не менее чем на D%\n",
    "- рассчитать кол-во оставшихся компонент"
   ]
  },
  {
   "cell_type": "markdown",
   "metadata": {},
   "source": [
    "## Positive likelihood ratio\n",
    "_если предсказан рак, то во сколько раз вероятнее, что рак на самом деле есть_"
   ]
  },
  {
   "cell_type": "markdown",
   "metadata": {},
   "source": [
    "Параметры:\n",
    "- T - порог для бинаризации маски\n",
    "- D - минимальная доля площади покрытия нодулы маской, чтобы считать нодулу обнаруженной"
   ]
  },
  {
   "cell_type": "markdown",
   "metadata": {},
   "source": [
    "$$\n",
    "PLL = \\frac{sensitivity}{1 - specificity}\n",
    "$$"
   ]
  },
  {
   "cell_type": "markdown",
   "metadata": {},
   "source": [
    "## Negative likelihood ratio\n",
    "_если предсказано, что рака нет, то во сколько раз вероятноее, что его на самом деле нет_"
   ]
  },
  {
   "cell_type": "markdown",
   "metadata": {},
   "source": [
    "Параметры:\n",
    "- T - порог для бинаризации маски\n",
    "- D - минимальная доля площади покрытия нодулы маской, чтобы считать нодулу обнаруженной"
   ]
  },
  {
   "cell_type": "markdown",
   "metadata": {},
   "source": [
    "Параметры:\n",
    "- T - порог для бинаризации маски\n",
    "- D - минимальная доля площади покрытия нодулы маской, чтобы считать нодулу обнаруженной"
   ]
  },
  {
   "cell_type": "markdown",
   "metadata": {},
   "source": [
    "$$\n",
    "NLL = \\frac{specificity}{1 - sensitivity}\n",
    "$$"
   ]
  },
  {
   "cell_type": "markdown",
   "metadata": {},
   "source": [
    "# Free response ROC (FROC)"
   ]
  },
  {
   "cell_type": "markdown",
   "metadata": {},
   "source": [
    "Параметры:\n",
    "- T - порог для бинаризации маски\n",
    "- D - минимальная доля площади покрытия нодулы маской, чтобы считать нодулу обнаруженной"
   ]
  },
  {
   "cell_type": "markdown",
   "metadata": {},
   "source": [
    "Алгоритм:\n",
    "- в цикле по значениям T от 0 до 1:\n",
    "    - рассчитать **Sensitivity** и **False positive per scan**\n",
    "- построить график:\n",
    "    - Y axis - Sensitivity\n",
    "    - X axis - False positive per scan"
   ]
  },
  {
   "cell_type": "markdown",
   "metadata": {},
   "source": []
  }
 ],
 "metadata": {
  "kernelspec": {
   "display_name": "Python 3",
   "language": "python",
   "name": "python3"
  },
  "language_info": {
   "codemirror_mode": {
    "name": "ipython",
    "version": 3
   },
   "file_extension": ".py",
   "mimetype": "text/x-python",
   "name": "python",
   "nbconvert_exporter": "python",
   "pygments_lexer": "ipython3",
   "version": "3.6.4"
  }
 },
 "nbformat": 4,
 "nbformat_minor": 2
}
