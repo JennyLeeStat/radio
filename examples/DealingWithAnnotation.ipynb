{
 "cells": [
  {
   "cell_type": "code",
   "execution_count": 1,
   "metadata": {},
   "outputs": [
    {
     "name": "stderr",
     "output_type": "stream",
     "text": [
      "/home/kirill/anaconda3/envs/nn/lib/python3.6/importlib/_bootstrap.py:205: RuntimeWarning: compiletime version 3.5 of module 'tensorflow.python.framework.fast_tensor_util' does not match runtime version 3.6\n",
      "  return f(*args, **kwds)\n",
      "Using TensorFlow backend.\n"
     ]
    }
   ],
   "source": [
    "import os\n",
    "import sys\n",
    "# sys.path.append('..')\n",
    "import radio\n",
    "import radio.annotation\n",
    "import glob\n",
    "import numpy as np\n",
    "import pandas as pd\n",
    "import matplotlib.pyplot as plt\n",
    "import seaborn as sns\n",
    "%matplotlib inline"
   ]
  },
  {
   "cell_type": "markdown",
   "metadata": {},
   "source": [
    "## Reading annotation file"
   ]
  },
  {
   "cell_type": "markdown",
   "metadata": {},
   "source": [
    "Submodule **radio.utils** contains **read_nodules** function that accepts path to annotation file as it's first argument:"
   ]
  },
  {
   "cell_type": "code",
   "execution_count": 2,
   "metadata": {},
   "outputs": [],
   "source": [
    "annotation_path = '/media/kirill/data/ct_annotation/08_annotation.txt'"
   ]
  },
  {
   "cell_type": "code",
   "execution_count": 3,
   "metadata": {},
   "outputs": [
    {
     "data": {
      "text/html": [
       "<div>\n",
       "<style scoped>\n",
       "    .dataframe tbody tr th:only-of-type {\n",
       "        vertical-align: middle;\n",
       "    }\n",
       "\n",
       "    .dataframe tbody tr th {\n",
       "        vertical-align: top;\n",
       "    }\n",
       "\n",
       "    .dataframe thead th {\n",
       "        text-align: right;\n",
       "    }\n",
       "</style>\n",
       "<table border=\"1\" class=\"dataframe\">\n",
       "  <thead>\n",
       "    <tr style=\"text-align: right;\">\n",
       "      <th></th>\n",
       "      <th>AccessionNumber</th>\n",
       "      <th>DoctorID</th>\n",
       "      <th>NoduleID</th>\n",
       "      <th>NoduleType</th>\n",
       "      <th>coordX</th>\n",
       "      <th>coordY</th>\n",
       "      <th>coordZ</th>\n",
       "      <th>diameter_mm</th>\n",
       "    </tr>\n",
       "  </thead>\n",
       "  <tbody>\n",
       "    <tr>\n",
       "      <th>40</th>\n",
       "      <td>AGFA000000061588</td>\n",
       "      <td>002</td>\n",
       "      <td>061f8ecc1784d93f1ef2</td>\n",
       "      <td>solid</td>\n",
       "      <td>410.0</td>\n",
       "      <td>274.0</td>\n",
       "      <td>330.0</td>\n",
       "      <td>9.0</td>\n",
       "    </tr>\n",
       "    <tr>\n",
       "      <th>41</th>\n",
       "      <td>AGFA000000061588</td>\n",
       "      <td>002</td>\n",
       "      <td>84e178a877c2ea3f80cb</td>\n",
       "      <td>semi_solid</td>\n",
       "      <td>144.0</td>\n",
       "      <td>355.0</td>\n",
       "      <td>221.0</td>\n",
       "      <td>5.0</td>\n",
       "    </tr>\n",
       "    <tr>\n",
       "      <th>45</th>\n",
       "      <td>AGFA000000061588</td>\n",
       "      <td>002</td>\n",
       "      <td>7166a0f0e8a2ee3fc0bb</td>\n",
       "      <td>solid</td>\n",
       "      <td>163.0</td>\n",
       "      <td>152.0</td>\n",
       "      <td>134.0</td>\n",
       "      <td>5.0</td>\n",
       "    </tr>\n",
       "    <tr>\n",
       "      <th>46</th>\n",
       "      <td>AGFA000000061588</td>\n",
       "      <td>002</td>\n",
       "      <td>cf2be80e7215ea3f90c5</td>\n",
       "      <td>semi_solid</td>\n",
       "      <td>159.0</td>\n",
       "      <td>162.0</td>\n",
       "      <td>133.0</td>\n",
       "      <td>4.0</td>\n",
       "    </tr>\n",
       "    <tr>\n",
       "      <th>80</th>\n",
       "      <td>AGFA000000061588</td>\n",
       "      <td>005</td>\n",
       "      <td>a0fa6df0d830b13f1a51</td>\n",
       "      <td>semi_solid</td>\n",
       "      <td>412.0</td>\n",
       "      <td>273.0</td>\n",
       "      <td>330.0</td>\n",
       "      <td>9.0</td>\n",
       "    </tr>\n",
       "    <tr>\n",
       "      <th>120</th>\n",
       "      <td>AGFA000000061588</td>\n",
       "      <td>010</td>\n",
       "      <td>ba9080e60fb4e63f1e37</td>\n",
       "      <td>solid</td>\n",
       "      <td>410.0</td>\n",
       "      <td>273.0</td>\n",
       "      <td>331.0</td>\n",
       "      <td>9.0</td>\n",
       "    </tr>\n",
       "    <tr>\n",
       "      <th>122</th>\n",
       "      <td>AGFA000000061588</td>\n",
       "      <td>010</td>\n",
       "      <td>8e3e0162b74ce33f3816</td>\n",
       "      <td>solid</td>\n",
       "      <td>202.0</td>\n",
       "      <td>165.0</td>\n",
       "      <td>203.0</td>\n",
       "      <td>8.0</td>\n",
       "    </tr>\n",
       "    <tr>\n",
       "      <th>123</th>\n",
       "      <td>AGFA000000061588</td>\n",
       "      <td>010</td>\n",
       "      <td>bc54d2d62dccc03fe40c</td>\n",
       "      <td>solid</td>\n",
       "      <td>192.0</td>\n",
       "      <td>211.0</td>\n",
       "      <td>195.0</td>\n",
       "      <td>5.0</td>\n",
       "    </tr>\n",
       "    <tr>\n",
       "      <th>124</th>\n",
       "      <td>AGFA000000061588</td>\n",
       "      <td>010</td>\n",
       "      <td>c085175d0d46a43f0b43</td>\n",
       "      <td>solid</td>\n",
       "      <td>183.0</td>\n",
       "      <td>325.0</td>\n",
       "      <td>143.0</td>\n",
       "      <td>5.0</td>\n",
       "    </tr>\n",
       "    <tr>\n",
       "      <th>280</th>\n",
       "      <td>AGFA000000061613</td>\n",
       "      <td>008</td>\n",
       "      <td>a4dac95042dcc43f76ed</td>\n",
       "      <td>solid</td>\n",
       "      <td>162.0</td>\n",
       "      <td>369.0</td>\n",
       "      <td>365.0</td>\n",
       "      <td>12.0</td>\n",
       "    </tr>\n",
       "  </tbody>\n",
       "</table>\n",
       "</div>"
      ],
      "text/plain": [
       "      AccessionNumber DoctorID              NoduleID  NoduleType  coordX  \\\n",
       "40   AGFA000000061588      002  061f8ecc1784d93f1ef2       solid   410.0   \n",
       "41   AGFA000000061588      002  84e178a877c2ea3f80cb  semi_solid   144.0   \n",
       "45   AGFA000000061588      002  7166a0f0e8a2ee3fc0bb       solid   163.0   \n",
       "46   AGFA000000061588      002  cf2be80e7215ea3f90c5  semi_solid   159.0   \n",
       "80   AGFA000000061588      005  a0fa6df0d830b13f1a51  semi_solid   412.0   \n",
       "120  AGFA000000061588      010  ba9080e60fb4e63f1e37       solid   410.0   \n",
       "122  AGFA000000061588      010  8e3e0162b74ce33f3816       solid   202.0   \n",
       "123  AGFA000000061588      010  bc54d2d62dccc03fe40c       solid   192.0   \n",
       "124  AGFA000000061588      010  c085175d0d46a43f0b43       solid   183.0   \n",
       "280  AGFA000000061613      008  a4dac95042dcc43f76ed       solid   162.0   \n",
       "\n",
       "     coordY  coordZ  diameter_mm  \n",
       "40    274.0   330.0          9.0  \n",
       "41    355.0   221.0          5.0  \n",
       "45    152.0   134.0          5.0  \n",
       "46    162.0   133.0          4.0  \n",
       "80    273.0   330.0          9.0  \n",
       "120   273.0   331.0          9.0  \n",
       "122   165.0   203.0          8.0  \n",
       "123   211.0   195.0          5.0  \n",
       "124   325.0   143.0          5.0  \n",
       "280   369.0   365.0         12.0  "
      ]
     },
     "execution_count": 3,
     "metadata": {},
     "output_type": "execute_result"
    }
   ],
   "source": [
    "nodules = radio.annotation.read_nodules(annotation_path)\n",
    "nodules.head(10)"
   ]
  },
  {
   "cell_type": "markdown",
   "metadata": {},
   "source": [
    "If you need to get information about doctors that annotated each scan you can just use function **read_annotators_info**:"
   ]
  },
  {
   "cell_type": "code",
   "execution_count": 4,
   "metadata": {},
   "outputs": [
    {
     "data": {
      "text/html": [
       "<div>\n",
       "<style scoped>\n",
       "    .dataframe tbody tr th:only-of-type {\n",
       "        vertical-align: middle;\n",
       "    }\n",
       "\n",
       "    .dataframe tbody tr th {\n",
       "        vertical-align: top;\n",
       "    }\n",
       "\n",
       "    .dataframe thead th {\n",
       "        text-align: right;\n",
       "    }\n",
       "</style>\n",
       "<table border=\"1\" class=\"dataframe\">\n",
       "  <thead>\n",
       "    <tr style=\"text-align: right;\">\n",
       "      <th>DoctorID</th>\n",
       "      <th>doctor_000</th>\n",
       "      <th>doctor_001</th>\n",
       "      <th>doctor_002</th>\n",
       "      <th>doctor_003</th>\n",
       "      <th>doctor_004</th>\n",
       "      <th>doctor_005</th>\n",
       "      <th>doctor_006</th>\n",
       "      <th>doctor_007</th>\n",
       "      <th>doctor_008</th>\n",
       "      <th>doctor_009</th>\n",
       "      <th>doctor_010</th>\n",
       "      <th>doctor_011</th>\n",
       "      <th>doctor_012</th>\n",
       "      <th>doctor_013</th>\n",
       "      <th>doctor_014</th>\n",
       "    </tr>\n",
       "    <tr>\n",
       "      <th>AccessionNumber</th>\n",
       "      <th></th>\n",
       "      <th></th>\n",
       "      <th></th>\n",
       "      <th></th>\n",
       "      <th></th>\n",
       "      <th></th>\n",
       "      <th></th>\n",
       "      <th></th>\n",
       "      <th></th>\n",
       "      <th></th>\n",
       "      <th></th>\n",
       "      <th></th>\n",
       "      <th></th>\n",
       "      <th></th>\n",
       "      <th></th>\n",
       "    </tr>\n",
       "  </thead>\n",
       "  <tbody>\n",
       "    <tr>\n",
       "      <th>AGFA000000061588</th>\n",
       "      <td>0</td>\n",
       "      <td>0</td>\n",
       "      <td>1</td>\n",
       "      <td>0</td>\n",
       "      <td>0</td>\n",
       "      <td>1</td>\n",
       "      <td>0</td>\n",
       "      <td>0</td>\n",
       "      <td>0</td>\n",
       "      <td>0</td>\n",
       "      <td>1</td>\n",
       "      <td>0</td>\n",
       "      <td>0</td>\n",
       "      <td>0</td>\n",
       "      <td>0</td>\n",
       "    </tr>\n",
       "    <tr>\n",
       "      <th>AGFA000000061590</th>\n",
       "      <td>0</td>\n",
       "      <td>0</td>\n",
       "      <td>0</td>\n",
       "      <td>0</td>\n",
       "      <td>0</td>\n",
       "      <td>1</td>\n",
       "      <td>0</td>\n",
       "      <td>0</td>\n",
       "      <td>0</td>\n",
       "      <td>1</td>\n",
       "      <td>0</td>\n",
       "      <td>0</td>\n",
       "      <td>1</td>\n",
       "      <td>0</td>\n",
       "      <td>0</td>\n",
       "    </tr>\n",
       "    <tr>\n",
       "      <th>AGFA000000061613</th>\n",
       "      <td>0</td>\n",
       "      <td>0</td>\n",
       "      <td>0</td>\n",
       "      <td>0</td>\n",
       "      <td>0</td>\n",
       "      <td>0</td>\n",
       "      <td>0</td>\n",
       "      <td>0</td>\n",
       "      <td>1</td>\n",
       "      <td>0</td>\n",
       "      <td>0</td>\n",
       "      <td>0</td>\n",
       "      <td>0</td>\n",
       "      <td>1</td>\n",
       "      <td>1</td>\n",
       "    </tr>\n",
       "    <tr>\n",
       "      <th>AGFA000000061820</th>\n",
       "      <td>0</td>\n",
       "      <td>0</td>\n",
       "      <td>0</td>\n",
       "      <td>0</td>\n",
       "      <td>0</td>\n",
       "      <td>0</td>\n",
       "      <td>1</td>\n",
       "      <td>0</td>\n",
       "      <td>0</td>\n",
       "      <td>0</td>\n",
       "      <td>0</td>\n",
       "      <td>1</td>\n",
       "      <td>0</td>\n",
       "      <td>1</td>\n",
       "      <td>0</td>\n",
       "    </tr>\n",
       "    <tr>\n",
       "      <th>AGFA000000061951</th>\n",
       "      <td>0</td>\n",
       "      <td>1</td>\n",
       "      <td>1</td>\n",
       "      <td>0</td>\n",
       "      <td>0</td>\n",
       "      <td>0</td>\n",
       "      <td>0</td>\n",
       "      <td>0</td>\n",
       "      <td>0</td>\n",
       "      <td>0</td>\n",
       "      <td>0</td>\n",
       "      <td>0</td>\n",
       "      <td>0</td>\n",
       "      <td>1</td>\n",
       "      <td>0</td>\n",
       "    </tr>\n",
       "    <tr>\n",
       "      <th>AGFA000000062036</th>\n",
       "      <td>1</td>\n",
       "      <td>1</td>\n",
       "      <td>0</td>\n",
       "      <td>0</td>\n",
       "      <td>0</td>\n",
       "      <td>0</td>\n",
       "      <td>1</td>\n",
       "      <td>0</td>\n",
       "      <td>0</td>\n",
       "      <td>0</td>\n",
       "      <td>0</td>\n",
       "      <td>0</td>\n",
       "      <td>0</td>\n",
       "      <td>0</td>\n",
       "      <td>0</td>\n",
       "    </tr>\n",
       "    <tr>\n",
       "      <th>AGFA000000062311</th>\n",
       "      <td>0</td>\n",
       "      <td>1</td>\n",
       "      <td>0</td>\n",
       "      <td>0</td>\n",
       "      <td>0</td>\n",
       "      <td>0</td>\n",
       "      <td>0</td>\n",
       "      <td>0</td>\n",
       "      <td>1</td>\n",
       "      <td>0</td>\n",
       "      <td>0</td>\n",
       "      <td>0</td>\n",
       "      <td>0</td>\n",
       "      <td>0</td>\n",
       "      <td>1</td>\n",
       "    </tr>\n",
       "    <tr>\n",
       "      <th>AGFA000000062422</th>\n",
       "      <td>0</td>\n",
       "      <td>0</td>\n",
       "      <td>0</td>\n",
       "      <td>0</td>\n",
       "      <td>0</td>\n",
       "      <td>1</td>\n",
       "      <td>0</td>\n",
       "      <td>0</td>\n",
       "      <td>0</td>\n",
       "      <td>0</td>\n",
       "      <td>1</td>\n",
       "      <td>0</td>\n",
       "      <td>0</td>\n",
       "      <td>0</td>\n",
       "      <td>1</td>\n",
       "    </tr>\n",
       "    <tr>\n",
       "      <th>AGFA000000062507</th>\n",
       "      <td>0</td>\n",
       "      <td>0</td>\n",
       "      <td>0</td>\n",
       "      <td>0</td>\n",
       "      <td>0</td>\n",
       "      <td>0</td>\n",
       "      <td>0</td>\n",
       "      <td>1</td>\n",
       "      <td>0</td>\n",
       "      <td>0</td>\n",
       "      <td>1</td>\n",
       "      <td>0</td>\n",
       "      <td>0</td>\n",
       "      <td>1</td>\n",
       "      <td>0</td>\n",
       "    </tr>\n",
       "    <tr>\n",
       "      <th>AGFA000000062562</th>\n",
       "      <td>0</td>\n",
       "      <td>1</td>\n",
       "      <td>0</td>\n",
       "      <td>0</td>\n",
       "      <td>0</td>\n",
       "      <td>1</td>\n",
       "      <td>0</td>\n",
       "      <td>0</td>\n",
       "      <td>0</td>\n",
       "      <td>0</td>\n",
       "      <td>0</td>\n",
       "      <td>0</td>\n",
       "      <td>0</td>\n",
       "      <td>1</td>\n",
       "      <td>0</td>\n",
       "    </tr>\n",
       "  </tbody>\n",
       "</table>\n",
       "</div>"
      ],
      "text/plain": [
       "DoctorID          doctor_000  doctor_001  doctor_002  doctor_003  doctor_004  \\\n",
       "AccessionNumber                                                                \n",
       "AGFA000000061588           0           0           1           0           0   \n",
       "AGFA000000061590           0           0           0           0           0   \n",
       "AGFA000000061613           0           0           0           0           0   \n",
       "AGFA000000061820           0           0           0           0           0   \n",
       "AGFA000000061951           0           1           1           0           0   \n",
       "AGFA000000062036           1           1           0           0           0   \n",
       "AGFA000000062311           0           1           0           0           0   \n",
       "AGFA000000062422           0           0           0           0           0   \n",
       "AGFA000000062507           0           0           0           0           0   \n",
       "AGFA000000062562           0           1           0           0           0   \n",
       "\n",
       "DoctorID          doctor_005  doctor_006  doctor_007  doctor_008  doctor_009  \\\n",
       "AccessionNumber                                                                \n",
       "AGFA000000061588           1           0           0           0           0   \n",
       "AGFA000000061590           1           0           0           0           1   \n",
       "AGFA000000061613           0           0           0           1           0   \n",
       "AGFA000000061820           0           1           0           0           0   \n",
       "AGFA000000061951           0           0           0           0           0   \n",
       "AGFA000000062036           0           1           0           0           0   \n",
       "AGFA000000062311           0           0           0           1           0   \n",
       "AGFA000000062422           1           0           0           0           0   \n",
       "AGFA000000062507           0           0           1           0           0   \n",
       "AGFA000000062562           1           0           0           0           0   \n",
       "\n",
       "DoctorID          doctor_010  doctor_011  doctor_012  doctor_013  doctor_014  \n",
       "AccessionNumber                                                               \n",
       "AGFA000000061588           1           0           0           0           0  \n",
       "AGFA000000061590           0           0           1           0           0  \n",
       "AGFA000000061613           0           0           0           1           1  \n",
       "AGFA000000061820           0           1           0           1           0  \n",
       "AGFA000000061951           0           0           0           1           0  \n",
       "AGFA000000062036           0           0           0           0           0  \n",
       "AGFA000000062311           0           0           0           0           1  \n",
       "AGFA000000062422           1           0           0           0           1  \n",
       "AGFA000000062507           1           0           0           1           0  \n",
       "AGFA000000062562           0           0           0           1           0  "
      ]
     },
     "execution_count": 4,
     "metadata": {},
     "output_type": "execute_result"
    }
   ],
   "source": [
    "annotators = radio.annotation.read_annotators_info(annotation_path, annotator_prefix='doctor_')\n",
    "annotators.head(10)"
   ]
  },
  {
   "cell_type": "markdown",
   "metadata": {},
   "source": [
    "Each row in **annotators** dataframe corresponds to AccessionNumber and represents those doctors who were annotating corresponding scan."
   ]
  },
  {
   "cell_type": "markdown",
   "metadata": {},
   "source": [
    "## Plotting distribution of nodules among doctors"
   ]
  },
  {
   "cell_type": "markdown",
   "metadata": {},
   "source": [
    "Below you can find code that plots bar chart for number of nodules that were annotated by each doctor:"
   ]
  },
  {
   "cell_type": "code",
   "execution_count": 5,
   "metadata": {},
   "outputs": [
    {
     "data": {
      "image/png": "[encoded data removed]",
      "text/plain": [
       "<matplotlib.figure.Figure at 0x7f032549c198>"
      ]
     },
     "metadata": {},
     "output_type": "display_data"
    }
   ],
   "source": [
    "plt.figure(figsize=(7, 5))\n",
    "ax = (\n",
    "    nodules\n",
    "    .set_index('AccessionNumber')\n",
    "    .merge(annotators, left_index=True, right_index=True)\n",
    "    .filter(regex='doctor_\\d{3}', axis=1)\n",
    "    .unstack()\n",
    "    .groupby(level=0)\n",
    "    .sum()\n",
    "    .plot(kind='bar', grid=True)\n",
    ")"
   ]
  },
  {
   "cell_type": "markdown",
   "metadata": {},
   "source": [
    "You can use **assign_nodules_group_index** function to add column *GroupNoduleID* that contains the same values\n",
    "for different overlapping nodules(commonly, that group of overlapping nodules is just annotations from different doctors):"
   ]
  },
  {
   "cell_type": "markdown",
   "metadata": {},
   "source": [
    "**Note**: before assigning nodules group index and uniting them into group you need to check that **[coordX, coordY, coordZ]** columns contain coordintates in mm. If coordinates provided in pixel scale you can make the following transform:"
   ]
  },
  {
   "cell_type": "code",
   "execution_count": 6,
   "metadata": {},
   "outputs": [],
   "source": [
    "dataset_info = (\n",
    "    radio.annotation.read_dataset_info('/media/kirill/data/ct_scans/part_08/*/*/*/*/*', index_col=None)\n",
    "    .drop_duplicates(subset=['AccessionNumber'])\n",
    "    .set_index('AccessionNumber')\n",
    ")\n",
    "\n",
    "nodules = (\n",
    "    radio.annotation.read_nodules('/media/kirill/data/ct_annotation/08_annotation.txt')\n",
    "    .set_index('AccessionNumber')\n",
    "    .assign(coordZ=lambda df: df.loc[:, 'coordZ'] * dataset_info.loc[df.index, 'SpacingZ'],\n",
    "            coordY=lambda df: df.loc[:, 'coordY'] * dataset_info.loc[df.index, 'SpacingY'],\n",
    "            coordX=lambda df: df.loc[:, 'coordX'] * dataset_info.loc[df.index, 'SpacingX'])\n",
    "    .reset_index()\n",
    ")"
   ]
  },
  {
   "cell_type": "markdown",
   "metadata": {},
   "source": [
    "As you can see, additional information about spacing in dataset's scans is required to do that. It can be easily obtained using **radio.annotation.read_dataset_info** function."
   ]
  },
  {
   "cell_type": "code",
   "execution_count": 7,
   "metadata": {},
   "outputs": [],
   "source": [
    "from radio.annotation import assign_nodules_group_index\n",
    "\n",
    "nodules_with_group_index = (\n",
    "    nodules\n",
    "    .set_index(['AccessionNumber', 'NoduleID'])\n",
    "    .groupby(level=0)\n",
    "    .apply(assign_nodules_group_index)\n",
    "    .reset_index()\n",
    ")"
   ]
  },
  {
   "cell_type": "code",
   "execution_count": 8,
   "metadata": {},
   "outputs": [
    {
     "data": {
      "text/html": [
       "<div>\n",
       "<style scoped>\n",
       "    .dataframe tbody tr th:only-of-type {\n",
       "        vertical-align: middle;\n",
       "    }\n",
       "\n",
       "    .dataframe tbody tr th {\n",
       "        vertical-align: top;\n",
       "    }\n",
       "\n",
       "    .dataframe thead th {\n",
       "        text-align: right;\n",
       "    }\n",
       "</style>\n",
       "<table border=\"1\" class=\"dataframe\">\n",
       "  <thead>\n",
       "    <tr style=\"text-align: right;\">\n",
       "      <th></th>\n",
       "      <th>AccessionNumber</th>\n",
       "      <th>NoduleID</th>\n",
       "      <th>DoctorID</th>\n",
       "      <th>NoduleType</th>\n",
       "      <th>coordX</th>\n",
       "      <th>coordY</th>\n",
       "      <th>coordZ</th>\n",
       "      <th>diameter_mm</th>\n",
       "      <th>GroupNoduleID</th>\n",
       "    </tr>\n",
       "  </thead>\n",
       "  <tbody>\n",
       "    <tr>\n",
       "      <th>0</th>\n",
       "      <td>AGFA000000061588</td>\n",
       "      <td>a001e3098903ae3f3779</td>\n",
       "      <td>002</td>\n",
       "      <td>solid</td>\n",
       "      <td>280.030</td>\n",
       "      <td>187.142</td>\n",
       "      <td>330.0</td>\n",
       "      <td>9.0</td>\n",
       "      <td>5b294861f327e53f5d79</td>\n",
       "    </tr>\n",
       "    <tr>\n",
       "      <th>1</th>\n",
       "      <td>AGFA000000061588</td>\n",
       "      <td>7a1ba45c3f45d53f54ad</td>\n",
       "      <td>002</td>\n",
       "      <td>semi_solid</td>\n",
       "      <td>98.352</td>\n",
       "      <td>242.465</td>\n",
       "      <td>221.0</td>\n",
       "      <td>5.0</td>\n",
       "      <td>aad16633eb79de3fc67b</td>\n",
       "    </tr>\n",
       "    <tr>\n",
       "      <th>2</th>\n",
       "      <td>AGFA000000061588</td>\n",
       "      <td>70bc04663c5fbb3f1f29</td>\n",
       "      <td>002</td>\n",
       "      <td>solid</td>\n",
       "      <td>111.329</td>\n",
       "      <td>103.816</td>\n",
       "      <td>134.0</td>\n",
       "      <td>5.0</td>\n",
       "      <td>fc18eeaf0ca8e43f48fc</td>\n",
       "    </tr>\n",
       "    <tr>\n",
       "      <th>3</th>\n",
       "      <td>AGFA000000061588</td>\n",
       "      <td>05ae56314e74e03f436b</td>\n",
       "      <td>002</td>\n",
       "      <td>semi_solid</td>\n",
       "      <td>108.597</td>\n",
       "      <td>110.646</td>\n",
       "      <td>133.0</td>\n",
       "      <td>4.0</td>\n",
       "      <td>c2bf2cea6a74e23f1908</td>\n",
       "    </tr>\n",
       "    <tr>\n",
       "      <th>4</th>\n",
       "      <td>AGFA000000061588</td>\n",
       "      <td>808e521d50c39f3f69a8</td>\n",
       "      <td>005</td>\n",
       "      <td>semi_solid</td>\n",
       "      <td>281.396</td>\n",
       "      <td>186.459</td>\n",
       "      <td>330.0</td>\n",
       "      <td>9.0</td>\n",
       "      <td>5b294861f327e53f5d79</td>\n",
       "    </tr>\n",
       "  </tbody>\n",
       "</table>\n",
       "</div>"
      ],
      "text/plain": [
       "    AccessionNumber              NoduleID DoctorID  NoduleType   coordX  \\\n",
       "0  AGFA000000061588  a001e3098903ae3f3779      002       solid  280.030   \n",
       "1  AGFA000000061588  7a1ba45c3f45d53f54ad      002  semi_solid   98.352   \n",
       "2  AGFA000000061588  70bc04663c5fbb3f1f29      002       solid  111.329   \n",
       "3  AGFA000000061588  05ae56314e74e03f436b      002  semi_solid  108.597   \n",
       "4  AGFA000000061588  808e521d50c39f3f69a8      005  semi_solid  281.396   \n",
       "\n",
       "    coordY  coordZ  diameter_mm         GroupNoduleID  \n",
       "0  187.142   330.0          9.0  5b294861f327e53f5d79  \n",
       "1  242.465   221.0          5.0  aad16633eb79de3fc67b  \n",
       "2  103.816   134.0          5.0  fc18eeaf0ca8e43f48fc  \n",
       "3  110.646   133.0          4.0  c2bf2cea6a74e23f1908  \n",
       "4  186.459   330.0          9.0  5b294861f327e53f5d79  "
      ]
     },
     "execution_count": 8,
     "metadata": {},
     "output_type": "execute_result"
    }
   ],
   "source": [
    "nodules_with_group_index.head()"
   ]
  },
  {
   "cell_type": "markdown",
   "metadata": {},
   "source": [
    "Let's plot number of nodules with different numbers of verifications for each doctor. Number of verifications represents number of overlapping nodules in group: "
   ]
  },
  {
   "cell_type": "code",
   "execution_count": 9,
   "metadata": {},
   "outputs": [
    {
     "name": "stderr",
     "output_type": "stream",
     "text": [
      "/home/kirill/anaconda3/envs/nn/lib/python3.6/site-packages/seaborn/categorical.py:1508: FutureWarning: remove_na is deprecated and is a private function. Do not use.\n",
      "  stat_data = remove_na(group_data[hue_mask])\n"
     ]
    },
    {
     "data": {
      "text/plain": [
       "<matplotlib.figure.Figure at 0x7f03248c2b70>"
      ]
     },
     "metadata": {},
     "output_type": "display_data"
    },
    {
     "data": {
      "image/png": "[encoded data removed]",
      "text/plain": [
       "<matplotlib.figure.Figure at 0x7f03248c2be0>"
      ]
     },
     "metadata": {},
     "output_type": "display_data"
    }
   ],
   "source": [
    "plt.figure(figsize=(7, 5))\n",
    "\n",
    "data = (\n",
    "    nodules_with_group_index\n",
    "    .set_index('GroupNoduleID')\n",
    "    .assign(verifications=lambda df: df.groupby(level=0).agg({'NoduleID': 'count'}))\n",
    "    .groupby(['DoctorID', 'verifications'])\n",
    "    .agg({'NoduleID': 'count'})\n",
    "    .query('verifications <= 3')\n",
    "    .reset_index()\n",
    ")\n",
    "\n",
    "plt.figure(figsize=(10, 7))\n",
    "sns.barplot(x='DoctorID', y='NoduleID', hue='verifications', data=data)\n",
    "plt.ylabel('Counts')\n",
    "plt.grid(True)"
   ]
  },
  {
   "cell_type": "markdown",
   "metadata": {},
   "source": [
    "## Gluing overlapping nodules together"
   ]
  },
  {
   "cell_type": "markdown",
   "metadata": {},
   "source": [
    "Due to the fact that each cancer nodule can be annotated by several doctors we need to have a way to group overlapping nodules and then cover them with one big nodule. Generally, we also want to take into account different weights for different nodules. Function **glue_nodules** from **radio.annotation** will do this work for you. There are two conditions:\n",
    "nodules dataframe must have confidence column that reflects the weight of nodule and **proba** parameter that is required for building normal-density approximation of covering nodule."
   ]
  },
  {
   "cell_type": "code",
   "execution_count": 10,
   "metadata": {},
   "outputs": [],
   "source": [
    "group_nodules = (\n",
    "    radio.annotation.read_nodules(annotation_path)\n",
    "    .set_index('AccessionNumber')\n",
    "    .assign(coordZ=lambda df: df.loc[:, 'coordZ'] * dataset_info.loc[df.index, 'SpacingZ'],\n",
    "            coordY=lambda df: df.loc[:, 'coordY'] * dataset_info.loc[df.index, 'SpacingY'],\n",
    "            coordX=lambda df: df.loc[:, 'coordX'] * dataset_info.loc[df.index, 'SpacingX'])\n",
    "    .reset_index()\n",
    "    .assign(NoduleConfidence=1)\n",
    "    .pipe(radio.annotation.get_nodules_groups, proba=0.8)\n",
    ")"
   ]
  },
  {
   "cell_type": "code",
   "execution_count": 11,
   "metadata": {},
   "outputs": [
    {
     "data": {
      "text/html": [
       "<div>\n",
       "<style scoped>\n",
       "    .dataframe tbody tr th:only-of-type {\n",
       "        vertical-align: middle;\n",
       "    }\n",
       "\n",
       "    .dataframe tbody tr th {\n",
       "        vertical-align: top;\n",
       "    }\n",
       "\n",
       "    .dataframe thead th {\n",
       "        text-align: right;\n",
       "    }\n",
       "</style>\n",
       "<table border=\"1\" class=\"dataframe\">\n",
       "  <thead>\n",
       "    <tr style=\"text-align: right;\">\n",
       "      <th></th>\n",
       "      <th>GroupNoduleID</th>\n",
       "      <th>AccessionNumber</th>\n",
       "      <th>NoduleConfidence</th>\n",
       "      <th>coordX</th>\n",
       "      <th>coordY</th>\n",
       "      <th>coordZ</th>\n",
       "      <th>diameter_mm</th>\n",
       "    </tr>\n",
       "  </thead>\n",
       "  <tbody>\n",
       "    <tr>\n",
       "      <th>0</th>\n",
       "      <td>00161f6d27337f3ffd86</td>\n",
       "      <td>AGFA000000067606</td>\n",
       "      <td>1.0</td>\n",
       "      <td>275.210000</td>\n",
       "      <td>217.906000</td>\n",
       "      <td>137.0</td>\n",
       "      <td>35.000000</td>\n",
       "    </tr>\n",
       "    <tr>\n",
       "      <th>1</th>\n",
       "      <td>004483ca506be03f2605</td>\n",
       "      <td>AGFA000000065447</td>\n",
       "      <td>1.0</td>\n",
       "      <td>279.620000</td>\n",
       "      <td>147.994000</td>\n",
       "      <td>307.0</td>\n",
       "      <td>9.000000</td>\n",
       "    </tr>\n",
       "    <tr>\n",
       "      <th>2</th>\n",
       "      <td>00ade49105dab33f3a87</td>\n",
       "      <td>AGFA000000065450</td>\n",
       "      <td>1.0</td>\n",
       "      <td>152.750667</td>\n",
       "      <td>283.344667</td>\n",
       "      <td>97.5</td>\n",
       "      <td>5.094253</td>\n",
       "    </tr>\n",
       "    <tr>\n",
       "      <th>3</th>\n",
       "      <td>00c88604cbc8413fc2db</td>\n",
       "      <td>AGFA000000067187</td>\n",
       "      <td>1.0</td>\n",
       "      <td>111.329000</td>\n",
       "      <td>119.525000</td>\n",
       "      <td>206.0</td>\n",
       "      <td>5.000000</td>\n",
       "    </tr>\n",
       "    <tr>\n",
       "      <th>4</th>\n",
       "      <td>00d33572fa0d743f8018</td>\n",
       "      <td>AGFA000000070333</td>\n",
       "      <td>1.0</td>\n",
       "      <td>113.220000</td>\n",
       "      <td>259.000000</td>\n",
       "      <td>307.0</td>\n",
       "      <td>9.000000</td>\n",
       "    </tr>\n",
       "  </tbody>\n",
       "</table>\n",
       "</div>"
      ],
      "text/plain": [
       "          GroupNoduleID   AccessionNumber  NoduleConfidence      coordX  \\\n",
       "0  00161f6d27337f3ffd86  AGFA000000067606               1.0  275.210000   \n",
       "1  004483ca506be03f2605  AGFA000000065447               1.0  279.620000   \n",
       "2  00ade49105dab33f3a87  AGFA000000065450               1.0  152.750667   \n",
       "3  00c88604cbc8413fc2db  AGFA000000067187               1.0  111.329000   \n",
       "4  00d33572fa0d743f8018  AGFA000000070333               1.0  113.220000   \n",
       "\n",
       "       coordY  coordZ  diameter_mm  \n",
       "0  217.906000   137.0    35.000000  \n",
       "1  147.994000   307.0     9.000000  \n",
       "2  283.344667    97.5     5.094253  \n",
       "3  119.525000   206.0     5.000000  \n",
       "4  259.000000   307.0     9.000000  "
      ]
     },
     "execution_count": 11,
     "metadata": {},
     "output_type": "execute_result"
    }
   ],
   "source": [
    "group_nodules.head()"
   ]
  },
  {
   "cell_type": "markdown",
   "metadata": {},
   "source": [
    "Source annotation contained more nodules then dataframe with glued nodules:"
   ]
  },
  {
   "cell_type": "code",
   "execution_count": 12,
   "metadata": {},
   "outputs": [
    {
     "data": {
      "text/plain": [
       "(678, 487)"
      ]
     },
     "execution_count": 12,
     "metadata": {},
     "output_type": "execute_result"
    }
   ],
   "source": [
    "nodules.shape[0], group_nodules.shape[0]"
   ]
  },
  {
   "cell_type": "markdown",
   "metadata": {},
   "source": [
    "Number of nodules reduced because we united overlapping nodules within the group into one nodule."
   ]
  },
  {
   "cell_type": "markdown",
   "metadata": {},
   "source": [
    "## Computing doctors and nodules confidences"
   ]
  },
  {
   "cell_type": "code",
   "execution_count": 13,
   "metadata": {},
   "outputs": [
    {
     "name": "stderr",
     "output_type": "stream",
     "text": [
      "100%|██████████| 8/8 [00:21<00:00,  2.75s/it]\n"
     ]
    }
   ],
   "source": [
    "from radio.annotation import get_doctors_confidences\n",
    "from radio.annotation import compute_nodule_confidence\n",
    "\n",
    "nodules_with_confidences = (\n",
    "    radio.annotation.read_nodules(annotation_path)\n",
    "    .set_index('AccessionNumber')\n",
    "    .assign(coordZ=lambda df: df.loc[:, 'coordZ'] * dataset_info.loc[df.index, 'SpacingZ'],\n",
    "            coordY=lambda df: df.loc[:, 'coordY'] * dataset_info.loc[df.index, 'SpacingY'],\n",
    "            coordX=lambda df: df.loc[:, 'coordX'] * dataset_info.loc[df.index, 'SpacingX'])\n",
    "    .merge(annotators, left_index=True, right_index=True)\n",
    "    .reset_index()\n",
    "    .pipe(get_doctors_confidences, smooth=4, n_iters=8)\n",
    "    .pipe(compute_nodule_confidence, alpha=0.5, weight_by_doctor=False)\n",
    "    .pipe(radio.annotation.get_nodules_groups, proba=0.8)\n",
    ")"
   ]
  },
  {
   "cell_type": "markdown",
   "metadata": {},
   "source": [
    "Let's have a look at distribution of nodules' confidence after min-max scaling:"
   ]
  },
  {
   "cell_type": "code",
   "execution_count": 18,
   "metadata": {},
   "outputs": [
    {
     "ename": "TypeError",
     "evalue": "distplot() got an unexpected keyword argument 'grid'",
     "output_type": "error",
     "traceback": [
      "\u001b[0;31m---------------------------------------------------------------------------\u001b[0m",
      "\u001b[0;31mTypeError\u001b[0m                                 Traceback (most recent call last)",
      "\u001b[0;32m<ipython-input-18-d7872b1f9a81>\u001b[0m in \u001b[0;36m<module>\u001b[0;34m()\u001b[0m\n\u001b[1;32m      4\u001b[0m \u001b[0mnodules_with_confidences\u001b[0m\u001b[0;34m.\u001b[0m\u001b[0mNoduleConfidence\u001b[0m \u001b[0;34m=\u001b[0m \u001b[0;34m(\u001b[0m\u001b[0mx\u001b[0m \u001b[0;34m-\u001b[0m \u001b[0mx\u001b[0m\u001b[0;34m.\u001b[0m\u001b[0mmin\u001b[0m\u001b[0;34m(\u001b[0m\u001b[0;34m)\u001b[0m\u001b[0;34m)\u001b[0m \u001b[0;34m/\u001b[0m \u001b[0;34m(\u001b[0m\u001b[0mx\u001b[0m\u001b[0;34m.\u001b[0m\u001b[0mmax\u001b[0m\u001b[0;34m(\u001b[0m\u001b[0;34m)\u001b[0m \u001b[0;34m-\u001b[0m \u001b[0mx\u001b[0m\u001b[0;34m.\u001b[0m\u001b[0mmin\u001b[0m\u001b[0;34m(\u001b[0m\u001b[0;34m)\u001b[0m\u001b[0;34m)\u001b[0m\u001b[0;34m\u001b[0m\u001b[0m\n\u001b[1;32m      5\u001b[0m \u001b[0;34m\u001b[0m\u001b[0m\n\u001b[0;32m----> 6\u001b[0;31m \u001b[0msns\u001b[0m\u001b[0;34m.\u001b[0m\u001b[0mdistplot\u001b[0m\u001b[0;34m(\u001b[0m\u001b[0mnodules_with_confidences\u001b[0m\u001b[0;34m.\u001b[0m\u001b[0mloc\u001b[0m\u001b[0;34m[\u001b[0m\u001b[0;34m:\u001b[0m\u001b[0;34m,\u001b[0m \u001b[0;34m'NoduleConfidence'\u001b[0m\u001b[0;34m]\u001b[0m\u001b[0;34m,\u001b[0m \u001b[0mgrid\u001b[0m\u001b[0;34m=\u001b[0m\u001b[0;32mTrue\u001b[0m\u001b[0;34m)\u001b[0m\u001b[0;34m\u001b[0m\u001b[0m\n\u001b[0m",
      "\u001b[0;31mTypeError\u001b[0m: distplot() got an unexpected keyword argument 'grid'"
     ]
    }
   ],
   "source": [
    "import seaborn as sns\n",
    "\n",
    "x = nodules_with_confidences.NoduleConfidence\n",
    "nodules_with_confidences.NoduleConfidence = (x - x.min()) / (x.max() - x.min())\n",
    "\n",
    "sns.distplot(nodules_with_confidences.loc[:, 'NoduleConfidence'], grid=True)"
   ]
  },
  {
   "cell_type": "markdown",
   "metadata": {},
   "source": [
    "## Creating dicom dataset's FilesIndex and Dataset objects"
   ]
  },
  {
   "cell_type": "code",
   "execution_count": 13,
   "metadata": {},
   "outputs": [],
   "source": [
    "from radio import dataset as ds\n",
    "from radio.dataset import V, B, F\n",
    "\n",
    "dataset_path = '/media/kirill/data/ct_scans/part_08/'\n",
    "dataset_info = (\n",
    "    radio.annotation.read_dataset_info(path='/media/kirill/data/ct_scans/part_08/*/*/*/*/*')\n",
    "    .drop_duplicates(subset=['AccessionNumber'])\n",
    "    .set_index('AccessionNumber')\n",
    ")\n",
    "ct_index = ds.FilesIndex(dataset_info.index.values, paths=dict(dataset_info.loc[:, 'ScanPath']), dirs=True)\n",
    "ct_dataset = ds.Dataset(ct_index, batch_class=radio.CTImagesMaskedBatch)"
   ]
  },
  {
   "cell_type": "markdown",
   "metadata": {},
   "source": [
    "Remember that input dataframe for **fetch_nodules_info** actions requires *seriesuid* column:"
   ]
  },
  {
   "cell_type": "code",
   "execution_count": 14,
   "metadata": {},
   "outputs": [
    {
     "data": {
      "text/html": [
       "<div>\n",
       "<style scoped>\n",
       "    .dataframe tbody tr th:only-of-type {\n",
       "        vertical-align: middle;\n",
       "    }\n",
       "\n",
       "    .dataframe tbody tr th {\n",
       "        vertical-align: top;\n",
       "    }\n",
       "\n",
       "    .dataframe thead th {\n",
       "        text-align: right;\n",
       "    }\n",
       "</style>\n",
       "<table border=\"1\" class=\"dataframe\">\n",
       "  <thead>\n",
       "    <tr style=\"text-align: right;\">\n",
       "      <th></th>\n",
       "      <th>AccessionNumber</th>\n",
       "      <th>DoctorID</th>\n",
       "      <th>NoduleID</th>\n",
       "      <th>NoduleType</th>\n",
       "      <th>coordX</th>\n",
       "      <th>coordY</th>\n",
       "      <th>coordZ</th>\n",
       "      <th>diameter_mm</th>\n",
       "      <th>seriesuid</th>\n",
       "    </tr>\n",
       "  </thead>\n",
       "  <tbody>\n",
       "    <tr>\n",
       "      <th>40</th>\n",
       "      <td>AGFA000000061588</td>\n",
       "      <td>002</td>\n",
       "      <td>14c4419196e7ea3f18c0</td>\n",
       "      <td>solid</td>\n",
       "      <td>410.0</td>\n",
       "      <td>274.0</td>\n",
       "      <td>330.0</td>\n",
       "      <td>9.0</td>\n",
       "      <td>AGFA000000061588</td>\n",
       "    </tr>\n",
       "    <tr>\n",
       "      <th>41</th>\n",
       "      <td>AGFA000000061588</td>\n",
       "      <td>002</td>\n",
       "      <td>5259b71fb095d63ffcba</td>\n",
       "      <td>semi_solid</td>\n",
       "      <td>144.0</td>\n",
       "      <td>355.0</td>\n",
       "      <td>221.0</td>\n",
       "      <td>5.0</td>\n",
       "      <td>AGFA000000061588</td>\n",
       "    </tr>\n",
       "    <tr>\n",
       "      <th>45</th>\n",
       "      <td>AGFA000000061588</td>\n",
       "      <td>002</td>\n",
       "      <td>804807d38498b73f5068</td>\n",
       "      <td>solid</td>\n",
       "      <td>163.0</td>\n",
       "      <td>152.0</td>\n",
       "      <td>134.0</td>\n",
       "      <td>5.0</td>\n",
       "      <td>AGFA000000061588</td>\n",
       "    </tr>\n",
       "    <tr>\n",
       "      <th>46</th>\n",
       "      <td>AGFA000000061588</td>\n",
       "      <td>002</td>\n",
       "      <td>28505d4d9679e53f31c9</td>\n",
       "      <td>semi_solid</td>\n",
       "      <td>159.0</td>\n",
       "      <td>162.0</td>\n",
       "      <td>133.0</td>\n",
       "      <td>4.0</td>\n",
       "      <td>AGFA000000061588</td>\n",
       "    </tr>\n",
       "    <tr>\n",
       "      <th>80</th>\n",
       "      <td>AGFA000000061588</td>\n",
       "      <td>005</td>\n",
       "      <td>cadfd11cac49d23f861c</td>\n",
       "      <td>semi_solid</td>\n",
       "      <td>412.0</td>\n",
       "      <td>273.0</td>\n",
       "      <td>330.0</td>\n",
       "      <td>9.0</td>\n",
       "      <td>AGFA000000061588</td>\n",
       "    </tr>\n",
       "  </tbody>\n",
       "</table>\n",
       "</div>"
      ],
      "text/plain": [
       "     AccessionNumber DoctorID              NoduleID  NoduleType  coordX  \\\n",
       "40  AGFA000000061588      002  14c4419196e7ea3f18c0       solid   410.0   \n",
       "41  AGFA000000061588      002  5259b71fb095d63ffcba  semi_solid   144.0   \n",
       "45  AGFA000000061588      002  804807d38498b73f5068       solid   163.0   \n",
       "46  AGFA000000061588      002  28505d4d9679e53f31c9  semi_solid   159.0   \n",
       "80  AGFA000000061588      005  cadfd11cac49d23f861c  semi_solid   412.0   \n",
       "\n",
       "    coordY  coordZ  diameter_mm         seriesuid  \n",
       "40   274.0   330.0          9.0  AGFA000000061588  \n",
       "41   355.0   221.0          5.0  AGFA000000061588  \n",
       "45   152.0   134.0          5.0  AGFA000000061588  \n",
       "46   162.0   133.0          4.0  AGFA000000061588  \n",
       "80   273.0   330.0          9.0  AGFA000000061588  "
      ]
     },
     "execution_count": 14,
     "metadata": {},
     "output_type": "execute_result"
    }
   ],
   "source": [
    "ct_nodules = (\n",
    "    radio.annotation.read_nodules(annotation_path)\n",
    "    .assign(seriesuid=lambda df: df.loc[:, 'AccessionNumber'])\n",
    ")\n",
    "ct_nodules.head()"
   ]
  },
  {
   "cell_type": "markdown",
   "metadata": {},
   "source": [
    "There is one major problem connected with annotation provided by radiologists: coordinates of nodules' centers are provided in pixel scale while diameter has 'mm' scale. If we simply put nodules as an argument of **fetch_nodules_info** function, we will get wrong masks. This could be avoided if both nodules' centers coordinates and diameter were provided in 'mm' scale. However in that case we would need to transform nodules dataframe using info about spacing and origin from all dataset. It is very expensive operation because fetching origin for all scans in dataset will require to read all CT scans in RAM. Fortunatelly, there is an alternative solution: transform coords 'on-the-fly' using F-named expression from dataset submodule in a combination with inverse transform using spacing and origin from batch:"
   ]
  },
  {
   "cell_type": "code",
   "execution_count": 15,
   "metadata": {},
   "outputs": [],
   "source": [
    "def inverse_spacing_origin_transform(batch, nodules):\n",
    "    \"\"\" Transform spacing and origin in nodules dataframe on fly. \"\"\"\n",
    "    indices = np.intersect1d(nodules.seriesuid.values, batch.indices)\n",
    "\n",
    "    nodules = nodules.set_index('seriesuid')\n",
    "    if len(indices) > 0:\n",
    "        nodules = nodules.loc[indices, :]\n",
    "        pos = batch.index.get_pos(nodules.index)\n",
    "\n",
    "        nodules.loc[:, 'coordZ'] *= batch.spacing[pos, 0]\n",
    "        nodules.loc[:, 'coordY'] *= batch.spacing[pos, 1]\n",
    "        nodules.loc[:, 'coordX'] *= batch.spacing[pos, 2]\n",
    "\n",
    "        nodules.loc[:, 'coordZ'] += batch.origin[pos, 0]\n",
    "        nodules.loc[:, 'coordY'] += batch.origin[pos, 1]\n",
    "        nodules.loc[:, 'coordX'] += batch.origin[pos, 2]\n",
    "\n",
    "    return nodules.reset_index()"
   ]
  },
  {
   "cell_type": "code",
   "execution_count": 16,
   "metadata": {},
   "outputs": [],
   "source": [
    "sample_nodules_ppl = ct_dataset >> (\n",
    "    ds.Pipeline()\n",
    "    .load(fmt='dicom')\n",
    "    .fetch_nodules_info(nodules=F(inverse_spacing_origin_transform, nodules=ct_nodules))\n",
    "    .unify_spacing(shape=(400, 512, 512), spacing=(1.7, 1.0, 1.0), method='pil-simd')\n",
    "    .normalize_hu()\n",
    "    .create_mask()\n",
    "    .sample_nodules(nodule_size=(32, 64, 64), batch_size=None, share=1.0)\n",
    ")"
   ]
  },
  {
   "cell_type": "markdown",
   "metadata": {},
   "source": [
    "If we want to use **group_nodules** dataframe that was created earlier, we don't need to transform coordinates using inverse spacing transform: we have already done this before computation of overlapping groups. In that case only inverse origin transform must be applied. As an alternative to this we can just set origin to zeros after loading scans:"
   ]
  },
  {
   "cell_type": "code",
   "execution_count": 17,
   "metadata": {},
   "outputs": [],
   "source": [
    "sample_nodules_ppl = ct_dataset >> (\n",
    "    ds.Pipeline()\n",
    "    .load(fmt='dicom')\n",
    "    .load(fmt='ndarray', origin=F(lambda batch: np.zeros_like(batch.origin)))\n",
    "    .fetch_nodules_info(nodules=group_nodules.assign(seriesuid=lambda df: df.loc[:, 'AccessionNumber']))\n",
    "    .normalize_hu()\n",
    "    .create_mask()\n",
    "    .sample_nodules(nodule_size=(32, 64, 64), batch_size=None, share=1.0)\n",
    ")"
   ]
  },
  {
   "cell_type": "markdown",
   "metadata": {},
   "source": [
    "Let's generate batch with crops sampled from two scans:"
   ]
  },
  {
   "cell_type": "code",
   "execution_count": 18,
   "metadata": {},
   "outputs": [],
   "source": [
    "batch = sample_nodules_ppl.next_batch(batch_size=2)"
   ]
  },
  {
   "cell_type": "markdown",
   "metadata": {},
   "source": [
    "Now we can plot obtained nodules and visually verify built masks:"
   ]
  },
  {
   "cell_type": "code",
   "execution_count": 20,
   "metadata": {},
   "outputs": [
    {
     "data": {
      "text/plain": [
       "<matplotlib.image.AxesImage at 0x7f85b9ed6860>"
      ]
     },
     "execution_count": 20,
     "metadata": {},
     "output_type": "execute_result"
    },
    {
     "data": {
      "image/png": "[encoded data removed]",
      "text/plain": [
       "<matplotlib.figure.Figure at 0x7f85ba8d3d30>"
      ]
     },
     "metadata": {},
     "output_type": "display_data"
    }
   ],
   "source": [
    "plt.figure(figsize=(10, 8))\n",
    "\n",
    "image, mask = batch.get(2, 'images'), batch.get(2, 'masks')\n",
    "\n",
    "ax_image = plt.subplot('131')\n",
    "ax_image.imshow(image[16, :, :])\n",
    "\n",
    "ax_mask = plt.subplot('132')\n",
    "ax_mask.imshow(mask[16, :, :])\n",
    "\n",
    "ax_mask_image = plt.subplot('133')\n",
    "ax_mask_image.imshow(mask[16, :, :] * image[16, :, :])"
   ]
  },
  {
   "cell_type": "code",
   "execution_count": null,
   "metadata": {},
   "outputs": [],
   "source": []
  }
 ],
 "metadata": {
  "kernelspec": {
   "display_name": "Python 3",
   "language": "python",
   "name": "python3"
  },
  "language_info": {
   "codemirror_mode": {
    "name": "ipython",
    "version": 3
   },
   "file_extension": ".py",
   "mimetype": "text/x-python",
   "name": "python",
   "nbconvert_exporter": "python",
   "pygments_lexer": "ipython3",
   "version": "3.6.2"
  }
 },
 "nbformat": 4,
 "nbformat_minor": 2
}
