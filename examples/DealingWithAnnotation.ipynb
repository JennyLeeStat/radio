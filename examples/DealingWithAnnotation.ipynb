{
 "cells": [
  {
   "cell_type": "code",
   "execution_count": 1,
   "metadata": {},
   "outputs": [
    {
     "name": "stderr",
     "output_type": "stream",
     "text": [
      "/usr/local/lib/python3.5/dist-packages/h5py/__init__.py:36: FutureWarning: Conversion of the second argument of issubdtype from `float` to `np.floating` is deprecated. In future, it will be treated as `np.float64 == np.dtype(float).type`.\n",
      "  from ._conv import register_converters as _register_converters\n",
      "/usr/local/lib/python3.5/dist-packages/dicom/__init__.py:53: UserWarning: \n",
      "This code is using an older version of pydicom, which is no longer \n",
      "maintained as of Jan 2017.  You can access the new pydicom features and API \n",
      "by installing `pydicom` from PyPI.\n",
      "See 'Transitioning to pydicom 1.x' section at pydicom.readthedocs.org \n",
      "for more information.\n",
      "\n",
      "  warnings.warn(msg)\n",
      "Using TensorFlow backend.\n"
     ]
    }
   ],
   "source": [
    "import os\n",
    "import sys\n",
    "sys.path.append('..')\n",
    "import radio\n",
    "import radio.annotation\n",
    "import glob\n",
    "import numpy as np\n",
    "import pandas as pd\n",
    "import matplotlib.pyplot as plt\n",
    "import seaborn as sns\n",
    "%matplotlib inline"
   ]
  },
  {
   "cell_type": "markdown",
   "metadata": {},
   "source": [
    "## Reading annotation file"
   ]
  },
  {
   "cell_type": "markdown",
   "metadata": {},
   "source": [
    "Submodule **radio.utils** contains **read_nodules** function that accepts path to annotation file as it's first argument:"
   ]
  },
  {
   "cell_type": "code",
   "execution_count": 2,
   "metadata": {},
   "outputs": [],
   "source": [
    "annotation_path = '/notebooks/data/CT/npcmr/ct_annotation/08_annotation.txt'\n",
    "dicom_path = '/notebooks/data/CT/npcmr/08/*/*/*/*/*'\n",
    "blosc_path = '/notebooks/ct/npcmr_blosc/*'"
   ]
  },
  {
   "cell_type": "code",
   "execution_count": 3,
   "metadata": {},
   "outputs": [
    {
     "data": {
      "text/html": [
       "<div>\n",
       "<style scoped>\n",
       "    .dataframe tbody tr th:only-of-type {\n",
       "        vertical-align: middle;\n",
       "    }\n",
       "\n",
       "    .dataframe tbody tr th {\n",
       "        vertical-align: top;\n",
       "    }\n",
       "\n",
       "    .dataframe thead th {\n",
       "        text-align: right;\n",
       "    }\n",
       "</style>\n",
       "<table border=\"1\" class=\"dataframe\">\n",
       "  <thead>\n",
       "    <tr style=\"text-align: right;\">\n",
       "      <th></th>\n",
       "      <th>DoctorID</th>\n",
       "      <th>NoduleID</th>\n",
       "      <th>NoduleType</th>\n",
       "      <th>coordX</th>\n",
       "      <th>coordY</th>\n",
       "      <th>coordZ</th>\n",
       "      <th>diameter_mm</th>\n",
       "      <th>seriesid</th>\n",
       "    </tr>\n",
       "  </thead>\n",
       "  <tbody>\n",
       "    <tr>\n",
       "      <th>40</th>\n",
       "      <td>002</td>\n",
       "      <td>60753926bd11ba3ff6da</td>\n",
       "      <td>solid</td>\n",
       "      <td>410.0</td>\n",
       "      <td>274.0</td>\n",
       "      <td>330.0</td>\n",
       "      <td>9.0</td>\n",
       "      <td>AGFA000000061588</td>\n",
       "    </tr>\n",
       "    <tr>\n",
       "      <th>41</th>\n",
       "      <td>002</td>\n",
       "      <td>85dfda222eace23f3c85</td>\n",
       "      <td>semi_solid</td>\n",
       "      <td>144.0</td>\n",
       "      <td>355.0</td>\n",
       "      <td>221.0</td>\n",
       "      <td>5.0</td>\n",
       "      <td>AGFA000000061588</td>\n",
       "    </tr>\n",
       "    <tr>\n",
       "      <th>45</th>\n",
       "      <td>002</td>\n",
       "      <td>9004928a6ff6b83f3824</td>\n",
       "      <td>solid</td>\n",
       "      <td>163.0</td>\n",
       "      <td>152.0</td>\n",
       "      <td>134.0</td>\n",
       "      <td>5.0</td>\n",
       "      <td>AGFA000000061588</td>\n",
       "    </tr>\n",
       "    <tr>\n",
       "      <th>46</th>\n",
       "      <td>002</td>\n",
       "      <td>9ea0a868b118ec3f8c14</td>\n",
       "      <td>semi_solid</td>\n",
       "      <td>159.0</td>\n",
       "      <td>162.0</td>\n",
       "      <td>133.0</td>\n",
       "      <td>4.0</td>\n",
       "      <td>AGFA000000061588</td>\n",
       "    </tr>\n",
       "    <tr>\n",
       "      <th>80</th>\n",
       "      <td>005</td>\n",
       "      <td>42ad81d03753dc3fb8db</td>\n",
       "      <td>semi_solid</td>\n",
       "      <td>412.0</td>\n",
       "      <td>273.0</td>\n",
       "      <td>330.0</td>\n",
       "      <td>9.0</td>\n",
       "      <td>AGFA000000061588</td>\n",
       "    </tr>\n",
       "    <tr>\n",
       "      <th>120</th>\n",
       "      <td>010</td>\n",
       "      <td>90f1037b841aae3f5c96</td>\n",
       "      <td>solid</td>\n",
       "      <td>410.0</td>\n",
       "      <td>273.0</td>\n",
       "      <td>331.0</td>\n",
       "      <td>9.0</td>\n",
       "      <td>AGFA000000061588</td>\n",
       "    </tr>\n",
       "    <tr>\n",
       "      <th>122</th>\n",
       "      <td>010</td>\n",
       "      <td>e7f6cbcc25a5e33fc429</td>\n",
       "      <td>solid</td>\n",
       "      <td>202.0</td>\n",
       "      <td>165.0</td>\n",
       "      <td>203.0</td>\n",
       "      <td>8.0</td>\n",
       "      <td>AGFA000000061588</td>\n",
       "    </tr>\n",
       "    <tr>\n",
       "      <th>123</th>\n",
       "      <td>010</td>\n",
       "      <td>bdf279f4d118e93f34bd</td>\n",
       "      <td>solid</td>\n",
       "      <td>192.0</td>\n",
       "      <td>211.0</td>\n",
       "      <td>195.0</td>\n",
       "      <td>5.0</td>\n",
       "      <td>AGFA000000061588</td>\n",
       "    </tr>\n",
       "    <tr>\n",
       "      <th>124</th>\n",
       "      <td>010</td>\n",
       "      <td>2dca280ec259eb3fa090</td>\n",
       "      <td>solid</td>\n",
       "      <td>183.0</td>\n",
       "      <td>325.0</td>\n",
       "      <td>143.0</td>\n",
       "      <td>5.0</td>\n",
       "      <td>AGFA000000061588</td>\n",
       "    </tr>\n",
       "    <tr>\n",
       "      <th>280</th>\n",
       "      <td>008</td>\n",
       "      <td>21127dd798eeeb3f9d75</td>\n",
       "      <td>solid</td>\n",
       "      <td>162.0</td>\n",
       "      <td>369.0</td>\n",
       "      <td>365.0</td>\n",
       "      <td>12.0</td>\n",
       "      <td>AGFA000000061613</td>\n",
       "    </tr>\n",
       "  </tbody>\n",
       "</table>\n",
       "</div>"
      ],
      "text/plain": [
       "    DoctorID              NoduleID  NoduleType  coordX  coordY  coordZ  \\\n",
       "40       002  60753926bd11ba3ff6da       solid   410.0   274.0   330.0   \n",
       "41       002  85dfda222eace23f3c85  semi_solid   144.0   355.0   221.0   \n",
       "45       002  9004928a6ff6b83f3824       solid   163.0   152.0   134.0   \n",
       "46       002  9ea0a868b118ec3f8c14  semi_solid   159.0   162.0   133.0   \n",
       "80       005  42ad81d03753dc3fb8db  semi_solid   412.0   273.0   330.0   \n",
       "120      010  90f1037b841aae3f5c96       solid   410.0   273.0   331.0   \n",
       "122      010  e7f6cbcc25a5e33fc429       solid   202.0   165.0   203.0   \n",
       "123      010  bdf279f4d118e93f34bd       solid   192.0   211.0   195.0   \n",
       "124      010  2dca280ec259eb3fa090       solid   183.0   325.0   143.0   \n",
       "280      008  21127dd798eeeb3f9d75       solid   162.0   369.0   365.0   \n",
       "\n",
       "     diameter_mm          seriesid  \n",
       "40           9.0  AGFA000000061588  \n",
       "41           5.0  AGFA000000061588  \n",
       "45           5.0  AGFA000000061588  \n",
       "46           4.0  AGFA000000061588  \n",
       "80           9.0  AGFA000000061588  \n",
       "120          9.0  AGFA000000061588  \n",
       "122          8.0  AGFA000000061588  \n",
       "123          5.0  AGFA000000061588  \n",
       "124          5.0  AGFA000000061588  \n",
       "280         12.0  AGFA000000061613  "
      ]
     },
     "execution_count": 3,
     "metadata": {},
     "output_type": "execute_result"
    }
   ],
   "source": [
    "nodules = radio.annotation.read_nodules(annotation_path)\n",
    "nodules.head(10)"
   ]
  },
  {
   "cell_type": "markdown",
   "metadata": {},
   "source": [
    "If you need to get information about doctors that annotated each scan you can just use function **read_annotators_info**:"
   ]
  },
  {
   "cell_type": "code",
   "execution_count": 4,
   "metadata": {},
   "outputs": [
    {
     "data": {
      "text/html": [
       "<div>\n",
       "<style scoped>\n",
       "    .dataframe tbody tr th:only-of-type {\n",
       "        vertical-align: middle;\n",
       "    }\n",
       "\n",
       "    .dataframe tbody tr th {\n",
       "        vertical-align: top;\n",
       "    }\n",
       "\n",
       "    .dataframe thead th {\n",
       "        text-align: right;\n",
       "    }\n",
       "</style>\n",
       "<table border=\"1\" class=\"dataframe\">\n",
       "  <thead>\n",
       "    <tr style=\"text-align: right;\">\n",
       "      <th>DoctorID</th>\n",
       "      <th>doctor_000</th>\n",
       "      <th>doctor_001</th>\n",
       "      <th>doctor_002</th>\n",
       "      <th>doctor_003</th>\n",
       "      <th>doctor_004</th>\n",
       "      <th>doctor_005</th>\n",
       "      <th>doctor_006</th>\n",
       "      <th>doctor_007</th>\n",
       "      <th>doctor_008</th>\n",
       "      <th>doctor_009</th>\n",
       "      <th>doctor_010</th>\n",
       "      <th>doctor_011</th>\n",
       "      <th>doctor_012</th>\n",
       "      <th>doctor_013</th>\n",
       "      <th>doctor_014</th>\n",
       "    </tr>\n",
       "    <tr>\n",
       "      <th>seriesid</th>\n",
       "      <th></th>\n",
       "      <th></th>\n",
       "      <th></th>\n",
       "      <th></th>\n",
       "      <th></th>\n",
       "      <th></th>\n",
       "      <th></th>\n",
       "      <th></th>\n",
       "      <th></th>\n",
       "      <th></th>\n",
       "      <th></th>\n",
       "      <th></th>\n",
       "      <th></th>\n",
       "      <th></th>\n",
       "      <th></th>\n",
       "    </tr>\n",
       "  </thead>\n",
       "  <tbody>\n",
       "    <tr>\n",
       "      <th>AGFA000000061588</th>\n",
       "      <td>0</td>\n",
       "      <td>0</td>\n",
       "      <td>1</td>\n",
       "      <td>0</td>\n",
       "      <td>0</td>\n",
       "      <td>1</td>\n",
       "      <td>0</td>\n",
       "      <td>0</td>\n",
       "      <td>0</td>\n",
       "      <td>0</td>\n",
       "      <td>1</td>\n",
       "      <td>0</td>\n",
       "      <td>0</td>\n",
       "      <td>0</td>\n",
       "      <td>0</td>\n",
       "    </tr>\n",
       "    <tr>\n",
       "      <th>AGFA000000061590</th>\n",
       "      <td>0</td>\n",
       "      <td>0</td>\n",
       "      <td>0</td>\n",
       "      <td>0</td>\n",
       "      <td>0</td>\n",
       "      <td>1</td>\n",
       "      <td>0</td>\n",
       "      <td>0</td>\n",
       "      <td>0</td>\n",
       "      <td>1</td>\n",
       "      <td>0</td>\n",
       "      <td>0</td>\n",
       "      <td>1</td>\n",
       "      <td>0</td>\n",
       "      <td>0</td>\n",
       "    </tr>\n",
       "    <tr>\n",
       "      <th>AGFA000000061613</th>\n",
       "      <td>0</td>\n",
       "      <td>0</td>\n",
       "      <td>0</td>\n",
       "      <td>0</td>\n",
       "      <td>0</td>\n",
       "      <td>0</td>\n",
       "      <td>0</td>\n",
       "      <td>0</td>\n",
       "      <td>1</td>\n",
       "      <td>0</td>\n",
       "      <td>0</td>\n",
       "      <td>0</td>\n",
       "      <td>0</td>\n",
       "      <td>1</td>\n",
       "      <td>1</td>\n",
       "    </tr>\n",
       "    <tr>\n",
       "      <th>AGFA000000061820</th>\n",
       "      <td>0</td>\n",
       "      <td>0</td>\n",
       "      <td>0</td>\n",
       "      <td>0</td>\n",
       "      <td>0</td>\n",
       "      <td>0</td>\n",
       "      <td>1</td>\n",
       "      <td>0</td>\n",
       "      <td>0</td>\n",
       "      <td>0</td>\n",
       "      <td>0</td>\n",
       "      <td>1</td>\n",
       "      <td>0</td>\n",
       "      <td>1</td>\n",
       "      <td>0</td>\n",
       "    </tr>\n",
       "    <tr>\n",
       "      <th>AGFA000000061951</th>\n",
       "      <td>0</td>\n",
       "      <td>1</td>\n",
       "      <td>1</td>\n",
       "      <td>0</td>\n",
       "      <td>0</td>\n",
       "      <td>0</td>\n",
       "      <td>0</td>\n",
       "      <td>0</td>\n",
       "      <td>0</td>\n",
       "      <td>0</td>\n",
       "      <td>0</td>\n",
       "      <td>0</td>\n",
       "      <td>0</td>\n",
       "      <td>1</td>\n",
       "      <td>0</td>\n",
       "    </tr>\n",
       "    <tr>\n",
       "      <th>AGFA000000062036</th>\n",
       "      <td>1</td>\n",
       "      <td>1</td>\n",
       "      <td>0</td>\n",
       "      <td>0</td>\n",
       "      <td>0</td>\n",
       "      <td>0</td>\n",
       "      <td>1</td>\n",
       "      <td>0</td>\n",
       "      <td>0</td>\n",
       "      <td>0</td>\n",
       "      <td>0</td>\n",
       "      <td>0</td>\n",
       "      <td>0</td>\n",
       "      <td>0</td>\n",
       "      <td>0</td>\n",
       "    </tr>\n",
       "    <tr>\n",
       "      <th>AGFA000000062311</th>\n",
       "      <td>0</td>\n",
       "      <td>1</td>\n",
       "      <td>0</td>\n",
       "      <td>0</td>\n",
       "      <td>0</td>\n",
       "      <td>0</td>\n",
       "      <td>0</td>\n",
       "      <td>0</td>\n",
       "      <td>1</td>\n",
       "      <td>0</td>\n",
       "      <td>0</td>\n",
       "      <td>0</td>\n",
       "      <td>0</td>\n",
       "      <td>0</td>\n",
       "      <td>1</td>\n",
       "    </tr>\n",
       "    <tr>\n",
       "      <th>AGFA000000062422</th>\n",
       "      <td>0</td>\n",
       "      <td>0</td>\n",
       "      <td>0</td>\n",
       "      <td>0</td>\n",
       "      <td>0</td>\n",
       "      <td>1</td>\n",
       "      <td>0</td>\n",
       "      <td>0</td>\n",
       "      <td>0</td>\n",
       "      <td>0</td>\n",
       "      <td>1</td>\n",
       "      <td>0</td>\n",
       "      <td>0</td>\n",
       "      <td>0</td>\n",
       "      <td>1</td>\n",
       "    </tr>\n",
       "    <tr>\n",
       "      <th>AGFA000000062507</th>\n",
       "      <td>0</td>\n",
       "      <td>0</td>\n",
       "      <td>0</td>\n",
       "      <td>0</td>\n",
       "      <td>0</td>\n",
       "      <td>0</td>\n",
       "      <td>0</td>\n",
       "      <td>1</td>\n",
       "      <td>0</td>\n",
       "      <td>0</td>\n",
       "      <td>1</td>\n",
       "      <td>0</td>\n",
       "      <td>0</td>\n",
       "      <td>1</td>\n",
       "      <td>0</td>\n",
       "    </tr>\n",
       "    <tr>\n",
       "      <th>AGFA000000062562</th>\n",
       "      <td>0</td>\n",
       "      <td>1</td>\n",
       "      <td>0</td>\n",
       "      <td>0</td>\n",
       "      <td>0</td>\n",
       "      <td>1</td>\n",
       "      <td>0</td>\n",
       "      <td>0</td>\n",
       "      <td>0</td>\n",
       "      <td>0</td>\n",
       "      <td>0</td>\n",
       "      <td>0</td>\n",
       "      <td>0</td>\n",
       "      <td>1</td>\n",
       "      <td>0</td>\n",
       "    </tr>\n",
       "  </tbody>\n",
       "</table>\n",
       "</div>"
      ],
      "text/plain": [
       "DoctorID          doctor_000  doctor_001  doctor_002  doctor_003  doctor_004  \\\n",
       "seriesid                                                                       \n",
       "AGFA000000061588           0           0           1           0           0   \n",
       "AGFA000000061590           0           0           0           0           0   \n",
       "AGFA000000061613           0           0           0           0           0   \n",
       "AGFA000000061820           0           0           0           0           0   \n",
       "AGFA000000061951           0           1           1           0           0   \n",
       "AGFA000000062036           1           1           0           0           0   \n",
       "AGFA000000062311           0           1           0           0           0   \n",
       "AGFA000000062422           0           0           0           0           0   \n",
       "AGFA000000062507           0           0           0           0           0   \n",
       "AGFA000000062562           0           1           0           0           0   \n",
       "\n",
       "DoctorID          doctor_005  doctor_006  doctor_007  doctor_008  doctor_009  \\\n",
       "seriesid                                                                       \n",
       "AGFA000000061588           1           0           0           0           0   \n",
       "AGFA000000061590           1           0           0           0           1   \n",
       "AGFA000000061613           0           0           0           1           0   \n",
       "AGFA000000061820           0           1           0           0           0   \n",
       "AGFA000000061951           0           0           0           0           0   \n",
       "AGFA000000062036           0           1           0           0           0   \n",
       "AGFA000000062311           0           0           0           1           0   \n",
       "AGFA000000062422           1           0           0           0           0   \n",
       "AGFA000000062507           0           0           1           0           0   \n",
       "AGFA000000062562           1           0           0           0           0   \n",
       "\n",
       "DoctorID          doctor_010  doctor_011  doctor_012  doctor_013  doctor_014  \n",
       "seriesid                                                                      \n",
       "AGFA000000061588           1           0           0           0           0  \n",
       "AGFA000000061590           0           0           1           0           0  \n",
       "AGFA000000061613           0           0           0           1           1  \n",
       "AGFA000000061820           0           1           0           1           0  \n",
       "AGFA000000061951           0           0           0           1           0  \n",
       "AGFA000000062036           0           0           0           0           0  \n",
       "AGFA000000062311           0           0           0           0           1  \n",
       "AGFA000000062422           1           0           0           0           1  \n",
       "AGFA000000062507           1           0           0           1           0  \n",
       "AGFA000000062562           0           0           0           1           0  "
      ]
     },
     "execution_count": 4,
     "metadata": {},
     "output_type": "execute_result"
    }
   ],
   "source": [
    "annotators = radio.annotation.read_annotators_info(annotation_path, annotator_prefix='doctor_')\n",
    "annotators.head(10)"
   ]
  },
  {
   "cell_type": "markdown",
   "metadata": {},
   "source": [
    "Each row in **annotators** dataframe corresponds to AccessionNumber and represents those doctors who were annotating corresponding scan."
   ]
  },
  {
   "cell_type": "markdown",
   "metadata": {},
   "source": [
    "## Plotting distribution of nodules among doctors"
   ]
  },
  {
   "cell_type": "markdown",
   "metadata": {},
   "source": [
    "Below you can find code that plots bar chart for number of nodules that were annotated by each doctor:"
   ]
  },
  {
   "cell_type": "code",
   "execution_count": 5,
   "metadata": {},
   "outputs": [
    {
     "data": {
      "image/png": "[encoded data removed]",
      "text/plain": [
       "<Figure size 504x360 with 1 Axes>"
      ]
     },
     "metadata": {},
     "output_type": "display_data"
    }
   ],
   "source": [
    "plt.figure(figsize=(7, 5))\n",
    "ax = (\n",
    "    nodules\n",
    "    .set_index('seriesid')\n",
    "    .merge(annotators, left_index=True, right_index=True)\n",
    "    .filter(regex='doctor_\\d{3}', axis=1)\n",
    "    .unstack()\n",
    "    .groupby(level=0)\n",
    "    .sum()\n",
    "    .plot(kind='bar', grid=True)\n",
    ")"
   ]
  },
  {
   "cell_type": "markdown",
   "metadata": {},
   "source": [
    "You can use **assign_nodules_group_index** function to add column *GroupNoduleID* that contains the same values\n",
    "for different overlapping nodules(commonly, that group of overlapping nodules is just annotations from different doctors):"
   ]
  },
  {
   "cell_type": "markdown",
   "metadata": {},
   "source": [
    "**Note**: before assigning nodules group index and uniting them into group you need to check that **[coordX, coordY, coordZ]** columns contain coordintates in mm. If coordinates provided in pixel scale you can make the following transform:"
   ]
  },
  {
   "cell_type": "code",
   "execution_count": 6,
   "metadata": {},
   "outputs": [
    {
     "name": "stderr",
     "output_type": "stream",
     "text": [
      "/usr/local/lib/python3.5/dist-packages/pandas/core/indexing.py:1020: FutureWarning: \n",
      "Passing list-likes to .loc or [] with any missing label will raise\n",
      "KeyError in the future, you can use .reindex() as an alternative.\n",
      "\n",
      "See the documentation here:\n",
      "http://pandas.pydata.org/pandas-docs/stable/indexing.html#deprecate-loc-reindex-listlike\n",
      "  return getattr(section, self.name)[new_key]\n"
     ]
    }
   ],
   "source": [
    "dataset_info = (\n",
    "    radio.annotation.read_dataset_info(blosc_path, index_col=None, fmt='blosc')\n",
    "    .drop_duplicates(subset=['seriesid'])\n",
    "    .set_index('seriesid')\n",
    ")\n",
    "\n",
    "nodules = (\n",
    "    radio.annotation.read_nodules(annotation_path)\n",
    "    .set_index('seriesid')\n",
    "    .assign(coordZ=lambda df: df.loc[:, 'coordZ'] * dataset_info.loc[df.index, 'SpacingZ'] + dataset_info.loc[df.index, 'OriginZ'],\n",
    "            coordY=lambda df: df.loc[:, 'coordY'] * dataset_info.loc[df.index, 'SpacingY'] + dataset_info.loc[df.index, 'OriginY'],\n",
    "            coordX=lambda df: df.loc[:, 'coordX'] * dataset_info.loc[df.index, 'SpacingX'] + dataset_info.loc[df.index, 'OriginX'])\n",
    "    .reset_index()\n",
    ")"
   ]
  },
  {
   "cell_type": "markdown",
   "metadata": {},
   "source": [
    "As you can see, additional information about spacing in dataset's scans is required to do that. It can be easily obtained using **radio.annotation.read_dataset_info** function."
   ]
  },
  {
   "cell_type": "code",
   "execution_count": 7,
   "metadata": {},
   "outputs": [],
   "source": [
    "from radio.annotation import assign_nodules_group_index\n",
    "\n",
    "nodules_with_group_index = (\n",
    "    nodules\n",
    "    .set_index(['seriesid', 'NoduleID'])\n",
    "    .groupby(level=0)\n",
    "    .apply(assign_nodules_group_index)\n",
    "    .reset_index()\n",
    ")"
   ]
  },
  {
   "cell_type": "code",
   "execution_count": 8,
   "metadata": {},
   "outputs": [
    {
     "data": {
      "text/html": [
       "<div>\n",
       "<style scoped>\n",
       "    .dataframe tbody tr th:only-of-type {\n",
       "        vertical-align: middle;\n",
       "    }\n",
       "\n",
       "    .dataframe tbody tr th {\n",
       "        vertical-align: top;\n",
       "    }\n",
       "\n",
       "    .dataframe thead th {\n",
       "        text-align: right;\n",
       "    }\n",
       "</style>\n",
       "<table border=\"1\" class=\"dataframe\">\n",
       "  <thead>\n",
       "    <tr style=\"text-align: right;\">\n",
       "      <th></th>\n",
       "      <th>seriesid</th>\n",
       "      <th>NoduleID</th>\n",
       "      <th>DoctorID</th>\n",
       "      <th>NoduleType</th>\n",
       "      <th>coordX</th>\n",
       "      <th>coordY</th>\n",
       "      <th>coordZ</th>\n",
       "      <th>diameter_mm</th>\n",
       "      <th>GroupNoduleID</th>\n",
       "    </tr>\n",
       "  </thead>\n",
       "  <tbody>\n",
       "    <tr>\n",
       "      <th>0</th>\n",
       "      <td>AGFA000000061588</td>\n",
       "      <td>201ca4d76033a53f4be3</td>\n",
       "      <td>002</td>\n",
       "      <td>solid</td>\n",
       "      <td>105.3718</td>\n",
       "      <td>12.484</td>\n",
       "      <td>13.5</td>\n",
       "      <td>9.0</td>\n",
       "      <td>f842e711530edb3f5472</td>\n",
       "    </tr>\n",
       "    <tr>\n",
       "      <th>1</th>\n",
       "      <td>AGFA000000061588</td>\n",
       "      <td>be7bb9ffab0ed63fc4cf</td>\n",
       "      <td>002</td>\n",
       "      <td>semi_solid</td>\n",
       "      <td>-76.3062</td>\n",
       "      <td>67.807</td>\n",
       "      <td>-95.5</td>\n",
       "      <td>5.0</td>\n",
       "      <td>640ea0ab87c1e63fb481</td>\n",
       "    </tr>\n",
       "    <tr>\n",
       "      <th>2</th>\n",
       "      <td>AGFA000000061588</td>\n",
       "      <td>80f6bc43d2b9c73fa35c</td>\n",
       "      <td>002</td>\n",
       "      <td>solid</td>\n",
       "      <td>-63.3292</td>\n",
       "      <td>-70.842</td>\n",
       "      <td>-182.5</td>\n",
       "      <td>5.0</td>\n",
       "      <td>5490038b46efd43f4287</td>\n",
       "    </tr>\n",
       "    <tr>\n",
       "      <th>3</th>\n",
       "      <td>AGFA000000061588</td>\n",
       "      <td>08165ad15269bc3fce3c</td>\n",
       "      <td>002</td>\n",
       "      <td>semi_solid</td>\n",
       "      <td>-66.0612</td>\n",
       "      <td>-64.012</td>\n",
       "      <td>-183.5</td>\n",
       "      <td>4.0</td>\n",
       "      <td>10b6b56a39adda3f82c2</td>\n",
       "    </tr>\n",
       "    <tr>\n",
       "      <th>4</th>\n",
       "      <td>AGFA000000061588</td>\n",
       "      <td>4016128bf6668c3f08ae</td>\n",
       "      <td>005</td>\n",
       "      <td>semi_solid</td>\n",
       "      <td>106.7378</td>\n",
       "      <td>11.801</td>\n",
       "      <td>13.5</td>\n",
       "      <td>9.0</td>\n",
       "      <td>f842e711530edb3f5472</td>\n",
       "    </tr>\n",
       "  </tbody>\n",
       "</table>\n",
       "</div>"
      ],
      "text/plain": [
       "           seriesid              NoduleID DoctorID  NoduleType    coordX  \\\n",
       "0  AGFA000000061588  201ca4d76033a53f4be3      002       solid  105.3718   \n",
       "1  AGFA000000061588  be7bb9ffab0ed63fc4cf      002  semi_solid  -76.3062   \n",
       "2  AGFA000000061588  80f6bc43d2b9c73fa35c      002       solid  -63.3292   \n",
       "3  AGFA000000061588  08165ad15269bc3fce3c      002  semi_solid  -66.0612   \n",
       "4  AGFA000000061588  4016128bf6668c3f08ae      005  semi_solid  106.7378   \n",
       "\n",
       "   coordY  coordZ  diameter_mm         GroupNoduleID  \n",
       "0  12.484    13.5          9.0  f842e711530edb3f5472  \n",
       "1  67.807   -95.5          5.0  640ea0ab87c1e63fb481  \n",
       "2 -70.842  -182.5          5.0  5490038b46efd43f4287  \n",
       "3 -64.012  -183.5          4.0  10b6b56a39adda3f82c2  \n",
       "4  11.801    13.5          9.0  f842e711530edb3f5472  "
      ]
     },
     "execution_count": 8,
     "metadata": {},
     "output_type": "execute_result"
    }
   ],
   "source": [
    "nodules_with_group_index.head()"
   ]
  },
  {
   "cell_type": "markdown",
   "metadata": {},
   "source": [
    "Let's plot number of nodules with different numbers of verifications for each doctor. Number of verifications represents number of overlapping nodules in group: "
   ]
  },
  {
   "cell_type": "code",
   "execution_count": 9,
   "metadata": {},
   "outputs": [
    {
     "data": {
      "text/plain": [
       "<Figure size 504x360 with 0 Axes>"
      ]
     },
     "metadata": {},
     "output_type": "display_data"
    },
    {
     "data": {
      "image/png": "[encoded data removed]",
      "text/plain": [
       "<Figure size 720x504 with 1 Axes>"
      ]
     },
     "metadata": {},
     "output_type": "display_data"
    }
   ],
   "source": [
    "plt.figure(figsize=(7, 5))\n",
    "\n",
    "data = (\n",
    "    nodules_with_group_index\n",
    "    .set_index('GroupNoduleID')\n",
    "    .assign(verifications=lambda df: df.groupby(level=0).agg({'NoduleID': 'count'}))\n",
    "    .groupby(['DoctorID', 'verifications'])\n",
    "    .agg({'NoduleID': 'count'})\n",
    "    .query('verifications <= 3')\n",
    "    .reset_index()\n",
    ")\n",
    "\n",
    "plt.figure(figsize=(10, 7))\n",
    "sns.barplot(x='DoctorID', y='NoduleID', hue='verifications', data=data)\n",
    "plt.ylabel('Counts')\n",
    "plt.grid(True)"
   ]
  },
  {
   "cell_type": "markdown",
   "metadata": {},
   "source": [
    "## Gluing overlapping nodules together"
   ]
  },
  {
   "cell_type": "markdown",
   "metadata": {},
   "source": [
    "Due to the fact that each cancer nodule can be annotated by several doctors we need to have a way to group overlapping nodules and then cover them with one big nodule. Generally, we also want to take into account different weights for different nodules. Function **glue_nodules** from **radio.annotation** will do this work for you. There are two conditions:\n",
    "nodules dataframe must have confidence column that reflects the weight of nodule and **proba** parameter that is required for building normal-density approximation of covering nodule."
   ]
  },
  {
   "cell_type": "code",
   "execution_count": 10,
   "metadata": {},
   "outputs": [],
   "source": [
    "columns = ['SpacingZ', 'SpacingY', 'SpacingX', 'OriginZ', 'OriginY', 'OriginX']\n",
    "\n",
    "group_nodules = (\n",
    "    radio.annotation.read_nodules(annotation_path)\n",
    "    .merge(dataset_info[columns].reset_index(), on='seriesid', how='inner')\n",
    "    .assign(coordZ=lambda df: df.loc[:, 'coordZ'] * df.loc[df.index, 'SpacingZ'] + df.loc[df.index, 'OriginZ'],\n",
    "            coordY=lambda df: df.loc[:, 'coordY'] * df.loc[df.index, 'SpacingY'] + df.loc[df.index, 'OriginY'],\n",
    "            coordX=lambda df: df.loc[:, 'coordX'] * df.loc[df.index, 'SpacingX'] + df.loc[df.index, 'OriginX'])\n",
    "    .reset_index()\n",
    "    .assign(NoduleConfidence=1)\n",
    "    .drop(columns, axis=1)\n",
    "    .pipe(radio.annotation.get_nodules_groups, proba=0.8)\n",
    ")"
   ]
  },
  {
   "cell_type": "code",
   "execution_count": 11,
   "metadata": {},
   "outputs": [
    {
     "data": {
      "text/html": [
       "<div>\n",
       "<style scoped>\n",
       "    .dataframe tbody tr th:only-of-type {\n",
       "        vertical-align: middle;\n",
       "    }\n",
       "\n",
       "    .dataframe tbody tr th {\n",
       "        vertical-align: top;\n",
       "    }\n",
       "\n",
       "    .dataframe thead th {\n",
       "        text-align: right;\n",
       "    }\n",
       "</style>\n",
       "<table border=\"1\" class=\"dataframe\">\n",
       "  <thead>\n",
       "    <tr style=\"text-align: right;\">\n",
       "      <th></th>\n",
       "      <th>GroupNoduleID</th>\n",
       "      <th>NoduleConfidence</th>\n",
       "      <th>coordX</th>\n",
       "      <th>coordY</th>\n",
       "      <th>coordZ</th>\n",
       "      <th>diameter_mm</th>\n",
       "      <th>seriesid</th>\n",
       "    </tr>\n",
       "  </thead>\n",
       "  <tbody>\n",
       "    <tr>\n",
       "      <th>0</th>\n",
       "      <td>000fbbbc346f8a3f8483</td>\n",
       "      <td>1.0</td>\n",
       "      <td>-32.0108</td>\n",
       "      <td>42.423</td>\n",
       "      <td>-496.8000</td>\n",
       "      <td>4.000000</td>\n",
       "      <td>AGFA000000068349</td>\n",
       "    </tr>\n",
       "    <tr>\n",
       "      <th>1</th>\n",
       "      <td>0045152258f67d3f1a7c</td>\n",
       "      <td>1.0</td>\n",
       "      <td>-66.0612</td>\n",
       "      <td>-64.012</td>\n",
       "      <td>-183.5000</td>\n",
       "      <td>4.000000</td>\n",
       "      <td>AGFA000000061588</td>\n",
       "    </tr>\n",
       "    <tr>\n",
       "      <th>2</th>\n",
       "      <td>0056994da89c9f3f2ab5</td>\n",
       "      <td>1.0</td>\n",
       "      <td>-49.6603</td>\n",
       "      <td>58.660</td>\n",
       "      <td>-504.5000</td>\n",
       "      <td>5.500000</td>\n",
       "      <td>AGFA000000063927</td>\n",
       "    </tr>\n",
       "    <tr>\n",
       "      <th>3</th>\n",
       "      <td>005ee74d4cb0c83fa822</td>\n",
       "      <td>1.0</td>\n",
       "      <td>-28.8885</td>\n",
       "      <td>55.656</td>\n",
       "      <td>-470.7999</td>\n",
       "      <td>5.522681</td>\n",
       "      <td>AGFA000000069251</td>\n",
       "    </tr>\n",
       "    <tr>\n",
       "      <th>4</th>\n",
       "      <td>0067a4cf3251c73f2e08</td>\n",
       "      <td>1.0</td>\n",
       "      <td>-94.8956</td>\n",
       "      <td>-55.268</td>\n",
       "      <td>-488.0000</td>\n",
       "      <td>6.000000</td>\n",
       "      <td>AGFA000000068971</td>\n",
       "    </tr>\n",
       "  </tbody>\n",
       "</table>\n",
       "</div>"
      ],
      "text/plain": [
       "          GroupNoduleID  NoduleConfidence   coordX  coordY    coordZ  \\\n",
       "0  000fbbbc346f8a3f8483               1.0 -32.0108  42.423 -496.8000   \n",
       "1  0045152258f67d3f1a7c               1.0 -66.0612 -64.012 -183.5000   \n",
       "2  0056994da89c9f3f2ab5               1.0 -49.6603  58.660 -504.5000   \n",
       "3  005ee74d4cb0c83fa822               1.0 -28.8885  55.656 -470.7999   \n",
       "4  0067a4cf3251c73f2e08               1.0 -94.8956 -55.268 -488.0000   \n",
       "\n",
       "   diameter_mm          seriesid  \n",
       "0     4.000000  AGFA000000068349  \n",
       "1     4.000000  AGFA000000061588  \n",
       "2     5.500000  AGFA000000063927  \n",
       "3     5.522681  AGFA000000069251  \n",
       "4     6.000000  AGFA000000068971  "
      ]
     },
     "execution_count": 11,
     "metadata": {},
     "output_type": "execute_result"
    }
   ],
   "source": [
    "group_nodules.head()"
   ]
  },
  {
   "cell_type": "markdown",
   "metadata": {},
   "source": [
    "Source annotation contained more nodules then dataframe with glued nodules:"
   ]
  },
  {
   "cell_type": "code",
   "execution_count": 12,
   "metadata": {},
   "outputs": [
    {
     "data": {
      "text/plain": [
       "(678, 453)"
      ]
     },
     "execution_count": 12,
     "metadata": {},
     "output_type": "execute_result"
    }
   ],
   "source": [
    "nodules.shape[0], group_nodules.shape[0]"
   ]
  },
  {
   "cell_type": "markdown",
   "metadata": {},
   "source": [
    "Number of nodules reduced because we united overlapping nodules within the group into one nodule."
   ]
  },
  {
   "cell_type": "markdown",
   "metadata": {},
   "source": [
    "## Computing doctors and nodules confidences"
   ]
  },
  {
   "cell_type": "code",
   "execution_count": 13,
   "metadata": {},
   "outputs": [
    {
     "name": "stderr",
     "output_type": "stream",
     "text": [
      "100%|██████████| 8/8 [00:14<00:00,  1.82s/it]\n"
     ]
    }
   ],
   "source": [
    "from radio.annotation import get_doctors_confidences\n",
    "from radio.annotation import compute_nodule_confidence\n",
    "\n",
    "nodules_with_confidences = (\n",
    "    radio.annotation.read_nodules(annotation_path)\n",
    "    .merge(dataset_info[columns].reset_index(), on='seriesid', how='inner')\n",
    "    .assign(coordZ=lambda df: df.loc[:, 'coordZ'] * df.loc[df.index, 'SpacingZ'] + df.loc[df.index, 'OriginZ'],\n",
    "            coordY=lambda df: df.loc[:, 'coordY'] * df.loc[df.index, 'SpacingY'] + df.loc[df.index, 'OriginY'],\n",
    "            coordX=lambda df: df.loc[:, 'coordX'] * df.loc[df.index, 'SpacingX'] + df.loc[df.index, 'OriginX'])\n",
    "    .reset_index()\n",
    "    .pipe(get_doctors_confidences, smooth=4, n_iters=8)\n",
    "    .pipe(compute_nodule_confidence, alpha=0.5, weight_by_doctor=False)\n",
    "    .pipe(radio.annotation.get_nodules_groups, proba=0.8)\n",
    ")"
   ]
  },
  {
   "cell_type": "markdown",
   "metadata": {},
   "source": [
    "Let's have a look at distribution of nodules' confidence after min-max scaling:"
   ]
  },
  {
   "cell_type": "code",
   "execution_count": 14,
   "metadata": {},
   "outputs": [
    {
     "name": "stderr",
     "output_type": "stream",
     "text": [
      "/usr/local/lib/python3.5/dist-packages/matplotlib/axes/_axes.py:6462: UserWarning: The 'normed' kwarg is deprecated, and has been replaced by the 'density' kwarg.\n",
      "  warnings.warn(\"The 'normed' kwarg is deprecated, and has been \"\n"
     ]
    },
    {
     "data": {
      "text/plain": [
       "<matplotlib.axes._subplots.AxesSubplot at 0x7fa5b8d7ee48>"
      ]
     },
     "execution_count": 14,
     "metadata": {},
     "output_type": "execute_result"
    },
    {
     "data": {
      "image/png": "[encoded data removed]",
      "text/plain": [
       "<Figure size 432x288 with 1 Axes>"
      ]
     },
     "metadata": {},
     "output_type": "display_data"
    }
   ],
   "source": [
    "import seaborn as sns\n",
    "\n",
    "x = nodules_with_confidences.NoduleConfidence\n",
    "nodules_with_confidences.NoduleConfidence = (x - x.min()) / (x.max() - x.min())\n",
    "\n",
    "sns.distplot(nodules_with_confidences.loc[:, 'NoduleConfidence'])"
   ]
  },
  {
   "cell_type": "markdown",
   "metadata": {},
   "source": [
    "## Creating dicom dataset's FilesIndex and Dataset objects"
   ]
  },
  {
   "cell_type": "code",
   "execution_count": 15,
   "metadata": {},
   "outputs": [],
   "source": [
    "from radio import dataset as ds\n",
    "from radio.dataset import V, B, F\n",
    "\n",
    "ct_index = ds.FilesIndex(dataset_info.index.values, paths=dict(dataset_info.loc[:, 'ScanPath']), dirs=True)\n",
    "ct_dataset = ds.Dataset(ct_index, batch_class=radio.CTImagesMaskedBatch)"
   ]
  },
  {
   "cell_type": "markdown",
   "metadata": {},
   "source": [
    "Remember that input dataframe for **fetch_nodules_info** actions requires *seriesuid* column:"
   ]
  },
  {
   "cell_type": "code",
   "execution_count": 16,
   "metadata": {},
   "outputs": [
    {
     "data": {
      "text/html": [
       "<div>\n",
       "<style scoped>\n",
       "    .dataframe tbody tr th:only-of-type {\n",
       "        vertical-align: middle;\n",
       "    }\n",
       "\n",
       "    .dataframe tbody tr th {\n",
       "        vertical-align: top;\n",
       "    }\n",
       "\n",
       "    .dataframe thead th {\n",
       "        text-align: right;\n",
       "    }\n",
       "</style>\n",
       "<table border=\"1\" class=\"dataframe\">\n",
       "  <thead>\n",
       "    <tr style=\"text-align: right;\">\n",
       "      <th></th>\n",
       "      <th>DoctorID</th>\n",
       "      <th>NoduleID</th>\n",
       "      <th>NoduleType</th>\n",
       "      <th>coordX</th>\n",
       "      <th>coordY</th>\n",
       "      <th>coordZ</th>\n",
       "      <th>diameter_mm</th>\n",
       "      <th>seriesid</th>\n",
       "    </tr>\n",
       "  </thead>\n",
       "  <tbody>\n",
       "    <tr>\n",
       "      <th>40</th>\n",
       "      <td>002</td>\n",
       "      <td>00f17715b32fcb3f987b</td>\n",
       "      <td>solid</td>\n",
       "      <td>410.0</td>\n",
       "      <td>274.0</td>\n",
       "      <td>330.0</td>\n",
       "      <td>9.0</td>\n",
       "      <td>AGFA000000061588</td>\n",
       "    </tr>\n",
       "    <tr>\n",
       "      <th>41</th>\n",
       "      <td>002</td>\n",
       "      <td>40c66c129053b63fcc9d</td>\n",
       "      <td>semi_solid</td>\n",
       "      <td>144.0</td>\n",
       "      <td>355.0</td>\n",
       "      <td>221.0</td>\n",
       "      <td>5.0</td>\n",
       "      <td>AGFA000000061588</td>\n",
       "    </tr>\n",
       "    <tr>\n",
       "      <th>45</th>\n",
       "      <td>002</td>\n",
       "      <td>aa401fe7c994df3fee38</td>\n",
       "      <td>solid</td>\n",
       "      <td>163.0</td>\n",
       "      <td>152.0</td>\n",
       "      <td>134.0</td>\n",
       "      <td>5.0</td>\n",
       "      <td>AGFA000000061588</td>\n",
       "    </tr>\n",
       "    <tr>\n",
       "      <th>46</th>\n",
       "      <td>002</td>\n",
       "      <td>2444ce933e88e33f5262</td>\n",
       "      <td>semi_solid</td>\n",
       "      <td>159.0</td>\n",
       "      <td>162.0</td>\n",
       "      <td>133.0</td>\n",
       "      <td>4.0</td>\n",
       "      <td>AGFA000000061588</td>\n",
       "    </tr>\n",
       "    <tr>\n",
       "      <th>80</th>\n",
       "      <td>005</td>\n",
       "      <td>006f6acaea98b23f4020</td>\n",
       "      <td>semi_solid</td>\n",
       "      <td>412.0</td>\n",
       "      <td>273.0</td>\n",
       "      <td>330.0</td>\n",
       "      <td>9.0</td>\n",
       "      <td>AGFA000000061588</td>\n",
       "    </tr>\n",
       "  </tbody>\n",
       "</table>\n",
       "</div>"
      ],
      "text/plain": [
       "   DoctorID              NoduleID  NoduleType  coordX  coordY  coordZ  \\\n",
       "40      002  00f17715b32fcb3f987b       solid   410.0   274.0   330.0   \n",
       "41      002  40c66c129053b63fcc9d  semi_solid   144.0   355.0   221.0   \n",
       "45      002  aa401fe7c994df3fee38       solid   163.0   152.0   134.0   \n",
       "46      002  2444ce933e88e33f5262  semi_solid   159.0   162.0   133.0   \n",
       "80      005  006f6acaea98b23f4020  semi_solid   412.0   273.0   330.0   \n",
       "\n",
       "    diameter_mm          seriesid  \n",
       "40          9.0  AGFA000000061588  \n",
       "41          5.0  AGFA000000061588  \n",
       "45          5.0  AGFA000000061588  \n",
       "46          4.0  AGFA000000061588  \n",
       "80          9.0  AGFA000000061588  "
      ]
     },
     "execution_count": 16,
     "metadata": {},
     "output_type": "execute_result"
    }
   ],
   "source": [
    "ct_nodules = (\n",
    "    radio.annotation.read_nodules(annotation_path)\n",
    ")\n",
    "ct_nodules.head()"
   ]
  },
  {
   "cell_type": "markdown",
   "metadata": {},
   "source": [
    "There is one major problem connected with annotation provided by radiologists: coordinates of nodules' centers are provided in pixel scale while diameter has 'mm' scale. If we simply put nodules as an argument of **fetch_nodules_info** function, we will get wrong masks. This could be avoided if both nodules' centers coordinates and diameter were provided in 'mm' scale. However in that case we would need to transform nodules dataframe using info about spacing and origin from all dataset. It is very expensive operation because fetching origin for all scans in dataset will require to read all CT scans in RAM. Fortunatelly, there is an alternative solution: transform coords 'on-the-fly' using F-named expression from dataset submodule in a combination with inverse transform using spacing and origin from batch:"
   ]
  },
  {
   "cell_type": "code",
   "execution_count": 17,
   "metadata": {},
   "outputs": [],
   "source": [
    "def inverse_spacing_origin_transform(batch, nodules):\n",
    "    \"\"\" Transform spacing and origin in nodules dataframe on fly. \"\"\"\n",
    "    indices = np.intersect1d(nodules.seriesuid.values, batch.indices)\n",
    "\n",
    "    nodules = nodules.set_index('seriesuid')\n",
    "    if len(indices) > 0:\n",
    "        nodules = nodules.loc[indices, :]\n",
    "        pos = batch.index.get_pos(nodules.index)\n",
    "\n",
    "        nodules.loc[:, 'coordZ'] *= batch.spacing[pos, 0]\n",
    "        nodules.loc[:, 'coordY'] *= batch.spacing[pos, 1]\n",
    "        nodules.loc[:, 'coordX'] *= batch.spacing[pos, 2]\n",
    "\n",
    "        nodules.loc[:, 'coordZ'] += batch.origin[pos, 0]\n",
    "        nodules.loc[:, 'coordY'] += batch.origin[pos, 1]\n",
    "        nodules.loc[:, 'coordX'] += batch.origin[pos, 2]\n",
    "\n",
    "    return nodules.reset_index()"
   ]
  },
  {
   "cell_type": "code",
   "execution_count": 18,
   "metadata": {},
   "outputs": [],
   "source": [
    "sample_nodules_ppl = ct_dataset >> (\n",
    "    ds.Pipeline()\n",
    "    .load(fmt='blosc', components=['images', 'spacing', 'origin'])\n",
    "    .fetch_nodules_info(nodules=F(inverse_spacing_origin_transform, nodules=ct_nodules))\n",
    "    .unify_spacing(shape=(400, 512, 512), spacing=(1.7, 1.0, 1.0), method='pil-simd')\n",
    "    .normalize_hu()\n",
    "    .create_mask()\n",
    "    .sample_nodules(nodule_size=(32, 64, 64), batch_size=None, share=1.0)\n",
    ")"
   ]
  },
  {
   "cell_type": "markdown",
   "metadata": {},
   "source": [
    "If we want to use **group_nodules** dataframe that was created earlier, we don't need to transform coordinates using inverse spacing transform: we have already done this before computation of overlapping groups. In that case only inverse origin transform must be applied. As an alternative to this we can just set origin to zeros after loading scans:"
   ]
  },
  {
   "cell_type": "code",
   "execution_count": 19,
   "metadata": {},
   "outputs": [],
   "source": [
    "sample_nodules_ppl = ct_dataset >> (\n",
    "    ds.Pipeline()\n",
    "    .load(fmt='blosc', components=['images', 'spacing', 'origin'])\n",
    "    .fetch_nodules_info(nodules=group_nodules.assign(seriesuid=lambda df: df.loc[:, 'seriesid']))\n",
    "    .normalize_hu()\n",
    "    .create_mask()\n",
    "    .sample_nodules(nodule_size=(32, 64, 64), batch_size=None, share=1.0)\n",
    ")"
   ]
  },
  {
   "cell_type": "markdown",
   "metadata": {},
   "source": [
    "Let's generate batch with crops sampled from two scans:"
   ]
  },
  {
   "cell_type": "code",
   "execution_count": 20,
   "metadata": {},
   "outputs": [],
   "source": [
    "batch = sample_nodules_ppl.next_batch(batch_size=2)"
   ]
  },
  {
   "cell_type": "markdown",
   "metadata": {},
   "source": [
    "Now we can plot obtained nodules and visually verify built masks:"
   ]
  },
  {
   "cell_type": "code",
   "execution_count": 21,
   "metadata": {},
   "outputs": [
    {
     "data": {
      "text/plain": [
       "<matplotlib.image.AxesImage at 0x7fa59d0587f0>"
      ]
     },
     "execution_count": 21,
     "metadata": {},
     "output_type": "execute_result"
    },
    {
     "data": {
      "image/png": "[encoded data removed]",
      "text/plain": [
       "<Figure size 720x576 with 3 Axes>"
      ]
     },
     "metadata": {},
     "output_type": "display_data"
    }
   ],
   "source": [
    "plt.figure(figsize=(10, 8))\n",
    "\n",
    "image, mask = batch.get(2, 'images'), batch.get(2, 'masks')\n",
    "\n",
    "ax_image = plt.subplot('131')\n",
    "ax_image.imshow(image[16, :, :])\n",
    "\n",
    "ax_mask = plt.subplot('132')\n",
    "ax_mask.imshow(mask[16, :, :])\n",
    "\n",
    "ax_mask_image = plt.subplot('133')\n",
    "ax_mask_image.imshow(mask[16, :, :] * image[16, :, :])"
   ]
  }
 ],
 "metadata": {
  "kernelspec": {
   "display_name": "Python 3",
   "language": "python",
   "name": "python3"
  },
  "language_info": {
   "codemirror_mode": {
    "name": "ipython",
    "version": 3
   },
   "file_extension": ".py",
   "mimetype": "text/x-python",
   "name": "python",
   "nbconvert_exporter": "python",
   "pygments_lexer": "ipython3",
   "version": "3.5.2"
  }
 },
 "nbformat": 4,
 "nbformat_minor": 2
}
