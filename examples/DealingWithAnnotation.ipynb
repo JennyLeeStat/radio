{
 "cells": [
  {
   "cell_type": "code",
   "execution_count": 1,
   "metadata": {},
   "outputs": [
    {
     "name": "stderr",
     "output_type": "stream",
     "text": [
      "/home/kirill/anaconda3/envs/nn/lib/python3.6/importlib/_bootstrap.py:205: RuntimeWarning: compiletime version 3.5 of module 'tensorflow.python.framework.fast_tensor_util' does not match runtime version 3.6\n",
      "  return f(*args, **kwds)\n",
      "Using TensorFlow backend.\n"
     ]
    }
   ],
   "source": [
    "import os\n",
    "import sys\n",
    "# sys.path.append('..')\n",
    "import radio\n",
    "import radio.annotation\n",
    "import glob\n",
    "import numpy as np\n",
    "import pandas as pd\n",
    "import matplotlib.pyplot as plt\n",
    "import seaborn as sns\n",
    "%matplotlib inline"
   ]
  },
  {
   "cell_type": "markdown",
   "metadata": {},
   "source": [
    "## Reading annotation file"
   ]
  },
  {
   "cell_type": "markdown",
   "metadata": {},
   "source": [
    "Submodule **radio.utils** contains **read_nodules** function that accepts path to annotation file as it's first argument:"
   ]
  },
  {
   "cell_type": "code",
   "execution_count": 2,
   "metadata": {},
   "outputs": [],
   "source": [
    "annotation_path = '/media/kirill/data/ct_annotation/08_annotation.txt'"
   ]
  },
  {
   "cell_type": "code",
   "execution_count": 3,
   "metadata": {},
   "outputs": [
    {
     "data": {
      "text/html": [
       "<div>\n",
       "<style scoped>\n",
       "    .dataframe tbody tr th:only-of-type {\n",
       "        vertical-align: middle;\n",
       "    }\n",
       "\n",
       "    .dataframe tbody tr th {\n",
       "        vertical-align: top;\n",
       "    }\n",
       "\n",
       "    .dataframe thead th {\n",
       "        text-align: right;\n",
       "    }\n",
       "</style>\n",
       "<table border=\"1\" class=\"dataframe\">\n",
       "  <thead>\n",
       "    <tr style=\"text-align: right;\">\n",
       "      <th></th>\n",
       "      <th>AccessionNumber</th>\n",
       "      <th>DoctorID</th>\n",
       "      <th>NoduleID</th>\n",
       "      <th>NoduleType</th>\n",
       "      <th>coordX</th>\n",
       "      <th>coordY</th>\n",
       "      <th>coordZ</th>\n",
       "      <th>diameter_mm</th>\n",
       "    </tr>\n",
       "  </thead>\n",
       "  <tbody>\n",
       "    <tr>\n",
       "      <th>40</th>\n",
       "      <td>AGFA000000061588</td>\n",
       "      <td>002</td>\n",
       "      <td>c41c8f335928e13ff8e1</td>\n",
       "      <td>solid</td>\n",
       "      <td>410.0</td>\n",
       "      <td>274.0</td>\n",
       "      <td>330.0</td>\n",
       "      <td>9.0</td>\n",
       "    </tr>\n",
       "    <tr>\n",
       "      <th>41</th>\n",
       "      <td>AGFA000000061588</td>\n",
       "      <td>002</td>\n",
       "      <td>10cfb55ba7b2eb3fcf71</td>\n",
       "      <td>semi_solid</td>\n",
       "      <td>144.0</td>\n",
       "      <td>355.0</td>\n",
       "      <td>221.0</td>\n",
       "      <td>5.0</td>\n",
       "    </tr>\n",
       "    <tr>\n",
       "      <th>45</th>\n",
       "      <td>AGFA000000061588</td>\n",
       "      <td>002</td>\n",
       "      <td>a846ebe278ecc83f798f</td>\n",
       "      <td>solid</td>\n",
       "      <td>163.0</td>\n",
       "      <td>152.0</td>\n",
       "      <td>134.0</td>\n",
       "      <td>5.0</td>\n",
       "    </tr>\n",
       "    <tr>\n",
       "      <th>46</th>\n",
       "      <td>AGFA000000061588</td>\n",
       "      <td>002</td>\n",
       "      <td>8ccc4b2e4edfd83fe1ae</td>\n",
       "      <td>semi_solid</td>\n",
       "      <td>159.0</td>\n",
       "      <td>162.0</td>\n",
       "      <td>133.0</td>\n",
       "      <td>4.0</td>\n",
       "    </tr>\n",
       "    <tr>\n",
       "      <th>80</th>\n",
       "      <td>AGFA000000061588</td>\n",
       "      <td>005</td>\n",
       "      <td>c0c372495a69963f7cf4</td>\n",
       "      <td>semi_solid</td>\n",
       "      <td>412.0</td>\n",
       "      <td>273.0</td>\n",
       "      <td>330.0</td>\n",
       "      <td>9.0</td>\n",
       "    </tr>\n",
       "    <tr>\n",
       "      <th>120</th>\n",
       "      <td>AGFA000000061588</td>\n",
       "      <td>010</td>\n",
       "      <td>a48648484a06de3f099c</td>\n",
       "      <td>solid</td>\n",
       "      <td>410.0</td>\n",
       "      <td>273.0</td>\n",
       "      <td>331.0</td>\n",
       "      <td>9.0</td>\n",
       "    </tr>\n",
       "    <tr>\n",
       "      <th>122</th>\n",
       "      <td>AGFA000000061588</td>\n",
       "      <td>010</td>\n",
       "      <td>7630d4c34f75d23ffc90</td>\n",
       "      <td>solid</td>\n",
       "      <td>202.0</td>\n",
       "      <td>165.0</td>\n",
       "      <td>203.0</td>\n",
       "      <td>8.0</td>\n",
       "    </tr>\n",
       "    <tr>\n",
       "      <th>123</th>\n",
       "      <td>AGFA000000061588</td>\n",
       "      <td>010</td>\n",
       "      <td>5d5215bafaf3ea3fe33c</td>\n",
       "      <td>solid</td>\n",
       "      <td>192.0</td>\n",
       "      <td>211.0</td>\n",
       "      <td>195.0</td>\n",
       "      <td>5.0</td>\n",
       "    </tr>\n",
       "    <tr>\n",
       "      <th>124</th>\n",
       "      <td>AGFA000000061588</td>\n",
       "      <td>010</td>\n",
       "      <td>2665106b51f7db3fe791</td>\n",
       "      <td>solid</td>\n",
       "      <td>183.0</td>\n",
       "      <td>325.0</td>\n",
       "      <td>143.0</td>\n",
       "      <td>5.0</td>\n",
       "    </tr>\n",
       "    <tr>\n",
       "      <th>280</th>\n",
       "      <td>AGFA000000061613</td>\n",
       "      <td>008</td>\n",
       "      <td>e6a8dec152fad13fc317</td>\n",
       "      <td>solid</td>\n",
       "      <td>162.0</td>\n",
       "      <td>369.0</td>\n",
       "      <td>365.0</td>\n",
       "      <td>12.0</td>\n",
       "    </tr>\n",
       "  </tbody>\n",
       "</table>\n",
       "</div>"
      ],
      "text/plain": [
       "      AccessionNumber DoctorID              NoduleID  NoduleType  coordX  \\\n",
       "40   AGFA000000061588      002  c41c8f335928e13ff8e1       solid   410.0   \n",
       "41   AGFA000000061588      002  10cfb55ba7b2eb3fcf71  semi_solid   144.0   \n",
       "45   AGFA000000061588      002  a846ebe278ecc83f798f       solid   163.0   \n",
       "46   AGFA000000061588      002  8ccc4b2e4edfd83fe1ae  semi_solid   159.0   \n",
       "80   AGFA000000061588      005  c0c372495a69963f7cf4  semi_solid   412.0   \n",
       "120  AGFA000000061588      010  a48648484a06de3f099c       solid   410.0   \n",
       "122  AGFA000000061588      010  7630d4c34f75d23ffc90       solid   202.0   \n",
       "123  AGFA000000061588      010  5d5215bafaf3ea3fe33c       solid   192.0   \n",
       "124  AGFA000000061588      010  2665106b51f7db3fe791       solid   183.0   \n",
       "280  AGFA000000061613      008  e6a8dec152fad13fc317       solid   162.0   \n",
       "\n",
       "     coordY  coordZ  diameter_mm  \n",
       "40    274.0   330.0          9.0  \n",
       "41    355.0   221.0          5.0  \n",
       "45    152.0   134.0          5.0  \n",
       "46    162.0   133.0          4.0  \n",
       "80    273.0   330.0          9.0  \n",
       "120   273.0   331.0          9.0  \n",
       "122   165.0   203.0          8.0  \n",
       "123   211.0   195.0          5.0  \n",
       "124   325.0   143.0          5.0  \n",
       "280   369.0   365.0         12.0  "
      ]
     },
     "execution_count": 3,
     "metadata": {},
     "output_type": "execute_result"
    }
   ],
   "source": [
    "nodules = radio.annotation.read_nodules(annotation_path)\n",
    "nodules.head(10)"
   ]
  },
  {
   "cell_type": "markdown",
   "metadata": {},
   "source": [
    "If you need to get information about doctors that annotated each scan you can just use function **read_annotators_info**:"
   ]
  },
  {
   "cell_type": "code",
   "execution_count": 4,
   "metadata": {},
   "outputs": [
    {
     "data": {
      "text/html": [
       "<div>\n",
       "<style scoped>\n",
       "    .dataframe tbody tr th:only-of-type {\n",
       "        vertical-align: middle;\n",
       "    }\n",
       "\n",
       "    .dataframe tbody tr th {\n",
       "        vertical-align: top;\n",
       "    }\n",
       "\n",
       "    .dataframe thead th {\n",
       "        text-align: right;\n",
       "    }\n",
       "</style>\n",
       "<table border=\"1\" class=\"dataframe\">\n",
       "  <thead>\n",
       "    <tr style=\"text-align: right;\">\n",
       "      <th>DoctorID</th>\n",
       "      <th>doctor_000</th>\n",
       "      <th>doctor_001</th>\n",
       "      <th>doctor_002</th>\n",
       "      <th>doctor_003</th>\n",
       "      <th>doctor_004</th>\n",
       "      <th>doctor_005</th>\n",
       "      <th>doctor_006</th>\n",
       "      <th>doctor_007</th>\n",
       "      <th>doctor_008</th>\n",
       "      <th>doctor_009</th>\n",
       "      <th>doctor_010</th>\n",
       "      <th>doctor_011</th>\n",
       "      <th>doctor_012</th>\n",
       "      <th>doctor_013</th>\n",
       "      <th>doctor_014</th>\n",
       "    </tr>\n",
       "    <tr>\n",
       "      <th>AccessionNumber</th>\n",
       "      <th></th>\n",
       "      <th></th>\n",
       "      <th></th>\n",
       "      <th></th>\n",
       "      <th></th>\n",
       "      <th></th>\n",
       "      <th></th>\n",
       "      <th></th>\n",
       "      <th></th>\n",
       "      <th></th>\n",
       "      <th></th>\n",
       "      <th></th>\n",
       "      <th></th>\n",
       "      <th></th>\n",
       "      <th></th>\n",
       "    </tr>\n",
       "  </thead>\n",
       "  <tbody>\n",
       "    <tr>\n",
       "      <th>AGFA000000061588</th>\n",
       "      <td>0</td>\n",
       "      <td>0</td>\n",
       "      <td>1</td>\n",
       "      <td>0</td>\n",
       "      <td>0</td>\n",
       "      <td>1</td>\n",
       "      <td>0</td>\n",
       "      <td>0</td>\n",
       "      <td>0</td>\n",
       "      <td>0</td>\n",
       "      <td>1</td>\n",
       "      <td>0</td>\n",
       "      <td>0</td>\n",
       "      <td>0</td>\n",
       "      <td>0</td>\n",
       "    </tr>\n",
       "    <tr>\n",
       "      <th>AGFA000000061590</th>\n",
       "      <td>0</td>\n",
       "      <td>0</td>\n",
       "      <td>0</td>\n",
       "      <td>0</td>\n",
       "      <td>0</td>\n",
       "      <td>1</td>\n",
       "      <td>0</td>\n",
       "      <td>0</td>\n",
       "      <td>0</td>\n",
       "      <td>1</td>\n",
       "      <td>0</td>\n",
       "      <td>0</td>\n",
       "      <td>1</td>\n",
       "      <td>0</td>\n",
       "      <td>0</td>\n",
       "    </tr>\n",
       "    <tr>\n",
       "      <th>AGFA000000061613</th>\n",
       "      <td>0</td>\n",
       "      <td>0</td>\n",
       "      <td>0</td>\n",
       "      <td>0</td>\n",
       "      <td>0</td>\n",
       "      <td>0</td>\n",
       "      <td>0</td>\n",
       "      <td>0</td>\n",
       "      <td>1</td>\n",
       "      <td>0</td>\n",
       "      <td>0</td>\n",
       "      <td>0</td>\n",
       "      <td>0</td>\n",
       "      <td>1</td>\n",
       "      <td>1</td>\n",
       "    </tr>\n",
       "    <tr>\n",
       "      <th>AGFA000000061820</th>\n",
       "      <td>0</td>\n",
       "      <td>0</td>\n",
       "      <td>0</td>\n",
       "      <td>0</td>\n",
       "      <td>0</td>\n",
       "      <td>0</td>\n",
       "      <td>1</td>\n",
       "      <td>0</td>\n",
       "      <td>0</td>\n",
       "      <td>0</td>\n",
       "      <td>0</td>\n",
       "      <td>1</td>\n",
       "      <td>0</td>\n",
       "      <td>1</td>\n",
       "      <td>0</td>\n",
       "    </tr>\n",
       "    <tr>\n",
       "      <th>AGFA000000061951</th>\n",
       "      <td>0</td>\n",
       "      <td>1</td>\n",
       "      <td>1</td>\n",
       "      <td>0</td>\n",
       "      <td>0</td>\n",
       "      <td>0</td>\n",
       "      <td>0</td>\n",
       "      <td>0</td>\n",
       "      <td>0</td>\n",
       "      <td>0</td>\n",
       "      <td>0</td>\n",
       "      <td>0</td>\n",
       "      <td>0</td>\n",
       "      <td>1</td>\n",
       "      <td>0</td>\n",
       "    </tr>\n",
       "    <tr>\n",
       "      <th>AGFA000000062036</th>\n",
       "      <td>1</td>\n",
       "      <td>1</td>\n",
       "      <td>0</td>\n",
       "      <td>0</td>\n",
       "      <td>0</td>\n",
       "      <td>0</td>\n",
       "      <td>1</td>\n",
       "      <td>0</td>\n",
       "      <td>0</td>\n",
       "      <td>0</td>\n",
       "      <td>0</td>\n",
       "      <td>0</td>\n",
       "      <td>0</td>\n",
       "      <td>0</td>\n",
       "      <td>0</td>\n",
       "    </tr>\n",
       "    <tr>\n",
       "      <th>AGFA000000062311</th>\n",
       "      <td>0</td>\n",
       "      <td>1</td>\n",
       "      <td>0</td>\n",
       "      <td>0</td>\n",
       "      <td>0</td>\n",
       "      <td>0</td>\n",
       "      <td>0</td>\n",
       "      <td>0</td>\n",
       "      <td>1</td>\n",
       "      <td>0</td>\n",
       "      <td>0</td>\n",
       "      <td>0</td>\n",
       "      <td>0</td>\n",
       "      <td>0</td>\n",
       "      <td>1</td>\n",
       "    </tr>\n",
       "    <tr>\n",
       "      <th>AGFA000000062422</th>\n",
       "      <td>0</td>\n",
       "      <td>0</td>\n",
       "      <td>0</td>\n",
       "      <td>0</td>\n",
       "      <td>0</td>\n",
       "      <td>1</td>\n",
       "      <td>0</td>\n",
       "      <td>0</td>\n",
       "      <td>0</td>\n",
       "      <td>0</td>\n",
       "      <td>1</td>\n",
       "      <td>0</td>\n",
       "      <td>0</td>\n",
       "      <td>0</td>\n",
       "      <td>1</td>\n",
       "    </tr>\n",
       "    <tr>\n",
       "      <th>AGFA000000062507</th>\n",
       "      <td>0</td>\n",
       "      <td>0</td>\n",
       "      <td>0</td>\n",
       "      <td>0</td>\n",
       "      <td>0</td>\n",
       "      <td>0</td>\n",
       "      <td>0</td>\n",
       "      <td>1</td>\n",
       "      <td>0</td>\n",
       "      <td>0</td>\n",
       "      <td>1</td>\n",
       "      <td>0</td>\n",
       "      <td>0</td>\n",
       "      <td>1</td>\n",
       "      <td>0</td>\n",
       "    </tr>\n",
       "    <tr>\n",
       "      <th>AGFA000000062562</th>\n",
       "      <td>0</td>\n",
       "      <td>1</td>\n",
       "      <td>0</td>\n",
       "      <td>0</td>\n",
       "      <td>0</td>\n",
       "      <td>1</td>\n",
       "      <td>0</td>\n",
       "      <td>0</td>\n",
       "      <td>0</td>\n",
       "      <td>0</td>\n",
       "      <td>0</td>\n",
       "      <td>0</td>\n",
       "      <td>0</td>\n",
       "      <td>1</td>\n",
       "      <td>0</td>\n",
       "    </tr>\n",
       "  </tbody>\n",
       "</table>\n",
       "</div>"
      ],
      "text/plain": [
       "DoctorID          doctor_000  doctor_001  doctor_002  doctor_003  doctor_004  \\\n",
       "AccessionNumber                                                                \n",
       "AGFA000000061588           0           0           1           0           0   \n",
       "AGFA000000061590           0           0           0           0           0   \n",
       "AGFA000000061613           0           0           0           0           0   \n",
       "AGFA000000061820           0           0           0           0           0   \n",
       "AGFA000000061951           0           1           1           0           0   \n",
       "AGFA000000062036           1           1           0           0           0   \n",
       "AGFA000000062311           0           1           0           0           0   \n",
       "AGFA000000062422           0           0           0           0           0   \n",
       "AGFA000000062507           0           0           0           0           0   \n",
       "AGFA000000062562           0           1           0           0           0   \n",
       "\n",
       "DoctorID          doctor_005  doctor_006  doctor_007  doctor_008  doctor_009  \\\n",
       "AccessionNumber                                                                \n",
       "AGFA000000061588           1           0           0           0           0   \n",
       "AGFA000000061590           1           0           0           0           1   \n",
       "AGFA000000061613           0           0           0           1           0   \n",
       "AGFA000000061820           0           1           0           0           0   \n",
       "AGFA000000061951           0           0           0           0           0   \n",
       "AGFA000000062036           0           1           0           0           0   \n",
       "AGFA000000062311           0           0           0           1           0   \n",
       "AGFA000000062422           1           0           0           0           0   \n",
       "AGFA000000062507           0           0           1           0           0   \n",
       "AGFA000000062562           1           0           0           0           0   \n",
       "\n",
       "DoctorID          doctor_010  doctor_011  doctor_012  doctor_013  doctor_014  \n",
       "AccessionNumber                                                               \n",
       "AGFA000000061588           1           0           0           0           0  \n",
       "AGFA000000061590           0           0           1           0           0  \n",
       "AGFA000000061613           0           0           0           1           1  \n",
       "AGFA000000061820           0           1           0           1           0  \n",
       "AGFA000000061951           0           0           0           1           0  \n",
       "AGFA000000062036           0           0           0           0           0  \n",
       "AGFA000000062311           0           0           0           0           1  \n",
       "AGFA000000062422           1           0           0           0           1  \n",
       "AGFA000000062507           1           0           0           1           0  \n",
       "AGFA000000062562           0           0           0           1           0  "
      ]
     },
     "execution_count": 4,
     "metadata": {},
     "output_type": "execute_result"
    }
   ],
   "source": [
    "annotators = radio.annotation.read_annotators_info(annotation_path, annotator_prefix='doctor_')\n",
    "annotators.head(10)"
   ]
  },
  {
   "cell_type": "markdown",
   "metadata": {},
   "source": [
    "Each row in **annotators** dataframe corresponds to AccessionNumber and represents those doctors who were annotating corresponding scan."
   ]
  },
  {
   "cell_type": "markdown",
   "metadata": {},
   "source": [
    "## Plotting distribution of nodules among doctors"
   ]
  },
  {
   "cell_type": "markdown",
   "metadata": {},
   "source": [
    "Below you can find code that plots bar chart for number of nodules that were annotated by each doctor:"
   ]
  },
  {
   "cell_type": "code",
   "execution_count": 5,
   "metadata": {},
   "outputs": [
    {
     "data": {
      "image/png": "[encoded data removed]",
      "text/plain": [
       "<matplotlib.figure.Figure at 0x7f85baa5a0f0>"
      ]
     },
     "metadata": {},
     "output_type": "display_data"
    }
   ],
   "source": [
    "plt.figure(figsize=(7, 5))\n",
    "ax = (\n",
    "    nodules\n",
    "    .set_index('AccessionNumber')\n",
    "    .merge(annotators, left_index=True, right_index=True)\n",
    "    .filter(regex='doctor_\\d{3}', axis=1)\n",
    "    .unstack()\n",
    "    .groupby(level=0)\n",
    "    .sum()\n",
    "    .plot(kind='bar', grid=True)\n",
    ")"
   ]
  },
  {
   "cell_type": "markdown",
   "metadata": {},
   "source": [
    "You can use **assign_nodules_group_index** function to add column *GroupNoduleID* that contains the same values\n",
    "for different overlapping nodules(commonly, that group of overlapping nodules is just annotations from different doctors):"
   ]
  },
  {
   "cell_type": "markdown",
   "metadata": {},
   "source": [
    "**Note**: before assigning nodules group index and uniting them into group you need to check that **[coordX, coordY, coordZ]** columns contain coordintates in mm. If coordinates provided in pixel scale you can make the following transform:"
   ]
  },
  {
   "cell_type": "code",
   "execution_count": 6,
   "metadata": {},
   "outputs": [],
   "source": [
    "dataset_info = (\n",
    "    radio.annotation.read_dataset_info('/media/kirill/data/ct_scans/part_08/*/*/*/*/*', index_col=None)\n",
    "    .drop_duplicates(subset=['AccessionNumber'])\n",
    "    .set_index('AccessionNumber')\n",
    ")\n",
    "\n",
    "nodules = (\n",
    "    radio.annotation.read_nodules('/media/kirill/data/ct_annotation/08_annotation.txt')\n",
    "    .set_index('AccessionNumber')\n",
    "    .assign(coordZ=lambda df: df.loc[:, 'coordZ'] * dataset_info.loc[df.index, 'SpacingZ'],\n",
    "            coordY=lambda df: df.loc[:, 'coordY'] * dataset_info.loc[df.index, 'SpacingY'],\n",
    "            coordX=lambda df: df.loc[:, 'coordX'] * dataset_info.loc[df.index, 'SpacingX'])\n",
    "    .reset_index()\n",
    ")"
   ]
  },
  {
   "cell_type": "markdown",
   "metadata": {},
   "source": [
    "As you can see, additional information about spacing in dataset's scans is required to do that. It can be easily obtained using **radio.annotation.read_dataset_info** function."
   ]
  },
  {
   "cell_type": "code",
   "execution_count": 7,
   "metadata": {},
   "outputs": [],
   "source": [
    "from radio.annotation import assign_nodules_group_index\n",
    "\n",
    "nodules_with_group_index = (\n",
    "    nodules\n",
    "    .set_index(['AccessionNumber', 'NoduleID'])\n",
    "    .groupby(level=0)\n",
    "    .apply(assign_nodules_group_index)\n",
    "    .reset_index()\n",
    ")"
   ]
  },
  {
   "cell_type": "code",
   "execution_count": 8,
   "metadata": {},
   "outputs": [
    {
     "data": {
      "text/html": [
       "<div>\n",
       "<style scoped>\n",
       "    .dataframe tbody tr th:only-of-type {\n",
       "        vertical-align: middle;\n",
       "    }\n",
       "\n",
       "    .dataframe tbody tr th {\n",
       "        vertical-align: top;\n",
       "    }\n",
       "\n",
       "    .dataframe thead th {\n",
       "        text-align: right;\n",
       "    }\n",
       "</style>\n",
       "<table border=\"1\" class=\"dataframe\">\n",
       "  <thead>\n",
       "    <tr style=\"text-align: right;\">\n",
       "      <th></th>\n",
       "      <th>AccessionNumber</th>\n",
       "      <th>NoduleID</th>\n",
       "      <th>DoctorID</th>\n",
       "      <th>NoduleType</th>\n",
       "      <th>coordX</th>\n",
       "      <th>coordY</th>\n",
       "      <th>coordZ</th>\n",
       "      <th>diameter_mm</th>\n",
       "      <th>GroupNoduleID</th>\n",
       "    </tr>\n",
       "  </thead>\n",
       "  <tbody>\n",
       "    <tr>\n",
       "      <th>0</th>\n",
       "      <td>AGFA000000061588</td>\n",
       "      <td>b9dde8e8b3d9e63f4313</td>\n",
       "      <td>002</td>\n",
       "      <td>solid</td>\n",
       "      <td>280.030</td>\n",
       "      <td>187.142</td>\n",
       "      <td>330.0</td>\n",
       "      <td>9.0</td>\n",
       "      <td>98817fbfb88ab03f00ba</td>\n",
       "    </tr>\n",
       "    <tr>\n",
       "      <th>1</th>\n",
       "      <td>AGFA000000061588</td>\n",
       "      <td>2fc7fe4789b0e73f485a</td>\n",
       "      <td>002</td>\n",
       "      <td>semi_solid</td>\n",
       "      <td>98.352</td>\n",
       "      <td>242.465</td>\n",
       "      <td>221.0</td>\n",
       "      <td>5.0</td>\n",
       "      <td>0830a95f4f54e53ff9a4</td>\n",
       "    </tr>\n",
       "    <tr>\n",
       "      <th>2</th>\n",
       "      <td>AGFA000000061588</td>\n",
       "      <td>9b6f79e2643bea3f60d0</td>\n",
       "      <td>002</td>\n",
       "      <td>solid</td>\n",
       "      <td>111.329</td>\n",
       "      <td>103.816</td>\n",
       "      <td>134.0</td>\n",
       "      <td>5.0</td>\n",
       "      <td>0077b09d0463e13f5307</td>\n",
       "    </tr>\n",
       "    <tr>\n",
       "      <th>3</th>\n",
       "      <td>AGFA000000061588</td>\n",
       "      <td>b609003e5b45e43f708f</td>\n",
       "      <td>002</td>\n",
       "      <td>semi_solid</td>\n",
       "      <td>108.597</td>\n",
       "      <td>110.646</td>\n",
       "      <td>133.0</td>\n",
       "      <td>4.0</td>\n",
       "      <td>f003a3f7f42dca3fb0ca</td>\n",
       "    </tr>\n",
       "    <tr>\n",
       "      <th>4</th>\n",
       "      <td>AGFA000000061588</td>\n",
       "      <td>5c960244a4f9dc3f0067</td>\n",
       "      <td>005</td>\n",
       "      <td>semi_solid</td>\n",
       "      <td>281.396</td>\n",
       "      <td>186.459</td>\n",
       "      <td>330.0</td>\n",
       "      <td>9.0</td>\n",
       "      <td>98817fbfb88ab03f00ba</td>\n",
       "    </tr>\n",
       "  </tbody>\n",
       "</table>\n",
       "</div>"
      ],
      "text/plain": [
       "    AccessionNumber              NoduleID DoctorID  NoduleType   coordX  \\\n",
       "0  AGFA000000061588  b9dde8e8b3d9e63f4313      002       solid  280.030   \n",
       "1  AGFA000000061588  2fc7fe4789b0e73f485a      002  semi_solid   98.352   \n",
       "2  AGFA000000061588  9b6f79e2643bea3f60d0      002       solid  111.329   \n",
       "3  AGFA000000061588  b609003e5b45e43f708f      002  semi_solid  108.597   \n",
       "4  AGFA000000061588  5c960244a4f9dc3f0067      005  semi_solid  281.396   \n",
       "\n",
       "    coordY  coordZ  diameter_mm         GroupNoduleID  \n",
       "0  187.142   330.0          9.0  98817fbfb88ab03f00ba  \n",
       "1  242.465   221.0          5.0  0830a95f4f54e53ff9a4  \n",
       "2  103.816   134.0          5.0  0077b09d0463e13f5307  \n",
       "3  110.646   133.0          4.0  f003a3f7f42dca3fb0ca  \n",
       "4  186.459   330.0          9.0  98817fbfb88ab03f00ba  "
      ]
     },
     "execution_count": 8,
     "metadata": {},
     "output_type": "execute_result"
    }
   ],
   "source": [
    "nodules_with_group_index.head()"
   ]
  },
  {
   "cell_type": "markdown",
   "metadata": {},
   "source": [
    "Let's plot number of nodules with different numbers of verifications for each doctor. Number of verifications represents number of overlapping nodules in group: "
   ]
  },
  {
   "cell_type": "code",
   "execution_count": 9,
   "metadata": {},
   "outputs": [
    {
     "name": "stderr",
     "output_type": "stream",
     "text": [
      "/home/kirill/anaconda3/envs/nn/lib/python3.6/site-packages/seaborn/categorical.py:1508: FutureWarning: remove_na is deprecated and is a private function. Do not use.\n",
      "  stat_data = remove_na(group_data[hue_mask])\n"
     ]
    },
    {
     "data": {
      "text/plain": [
       "<matplotlib.figure.Figure at 0x7f85ba90e710>"
      ]
     },
     "metadata": {},
     "output_type": "display_data"
    },
    {
     "data": {
      "image/png": "[encoded data removed]",
      "text/plain": [
       "<matplotlib.figure.Figure at 0x7f85ba90e668>"
      ]
     },
     "metadata": {},
     "output_type": "display_data"
    }
   ],
   "source": [
    "plt.figure(figsize=(7, 5))\n",
    "\n",
    "data = (\n",
    "    nodules_with_group_index\n",
    "    .set_index('GroupNoduleID')\n",
    "    .assign(verifications=lambda df: df.groupby(level=0).agg({'NoduleID': 'count'}))\n",
    "    .groupby(['DoctorID', 'verifications'])\n",
    "    .agg({'NoduleID': 'count'})\n",
    "    .query('verifications <= 3')\n",
    "    .reset_index()\n",
    ")\n",
    "\n",
    "plt.figure(figsize=(10, 7))\n",
    "sns.barplot(x='DoctorID', y='NoduleID', hue='verifications', data=data)\n",
    "plt.ylabel('Counts')\n",
    "plt.grid(True)"
   ]
  },
  {
   "cell_type": "markdown",
   "metadata": {},
   "source": [
    "## Gluing overlapping nodules together"
   ]
  },
  {
   "cell_type": "markdown",
   "metadata": {},
   "source": [
    "Due to the fact that each cancer nodule can be annotated by several doctors we need to have a way to group overlapping nodules and then cover them with one big nodule. Generally, we also want to take into account different weights for different nodules. Function **glue_nodules** from **radio.annotation** will do this work for you. There are two conditions:\n",
    "nodules dataframe must have confidence column that reflects the weight of nodule and **proba** parameter that is required for building normal-density approximation of covering nodule."
   ]
  },
  {
   "cell_type": "code",
   "execution_count": 10,
   "metadata": {},
   "outputs": [],
   "source": [
    "group_nodules = (\n",
    "    radio.annotation.read_nodules(annotation_path)\n",
    "    .set_index('AccessionNumber')\n",
    "    .assign(coordZ=lambda df: df.loc[:, 'coordZ'] * dataset_info.loc[df.index, 'SpacingZ'],\n",
    "            coordY=lambda df: df.loc[:, 'coordY'] * dataset_info.loc[df.index, 'SpacingY'],\n",
    "            coordX=lambda df: df.loc[:, 'coordX'] * dataset_info.loc[df.index, 'SpacingX'])\n",
    "    .reset_index()\n",
    "    .assign(confidence=1)\n",
    "    .pipe(radio.annotation.get_nodules_groups, proba=0.8)\n",
    ")"
   ]
  },
  {
   "cell_type": "code",
   "execution_count": 11,
   "metadata": {},
   "outputs": [
    {
     "data": {
      "text/html": [
       "<div>\n",
       "<style scoped>\n",
       "    .dataframe tbody tr th:only-of-type {\n",
       "        vertical-align: middle;\n",
       "    }\n",
       "\n",
       "    .dataframe tbody tr th {\n",
       "        vertical-align: top;\n",
       "    }\n",
       "\n",
       "    .dataframe thead th {\n",
       "        text-align: right;\n",
       "    }\n",
       "</style>\n",
       "<table border=\"1\" class=\"dataframe\">\n",
       "  <thead>\n",
       "    <tr style=\"text-align: right;\">\n",
       "      <th></th>\n",
       "      <th>GroupNoduleID</th>\n",
       "      <th>AccessionNumber</th>\n",
       "      <th>confidence</th>\n",
       "      <th>coordX</th>\n",
       "      <th>coordY</th>\n",
       "      <th>coordZ</th>\n",
       "      <th>diameter_mm</th>\n",
       "    </tr>\n",
       "  </thead>\n",
       "  <tbody>\n",
       "    <tr>\n",
       "      <th>0</th>\n",
       "      <td>0036c1729bb3e33f445d</td>\n",
       "      <td>AGFA000000063927</td>\n",
       "      <td>1.0</td>\n",
       "      <td>182.206</td>\n",
       "      <td>225.216</td>\n",
       "      <td>230.0</td>\n",
       "      <td>4.5</td>\n",
       "    </tr>\n",
       "    <tr>\n",
       "      <th>1</th>\n",
       "      <td>003acfe5d3c2513f3425</td>\n",
       "      <td>AGFA000000069436</td>\n",
       "      <td>1.0</td>\n",
       "      <td>65.280</td>\n",
       "      <td>193.120</td>\n",
       "      <td>224.0</td>\n",
       "      <td>4.0</td>\n",
       "    </tr>\n",
       "    <tr>\n",
       "      <th>2</th>\n",
       "      <td>006e11960785e83f2417</td>\n",
       "      <td>AGFA000000070333</td>\n",
       "      <td>1.0</td>\n",
       "      <td>82.140</td>\n",
       "      <td>232.360</td>\n",
       "      <td>244.0</td>\n",
       "      <td>6.0</td>\n",
       "    </tr>\n",
       "    <tr>\n",
       "      <th>3</th>\n",
       "      <td>009f654edf0bbe3f6311</td>\n",
       "      <td>AGFA000000068406</td>\n",
       "      <td>1.0</td>\n",
       "      <td>95.404</td>\n",
       "      <td>210.358</td>\n",
       "      <td>514.0</td>\n",
       "      <td>7.5</td>\n",
       "    </tr>\n",
       "    <tr>\n",
       "      <th>4</th>\n",
       "      <td>00c41cb86ef18f3f1034</td>\n",
       "      <td>AGFA000000070333</td>\n",
       "      <td>1.0</td>\n",
       "      <td>174.640</td>\n",
       "      <td>210.160</td>\n",
       "      <td>213.0</td>\n",
       "      <td>7.0</td>\n",
       "    </tr>\n",
       "  </tbody>\n",
       "</table>\n",
       "</div>"
      ],
      "text/plain": [
       "          GroupNoduleID   AccessionNumber  confidence   coordX   coordY  \\\n",
       "0  0036c1729bb3e33f445d  AGFA000000063927         1.0  182.206  225.216   \n",
       "1  003acfe5d3c2513f3425  AGFA000000069436         1.0   65.280  193.120   \n",
       "2  006e11960785e83f2417  AGFA000000070333         1.0   82.140  232.360   \n",
       "3  009f654edf0bbe3f6311  AGFA000000068406         1.0   95.404  210.358   \n",
       "4  00c41cb86ef18f3f1034  AGFA000000070333         1.0  174.640  210.160   \n",
       "\n",
       "   coordZ  diameter_mm  \n",
       "0   230.0          4.5  \n",
       "1   224.0          4.0  \n",
       "2   244.0          6.0  \n",
       "3   514.0          7.5  \n",
       "4   213.0          7.0  "
      ]
     },
     "execution_count": 11,
     "metadata": {},
     "output_type": "execute_result"
    }
   ],
   "source": [
    "group_nodules.head()"
   ]
  },
  {
   "cell_type": "markdown",
   "metadata": {},
   "source": [
    "Source annotation contained more nodules then dataframe with glued nodules:"
   ]
  },
  {
   "cell_type": "code",
   "execution_count": 12,
   "metadata": {},
   "outputs": [
    {
     "data": {
      "text/plain": [
       "(678, 475)"
      ]
     },
     "execution_count": 12,
     "metadata": {},
     "output_type": "execute_result"
    }
   ],
   "source": [
    "nodules.shape[0], group_nodules.shape[0]"
   ]
  },
  {
   "cell_type": "markdown",
   "metadata": {},
   "source": [
    "Number of nodules reduced because we united overlapping nodules within the group into one nodule."
   ]
  },
  {
   "cell_type": "markdown",
   "metadata": {},
   "source": [
    "## Computing doctors confidences"
   ]
  },
  {
   "cell_type": "code",
   "execution_count": 29,
   "metadata": {},
   "outputs": [
    {
     "ename": "ValueError",
     "evalue": "labels ['annotator_1' 'annotator_2' 'annotator_3'] not contained in axis",
     "output_type": "error",
     "traceback": [
      "\u001b[0;31m---------------------------------------------------------------------------\u001b[0m",
      "\u001b[0;31mValueError\u001b[0m                                Traceback (most recent call last)",
      "\u001b[0;32m<ipython-input-29-15f3d86a71f9>\u001b[0m in \u001b[0;36m<module>\u001b[0;34m()\u001b[0m\n\u001b[1;32m     11\u001b[0m     \u001b[0;34m.\u001b[0m\u001b[0mmerge\u001b[0m\u001b[0;34m(\u001b[0m\u001b[0mannotators\u001b[0m\u001b[0;34m,\u001b[0m \u001b[0mleft_index\u001b[0m\u001b[0;34m=\u001b[0m\u001b[0;32mTrue\u001b[0m\u001b[0;34m,\u001b[0m \u001b[0mright_index\u001b[0m\u001b[0;34m=\u001b[0m\u001b[0;32mTrue\u001b[0m\u001b[0;34m)\u001b[0m\u001b[0;34m\u001b[0m\u001b[0m\n\u001b[1;32m     12\u001b[0m     \u001b[0;34m.\u001b[0m\u001b[0massign\u001b[0m\u001b[0;34m(\u001b[0m\u001b[0mDoctorConfidence\u001b[0m\u001b[0;34m=\u001b[0m\u001b[0;36m1\u001b[0m\u001b[0;34m)\u001b[0m\u001b[0;34m\u001b[0m\u001b[0m\n\u001b[0;32m---> 13\u001b[0;31m     \u001b[0;34m.\u001b[0m\u001b[0mpipe\u001b[0m\u001b[0;34m(\u001b[0m\u001b[0mcompute_nodule_confidence\u001b[0m\u001b[0;34m)\u001b[0m\u001b[0;34m\u001b[0m\u001b[0m\n\u001b[0m\u001b[1;32m     14\u001b[0m )\n",
      "\u001b[0;32m~/anaconda3/envs/nn/lib/python3.6/site-packages/pandas/core/generic.py\u001b[0m in \u001b[0;36mpipe\u001b[0;34m(self, func, *args, **kwargs)\u001b[0m\n\u001b[1;32m   3495\u001b[0m     \u001b[0;34m@\u001b[0m\u001b[0mAppender\u001b[0m\u001b[0;34m(\u001b[0m\u001b[0m_shared_docs\u001b[0m\u001b[0;34m[\u001b[0m\u001b[0;34m'pipe'\u001b[0m\u001b[0;34m]\u001b[0m \u001b[0;34m%\u001b[0m \u001b[0m_shared_doc_kwargs\u001b[0m\u001b[0;34m)\u001b[0m\u001b[0;34m\u001b[0m\u001b[0m\n\u001b[1;32m   3496\u001b[0m     \u001b[0;32mdef\u001b[0m \u001b[0mpipe\u001b[0m\u001b[0;34m(\u001b[0m\u001b[0mself\u001b[0m\u001b[0;34m,\u001b[0m \u001b[0mfunc\u001b[0m\u001b[0;34m,\u001b[0m \u001b[0;34m*\u001b[0m\u001b[0margs\u001b[0m\u001b[0;34m,\u001b[0m \u001b[0;34m**\u001b[0m\u001b[0mkwargs\u001b[0m\u001b[0;34m)\u001b[0m\u001b[0;34m:\u001b[0m\u001b[0;34m\u001b[0m\u001b[0m\n\u001b[0;32m-> 3497\u001b[0;31m         \u001b[0;32mreturn\u001b[0m \u001b[0mcom\u001b[0m\u001b[0;34m.\u001b[0m\u001b[0m_pipe\u001b[0m\u001b[0;34m(\u001b[0m\u001b[0mself\u001b[0m\u001b[0;34m,\u001b[0m \u001b[0mfunc\u001b[0m\u001b[0;34m,\u001b[0m \u001b[0;34m*\u001b[0m\u001b[0margs\u001b[0m\u001b[0;34m,\u001b[0m \u001b[0;34m**\u001b[0m\u001b[0mkwargs\u001b[0m\u001b[0;34m)\u001b[0m\u001b[0;34m\u001b[0m\u001b[0m\n\u001b[0m\u001b[1;32m   3498\u001b[0m \u001b[0;34m\u001b[0m\u001b[0m\n\u001b[1;32m   3499\u001b[0m     _shared_docs['aggregate'] = (\"\"\"\n",
      "\u001b[0;32m~/anaconda3/envs/nn/lib/python3.6/site-packages/pandas/core/common.py\u001b[0m in \u001b[0;36m_pipe\u001b[0;34m(obj, func, *args, **kwargs)\u001b[0m\n\u001b[1;32m    699\u001b[0m         \u001b[0;32mreturn\u001b[0m \u001b[0mfunc\u001b[0m\u001b[0;34m(\u001b[0m\u001b[0;34m*\u001b[0m\u001b[0margs\u001b[0m\u001b[0;34m,\u001b[0m \u001b[0;34m**\u001b[0m\u001b[0mkwargs\u001b[0m\u001b[0;34m)\u001b[0m\u001b[0;34m\u001b[0m\u001b[0m\n\u001b[1;32m    700\u001b[0m     \u001b[0;32melse\u001b[0m\u001b[0;34m:\u001b[0m\u001b[0;34m\u001b[0m\u001b[0m\n\u001b[0;32m--> 701\u001b[0;31m         \u001b[0;32mreturn\u001b[0m \u001b[0mfunc\u001b[0m\u001b[0;34m(\u001b[0m\u001b[0mobj\u001b[0m\u001b[0;34m,\u001b[0m \u001b[0;34m*\u001b[0m\u001b[0margs\u001b[0m\u001b[0;34m,\u001b[0m \u001b[0;34m**\u001b[0m\u001b[0mkwargs\u001b[0m\u001b[0;34m)\u001b[0m\u001b[0;34m\u001b[0m\u001b[0m\n\u001b[0m",
      "\u001b[0;32m~/anaconda3/envs/nn/lib/python3.6/site-packages/radio/annotation/nodule_confidence.py\u001b[0m in \u001b[0;36mcompute_nodule_confidence\u001b[0;34m(annotations, r, alpha, weight_by_doctor)\u001b[0m\n\u001b[1;32m     43\u001b[0m     \u001b[0;31m# matrix of distances between nodules from the same scan\u001b[0m\u001b[0;34m\u001b[0m\u001b[0;34m\u001b[0m\u001b[0m\n\u001b[1;32m     44\u001b[0m     cleaned = annotations.copy().drop(labels=['annotator_1', 'annotator_2', 'annotator_3',\n\u001b[0;32m---> 45\u001b[0;31m                                               'diameter_mm', 'NoduleType'], axis=1)\n\u001b[0m\u001b[1;32m     46\u001b[0m     pairwise = pd.merge(cleaned, cleaned, how='inner', left_on='AccessionNumber',\n\u001b[1;32m     47\u001b[0m                         right_on='AccessionNumber', suffixes=('', '_other'))\n",
      "\u001b[0;32m~/anaconda3/envs/nn/lib/python3.6/site-packages/pandas/core/generic.py\u001b[0m in \u001b[0;36mdrop\u001b[0;34m(self, labels, axis, index, columns, level, inplace, errors)\u001b[0m\n\u001b[1;32m   2528\u001b[0m         \u001b[0;32mfor\u001b[0m \u001b[0maxis\u001b[0m\u001b[0;34m,\u001b[0m \u001b[0mlabels\u001b[0m \u001b[0;32min\u001b[0m \u001b[0maxes\u001b[0m\u001b[0;34m.\u001b[0m\u001b[0mitems\u001b[0m\u001b[0;34m(\u001b[0m\u001b[0;34m)\u001b[0m\u001b[0;34m:\u001b[0m\u001b[0;34m\u001b[0m\u001b[0m\n\u001b[1;32m   2529\u001b[0m             \u001b[0;32mif\u001b[0m \u001b[0mlabels\u001b[0m \u001b[0;32mis\u001b[0m \u001b[0;32mnot\u001b[0m \u001b[0;32mNone\u001b[0m\u001b[0;34m:\u001b[0m\u001b[0;34m\u001b[0m\u001b[0m\n\u001b[0;32m-> 2530\u001b[0;31m                 \u001b[0mobj\u001b[0m \u001b[0;34m=\u001b[0m \u001b[0mobj\u001b[0m\u001b[0;34m.\u001b[0m\u001b[0m_drop_axis\u001b[0m\u001b[0;34m(\u001b[0m\u001b[0mlabels\u001b[0m\u001b[0;34m,\u001b[0m \u001b[0maxis\u001b[0m\u001b[0;34m,\u001b[0m \u001b[0mlevel\u001b[0m\u001b[0;34m=\u001b[0m\u001b[0mlevel\u001b[0m\u001b[0;34m,\u001b[0m \u001b[0merrors\u001b[0m\u001b[0;34m=\u001b[0m\u001b[0merrors\u001b[0m\u001b[0;34m)\u001b[0m\u001b[0;34m\u001b[0m\u001b[0m\n\u001b[0m\u001b[1;32m   2531\u001b[0m \u001b[0;34m\u001b[0m\u001b[0m\n\u001b[1;32m   2532\u001b[0m         \u001b[0;32mif\u001b[0m \u001b[0minplace\u001b[0m\u001b[0;34m:\u001b[0m\u001b[0;34m\u001b[0m\u001b[0m\n",
      "\u001b[0;32m~/anaconda3/envs/nn/lib/python3.6/site-packages/pandas/core/generic.py\u001b[0m in \u001b[0;36m_drop_axis\u001b[0;34m(self, labels, axis, level, errors)\u001b[0m\n\u001b[1;32m   2560\u001b[0m                 \u001b[0mnew_axis\u001b[0m \u001b[0;34m=\u001b[0m \u001b[0maxis\u001b[0m\u001b[0;34m.\u001b[0m\u001b[0mdrop\u001b[0m\u001b[0;34m(\u001b[0m\u001b[0mlabels\u001b[0m\u001b[0;34m,\u001b[0m \u001b[0mlevel\u001b[0m\u001b[0;34m=\u001b[0m\u001b[0mlevel\u001b[0m\u001b[0;34m,\u001b[0m \u001b[0merrors\u001b[0m\u001b[0;34m=\u001b[0m\u001b[0merrors\u001b[0m\u001b[0;34m)\u001b[0m\u001b[0;34m\u001b[0m\u001b[0m\n\u001b[1;32m   2561\u001b[0m             \u001b[0;32melse\u001b[0m\u001b[0;34m:\u001b[0m\u001b[0;34m\u001b[0m\u001b[0m\n\u001b[0;32m-> 2562\u001b[0;31m                 \u001b[0mnew_axis\u001b[0m \u001b[0;34m=\u001b[0m \u001b[0maxis\u001b[0m\u001b[0;34m.\u001b[0m\u001b[0mdrop\u001b[0m\u001b[0;34m(\u001b[0m\u001b[0mlabels\u001b[0m\u001b[0;34m,\u001b[0m \u001b[0merrors\u001b[0m\u001b[0;34m=\u001b[0m\u001b[0merrors\u001b[0m\u001b[0;34m)\u001b[0m\u001b[0;34m\u001b[0m\u001b[0m\n\u001b[0m\u001b[1;32m   2563\u001b[0m             \u001b[0mdropped\u001b[0m \u001b[0;34m=\u001b[0m \u001b[0mself\u001b[0m\u001b[0;34m.\u001b[0m\u001b[0mreindex\u001b[0m\u001b[0;34m(\u001b[0m\u001b[0;34m**\u001b[0m\u001b[0;34m{\u001b[0m\u001b[0maxis_name\u001b[0m\u001b[0;34m:\u001b[0m \u001b[0mnew_axis\u001b[0m\u001b[0;34m}\u001b[0m\u001b[0;34m)\u001b[0m\u001b[0;34m\u001b[0m\u001b[0m\n\u001b[1;32m   2564\u001b[0m             \u001b[0;32mtry\u001b[0m\u001b[0;34m:\u001b[0m\u001b[0;34m\u001b[0m\u001b[0m\n",
      "\u001b[0;32m~/anaconda3/envs/nn/lib/python3.6/site-packages/pandas/core/indexes/base.py\u001b[0m in \u001b[0;36mdrop\u001b[0;34m(self, labels, errors)\u001b[0m\n\u001b[1;32m   3742\u001b[0m             \u001b[0;32mif\u001b[0m \u001b[0merrors\u001b[0m \u001b[0;34m!=\u001b[0m \u001b[0;34m'ignore'\u001b[0m\u001b[0;34m:\u001b[0m\u001b[0;34m\u001b[0m\u001b[0m\n\u001b[1;32m   3743\u001b[0m                 raise ValueError('labels %s not contained in axis' %\n\u001b[0;32m-> 3744\u001b[0;31m                                  labels[mask])\n\u001b[0m\u001b[1;32m   3745\u001b[0m             \u001b[0mindexer\u001b[0m \u001b[0;34m=\u001b[0m \u001b[0mindexer\u001b[0m\u001b[0;34m[\u001b[0m\u001b[0;34m~\u001b[0m\u001b[0mmask\u001b[0m\u001b[0;34m]\u001b[0m\u001b[0;34m\u001b[0m\u001b[0m\n\u001b[1;32m   3746\u001b[0m         \u001b[0;32mreturn\u001b[0m \u001b[0mself\u001b[0m\u001b[0;34m.\u001b[0m\u001b[0mdelete\u001b[0m\u001b[0;34m(\u001b[0m\u001b[0mindexer\u001b[0m\u001b[0;34m)\u001b[0m\u001b[0;34m\u001b[0m\u001b[0m\n",
      "\u001b[0;31mValueError\u001b[0m: labels ['annotator_1' 'annotator_2' 'annotator_3'] not contained in axis"
     ]
    }
   ],
   "source": [
    "from radio.annotation import get_doctors_confidences\n",
    "from radio.annotation import compute_nodule_confidence\n",
    "\n",
    "doctors_confidences = (\n",
    "    radio.annotation.read_nodules(annotation_path)\n",
    "    .set_index('AccessionNumber')\n",
    "    .assign(coordZ=lambda df: df.loc[:, 'coordZ'] * dataset_info.loc[df.index, 'SpacingZ'],\n",
    "            coordY=lambda df: df.loc[:, 'coordY'] * dataset_info.loc[df.index, 'SpacingY'],\n",
    "            coordX=lambda df: df.loc[:, 'coordX'] * dataset_info.loc[df.index, 'SpacingX'])\n",
    "    .reset_index()\n",
    "    .merge(annotators, left_index=True, right_index=True)\n",
    "    .assign(DoctorConfidence=1)\n",
    "    .pipe(compute_nodule_confidence)\n",
    ")"
   ]
  },
  {
   "cell_type": "markdown",
   "metadata": {},
   "source": [
    "## Creating dicom dataset's FilesIndex and Dataset objects"
   ]
  },
  {
   "cell_type": "code",
   "execution_count": 13,
   "metadata": {},
   "outputs": [],
   "source": [
    "from radio import dataset as ds\n",
    "from radio.dataset import V, B, F\n",
    "\n",
    "dataset_path = '/media/kirill/data/ct_scans/part_08/'\n",
    "dataset_info = (\n",
    "    radio.annotation.read_dataset_info(path='/media/kirill/data/ct_scans/part_08/*/*/*/*/*')\n",
    "    .drop_duplicates(subset=['AccessionNumber'])\n",
    "    .set_index('AccessionNumber')\n",
    ")\n",
    "ct_index = ds.FilesIndex(dataset_info.index.values, paths=dict(dataset_info.loc[:, 'ScanPath']), dirs=True)\n",
    "ct_dataset = ds.Dataset(ct_index, batch_class=radio.CTImagesMaskedBatch)"
   ]
  },
  {
   "cell_type": "markdown",
   "metadata": {},
   "source": [
    "Remember that input dataframe for **fetch_nodules_info** actions requires *seriesuid* column:"
   ]
  },
  {
   "cell_type": "code",
   "execution_count": 14,
   "metadata": {},
   "outputs": [
    {
     "data": {
      "text/html": [
       "<div>\n",
       "<style scoped>\n",
       "    .dataframe tbody tr th:only-of-type {\n",
       "        vertical-align: middle;\n",
       "    }\n",
       "\n",
       "    .dataframe tbody tr th {\n",
       "        vertical-align: top;\n",
       "    }\n",
       "\n",
       "    .dataframe thead th {\n",
       "        text-align: right;\n",
       "    }\n",
       "</style>\n",
       "<table border=\"1\" class=\"dataframe\">\n",
       "  <thead>\n",
       "    <tr style=\"text-align: right;\">\n",
       "      <th></th>\n",
       "      <th>AccessionNumber</th>\n",
       "      <th>DoctorID</th>\n",
       "      <th>NoduleID</th>\n",
       "      <th>NoduleType</th>\n",
       "      <th>coordX</th>\n",
       "      <th>coordY</th>\n",
       "      <th>coordZ</th>\n",
       "      <th>diameter_mm</th>\n",
       "      <th>seriesuid</th>\n",
       "    </tr>\n",
       "  </thead>\n",
       "  <tbody>\n",
       "    <tr>\n",
       "      <th>40</th>\n",
       "      <td>AGFA000000061588</td>\n",
       "      <td>002</td>\n",
       "      <td>14c4419196e7ea3f18c0</td>\n",
       "      <td>solid</td>\n",
       "      <td>410.0</td>\n",
       "      <td>274.0</td>\n",
       "      <td>330.0</td>\n",
       "      <td>9.0</td>\n",
       "      <td>AGFA000000061588</td>\n",
       "    </tr>\n",
       "    <tr>\n",
       "      <th>41</th>\n",
       "      <td>AGFA000000061588</td>\n",
       "      <td>002</td>\n",
       "      <td>5259b71fb095d63ffcba</td>\n",
       "      <td>semi_solid</td>\n",
       "      <td>144.0</td>\n",
       "      <td>355.0</td>\n",
       "      <td>221.0</td>\n",
       "      <td>5.0</td>\n",
       "      <td>AGFA000000061588</td>\n",
       "    </tr>\n",
       "    <tr>\n",
       "      <th>45</th>\n",
       "      <td>AGFA000000061588</td>\n",
       "      <td>002</td>\n",
       "      <td>804807d38498b73f5068</td>\n",
       "      <td>solid</td>\n",
       "      <td>163.0</td>\n",
       "      <td>152.0</td>\n",
       "      <td>134.0</td>\n",
       "      <td>5.0</td>\n",
       "      <td>AGFA000000061588</td>\n",
       "    </tr>\n",
       "    <tr>\n",
       "      <th>46</th>\n",
       "      <td>AGFA000000061588</td>\n",
       "      <td>002</td>\n",
       "      <td>28505d4d9679e53f31c9</td>\n",
       "      <td>semi_solid</td>\n",
       "      <td>159.0</td>\n",
       "      <td>162.0</td>\n",
       "      <td>133.0</td>\n",
       "      <td>4.0</td>\n",
       "      <td>AGFA000000061588</td>\n",
       "    </tr>\n",
       "    <tr>\n",
       "      <th>80</th>\n",
       "      <td>AGFA000000061588</td>\n",
       "      <td>005</td>\n",
       "      <td>cadfd11cac49d23f861c</td>\n",
       "      <td>semi_solid</td>\n",
       "      <td>412.0</td>\n",
       "      <td>273.0</td>\n",
       "      <td>330.0</td>\n",
       "      <td>9.0</td>\n",
       "      <td>AGFA000000061588</td>\n",
       "    </tr>\n",
       "  </tbody>\n",
       "</table>\n",
       "</div>"
      ],
      "text/plain": [
       "     AccessionNumber DoctorID              NoduleID  NoduleType  coordX  \\\n",
       "40  AGFA000000061588      002  14c4419196e7ea3f18c0       solid   410.0   \n",
       "41  AGFA000000061588      002  5259b71fb095d63ffcba  semi_solid   144.0   \n",
       "45  AGFA000000061588      002  804807d38498b73f5068       solid   163.0   \n",
       "46  AGFA000000061588      002  28505d4d9679e53f31c9  semi_solid   159.0   \n",
       "80  AGFA000000061588      005  cadfd11cac49d23f861c  semi_solid   412.0   \n",
       "\n",
       "    coordY  coordZ  diameter_mm         seriesuid  \n",
       "40   274.0   330.0          9.0  AGFA000000061588  \n",
       "41   355.0   221.0          5.0  AGFA000000061588  \n",
       "45   152.0   134.0          5.0  AGFA000000061588  \n",
       "46   162.0   133.0          4.0  AGFA000000061588  \n",
       "80   273.0   330.0          9.0  AGFA000000061588  "
      ]
     },
     "execution_count": 14,
     "metadata": {},
     "output_type": "execute_result"
    }
   ],
   "source": [
    "ct_nodules = (\n",
    "    radio.annotation.read_nodules(annotation_path)\n",
    "    .assign(seriesuid=lambda df: df.loc[:, 'AccessionNumber'])\n",
    ")\n",
    "ct_nodules.head()"
   ]
  },
  {
   "cell_type": "markdown",
   "metadata": {},
   "source": [
    "There is one major problem connected with annotation provided by radiologists: coordinates of nodules' centers are provided in pixel scale while diameter has 'mm' scale. If we simply put nodules as an argument of **fetch_nodules_info** function, we will get wrong masks. This could be avoided if both nodules' centers coordinates and diameter were provided in 'mm' scale. However in that case we would need to transform nodules dataframe using info about spacing and origin from all dataset. It is very expensive operation because fetching origin for all scans in dataset will require to read all CT scans in RAM. Fortunatelly, there is an alternative solution: transform coords 'on-the-fly' using F-named expression from dataset submodule in a combination with inverse transform using spacing and origin from batch:"
   ]
  },
  {
   "cell_type": "code",
   "execution_count": 15,
   "metadata": {},
   "outputs": [],
   "source": [
    "def inverse_spacing_origin_transform(batch, nodules):\n",
    "    \"\"\" Transform spacing and origin in nodules dataframe on fly. \"\"\"\n",
    "    indices = np.intersect1d(nodules.seriesuid.values, batch.indices)\n",
    "\n",
    "    nodules = nodules.set_index('seriesuid')\n",
    "    if len(indices) > 0:\n",
    "        nodules = nodules.loc[indices, :]\n",
    "        pos = batch.index.get_pos(nodules.index)\n",
    "\n",
    "        nodules.loc[:, 'coordZ'] *= batch.spacing[pos, 0]\n",
    "        nodules.loc[:, 'coordY'] *= batch.spacing[pos, 1]\n",
    "        nodules.loc[:, 'coordX'] *= batch.spacing[pos, 2]\n",
    "\n",
    "        nodules.loc[:, 'coordZ'] += batch.origin[pos, 0]\n",
    "        nodules.loc[:, 'coordY'] += batch.origin[pos, 1]\n",
    "        nodules.loc[:, 'coordX'] += batch.origin[pos, 2]\n",
    "\n",
    "    return nodules.reset_index()"
   ]
  },
  {
   "cell_type": "code",
   "execution_count": 16,
   "metadata": {},
   "outputs": [],
   "source": [
    "sample_nodules_ppl = ct_dataset >> (\n",
    "    ds.Pipeline()\n",
    "    .load(fmt='dicom')\n",
    "    .fetch_nodules_info(nodules=F(inverse_spacing_origin_transform, nodules=ct_nodules))\n",
    "    .unify_spacing(shape=(400, 512, 512), spacing=(1.7, 1.0, 1.0), method='pil-simd')\n",
    "    .normalize_hu()\n",
    "    .create_mask()\n",
    "    .sample_nodules(nodule_size=(32, 64, 64), batch_size=None, share=1.0)\n",
    ")"
   ]
  },
  {
   "cell_type": "markdown",
   "metadata": {},
   "source": [
    "If we want to use **group_nodules** dataframe that was created earlier, we don't need to transform coordinates using inverse spacing transform: we have already done this before computation of overlapping groups. In that case only inverse origin transform must be applied. As an alternative to this we can just set origin to zeros after loading scans:"
   ]
  },
  {
   "cell_type": "code",
   "execution_count": 17,
   "metadata": {},
   "outputs": [],
   "source": [
    "sample_nodules_ppl = ct_dataset >> (\n",
    "    ds.Pipeline()\n",
    "    .load(fmt='dicom')\n",
    "    .load(fmt='ndarray', origin=F(lambda batch: np.zeros_like(batch.origin)))\n",
    "    .fetch_nodules_info(nodules=group_nodules.assign(seriesuid=lambda df: df.loc[:, 'AccessionNumber']))\n",
    "    .normalize_hu()\n",
    "    .create_mask()\n",
    "    .sample_nodules(nodule_size=(32, 64, 64), batch_size=None, share=1.0)\n",
    ")"
   ]
  },
  {
   "cell_type": "markdown",
   "metadata": {},
   "source": [
    "Let's generate batch with crops sampled from two scans:"
   ]
  },
  {
   "cell_type": "code",
   "execution_count": 18,
   "metadata": {},
   "outputs": [],
   "source": [
    "batch = sample_nodules_ppl.next_batch(batch_size=2)"
   ]
  },
  {
   "cell_type": "markdown",
   "metadata": {},
   "source": [
    "Now we can plot obtained nodules and visually verify built masks:"
   ]
  },
  {
   "cell_type": "code",
   "execution_count": 20,
   "metadata": {},
   "outputs": [
    {
     "data": {
      "text/plain": [
       "<matplotlib.image.AxesImage at 0x7f85b9ed6860>"
      ]
     },
     "execution_count": 20,
     "metadata": {},
     "output_type": "execute_result"
    },
    {
     "data": {
      "image/png": "[encoded data removed]",
      "text/plain": [
       "<matplotlib.figure.Figure at 0x7f85ba8d3d30>"
      ]
     },
     "metadata": {},
     "output_type": "display_data"
    }
   ],
   "source": [
    "plt.figure(figsize=(10, 8))\n",
    "\n",
    "image, mask = batch.get(2, 'images'), batch.get(2, 'masks')\n",
    "\n",
    "ax_image = plt.subplot('131')\n",
    "ax_image.imshow(image[16, :, :])\n",
    "\n",
    "ax_mask = plt.subplot('132')\n",
    "ax_mask.imshow(mask[16, :, :])\n",
    "\n",
    "ax_mask_image = plt.subplot('133')\n",
    "ax_mask_image.imshow(mask[16, :, :] * image[16, :, :])"
   ]
  },
  {
   "cell_type": "code",
   "execution_count": null,
   "metadata": {},
   "outputs": [],
   "source": []
  }
 ],
 "metadata": {
  "kernelspec": {
   "display_name": "Python 3",
   "language": "python",
   "name": "python3"
  },
  "language_info": {
   "codemirror_mode": {
    "name": "ipython",
    "version": 3
   },
   "file_extension": ".py",
   "mimetype": "text/x-python",
   "name": "python",
   "nbconvert_exporter": "python",
   "pygments_lexer": "ipython3",
   "version": "3.6.2"
  }
 },
 "nbformat": 4,
 "nbformat_minor": 2
}
