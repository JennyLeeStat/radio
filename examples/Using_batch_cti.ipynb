{
 "cells": [
  {
   "cell_type": "code",
   "execution_count": 1,
   "metadata": {
    "collapsed": false,
    "deletable": true,
    "editable": true,
    "scrolled": true
   },
   "outputs": [
    {
     "name": "stdout",
     "output_type": "stream",
     "text": [
      "OK\n"
     ]
    }
   ],
   "source": [
    "import os\n",
    "import sys\n",
    "import glob\n",
    "import shutil\n",
    "from copy import deepcopy\n",
    "\n",
    "sys.path.append('..')\n",
    "from preprocessing.ct_batch import CTImagesBatch\n",
    "from dataset.dataset.dsindex import FilesIndex\n",
    "print('OK')"
   ]
  },
  {
   "cell_type": "markdown",
   "metadata": {
    "deletable": true,
    "editable": true
   },
   "source": [
    "### Global index"
   ]
  },
  {
   "cell_type": "code",
   "execution_count": 2,
   "metadata": {
    "collapsed": true,
    "deletable": true,
    "editable": true
   },
   "outputs": [],
   "source": [
    "DIR_TEST = '/notebooks/data/MRT/nci/*'\n",
    "DIR_DUMP = '/notebooks/Koryagin/Batch_dev/dir_for_dumps/'"
   ]
  },
  {
   "cell_type": "code",
   "execution_count": 3,
   "metadata": {
    "collapsed": true,
    "deletable": true,
    "editable": true
   },
   "outputs": [],
   "source": [
    "if os.path.exists(DIR_DUMP):\n",
    "    shutil.rmtree(DIR_DUMP)"
   ]
  },
  {
   "cell_type": "code",
   "execution_count": 4,
   "metadata": {
    "collapsed": false,
    "deletable": true,
    "editable": true
   },
   "outputs": [],
   "source": [
    "ind = FilesIndex(path=DIR_TEST, dirs=True)"
   ]
  },
  {
   "cell_type": "markdown",
   "metadata": {
    "deletable": true,
    "editable": true
   },
   "source": [
    "### Create batch by subindexing"
   ]
  },
  {
   "cell_type": "code",
   "execution_count": 5,
   "metadata": {
    "collapsed": false,
    "deletable": true,
    "editable": true
   },
   "outputs": [],
   "source": [
    "batch = CTImagesBatch(ind.create_subset(ind.index[[2,5,7]]))"
   ]
  },
  {
   "cell_type": "code",
   "execution_count": 6,
   "metadata": {
    "collapsed": false,
    "deletable": true,
    "editable": true
   },
   "outputs": [
    {
     "data": {
      "text/plain": [
       "array(['274a81c75d244187247789bd71de2b3a',\n",
       "       '645e7f46eb9b834153ecf8e2b2921fe5',\n",
       "       'd73264d2c4f71ef6bf8593ac55565d93'], \n",
       "      dtype='<U56')"
      ]
     },
     "execution_count": 6,
     "metadata": {},
     "output_type": "execute_result"
    }
   ],
   "source": [
    "batch.indices"
   ]
  },
  {
   "cell_type": "markdown",
   "metadata": {
    "deletable": true,
    "editable": true
   },
   "source": [
    "### Test actions"
   ]
  },
  {
   "cell_type": "markdown",
   "metadata": {
    "deletable": true,
    "editable": true
   },
   "source": [
    "* check load"
   ]
  },
  {
   "cell_type": "code",
   "execution_count": 7,
   "metadata": {
    "collapsed": false,
    "deletable": true,
    "editable": true
   },
   "outputs": [
    {
     "name": "stdout",
     "output_type": "stream",
     "text": [
      "[array([[[-1003,  -998,  -988, ..., -1014, -1013, -1007],\n",
      "        [ -990,  -980,  -989, ...,  -996, -1010, -1017],\n",
      "        [-1007,  -976,  -975, ...,  -991, -1017, -1023],\n",
      "        ..., \n",
      "        [ -914,  -894,  -892, ...,   138,   159,   140],\n",
      "        [ -912,  -899,  -908, ...,    97,    -2,  -131],\n",
      "        [ -916,  -902,  -900, ...,  -249,  -381,  -518]],\n",
      "\n",
      "       [[ -983,  -996, -1005, ..., -1017, -1018,  -998],\n",
      "        [ -973,  -982, -1002, ..., -1013, -1019, -1004],\n",
      "        [ -982,  -961,  -981, ..., -1011, -1019, -1005],\n",
      "        ..., \n",
      "        [ -926,  -931,  -944, ...,   136,   164,   154],\n",
      "        [ -934,  -942,  -946, ...,   119,    16,  -105],\n",
      "        [ -928,  -923,  -911, ...,  -200,  -349,  -497]],\n",
      "\n",
      "       [[-1015,  -998,  -980, ..., -1013, -1000,  -986],\n",
      "        [-1015, -1004,  -986, ..., -1009, -1005,  -995],\n",
      "        [-1017,  -998,  -981, ..., -1006, -1007,  -995],\n",
      "        ..., \n",
      "        [ -906,  -917,  -917, ...,    94,   136,   152],\n",
      "        [ -932,  -941,  -919, ...,   107,    17,  -104],\n",
      "        [ -934,  -945,  -914, ...,  -181,  -316,  -477]],\n",
      "\n",
      "       ..., \n",
      "       [[ -996, -1013, -1003, ..., -1011, -1010, -1006],\n",
      "        [ -998, -1005, -1010, ..., -1003, -1006, -1004],\n",
      "        [-1009, -1003, -1005, ...,  -994,  -996,  -995],\n",
      "        ..., \n",
      "        [ -880,  -891,  -927, ...,  -274,  -396,  -515],\n",
      "        [ -896,  -920,  -942, ...,  -637,  -703,  -759],\n",
      "        [ -918,  -935,  -925, ...,  -838,  -852,  -878]],\n",
      "\n",
      "       [[-1007,  -999,  -993, ..., -1006, -1005, -1007],\n",
      "        [-1012, -1012, -1003, ..., -1009, -1001, -1000],\n",
      "        [-1018, -1014, -1005, ...,  -992,  -995,  -990],\n",
      "        ..., \n",
      "        [ -906,  -908,  -921, ...,  -283,  -422,  -551],\n",
      "        [ -919,  -921,  -923, ...,  -657,  -738,  -813],\n",
      "        [ -932,  -908,  -891, ...,  -853,  -872,  -900]],\n",
      "\n",
      "       [[-1022, -1020, -1018, ...,  -981,  -984,  -994],\n",
      "        [-1017, -1022, -1021, ...,  -990,  -990,  -988],\n",
      "        [ -989, -1016, -1016, ...,  -988,  -998,  -998],\n",
      "        ..., \n",
      "        [ -881,  -879,  -898, ...,  -274,  -406,  -548],\n",
      "        [ -883,  -893,  -921, ...,  -678,  -767,  -822],\n",
      "        [ -908,  -908,  -915, ...,  -862,  -907,  -920]]], dtype=int16), array([[[-1024, -1024, -1024, ..., -1024, -1024, -1024],\n",
      "        [-1024, -1024, -1024, ..., -1024, -1024, -1024],\n",
      "        [-1024, -1024, -1024, ..., -1024, -1024, -1024],\n",
      "        ..., \n",
      "        [-1024, -1024, -1024, ..., -1024, -1024, -1024],\n",
      "        [-1024, -1024, -1024, ..., -1024, -1024, -1024],\n",
      "        [-1024, -1024, -1024, ..., -1024, -1024, -1024]],\n",
      "\n",
      "       [[-1024, -1024, -1024, ..., -1024, -1024, -1024],\n",
      "        [-1024, -1024, -1024, ..., -1024, -1024, -1024],\n",
      "        [-1024, -1024, -1024, ..., -1024, -1024, -1024],\n",
      "        ..., \n",
      "        [-1024, -1024, -1024, ..., -1024, -1024, -1024],\n",
      "        [-1024, -1024, -1024, ..., -1024, -1024, -1024],\n",
      "        [-1024, -1024, -1024, ..., -1024, -1024, -1024]],\n",
      "\n",
      "       [[-1024, -1024, -1024, ..., -1024, -1024, -1024],\n",
      "        [-1024, -1024, -1024, ..., -1024, -1024, -1024],\n",
      "        [-1024, -1024, -1024, ..., -1024, -1024, -1024],\n",
      "        ..., \n",
      "        [-1024, -1024, -1024, ..., -1024, -1024, -1024],\n",
      "        [-1024, -1024, -1024, ..., -1024, -1024, -1024],\n",
      "        [-1024, -1024, -1024, ..., -1024, -1024, -1024]],\n",
      "\n",
      "       ..., \n",
      "       [[-1024, -1024, -1024, ..., -1024, -1024, -1024],\n",
      "        [-1024, -1024, -1024, ..., -1024, -1024, -1024],\n",
      "        [-1024, -1024, -1024, ..., -1024, -1024, -1024],\n",
      "        ..., \n",
      "        [-1024, -1024, -1024, ..., -1024, -1024, -1024],\n",
      "        [-1024, -1024, -1024, ..., -1024, -1024, -1024],\n",
      "        [-1024, -1024, -1024, ..., -1024, -1024, -1024]],\n",
      "\n",
      "       [[-1024, -1024, -1024, ..., -1024, -1024, -1024],\n",
      "        [-1024, -1024, -1024, ..., -1024, -1024, -1024],\n",
      "        [-1024, -1024, -1024, ..., -1024, -1024, -1024],\n",
      "        ..., \n",
      "        [-1024, -1024, -1024, ..., -1024, -1024, -1024],\n",
      "        [-1024, -1024, -1024, ..., -1024, -1024, -1024],\n",
      "        [-1024, -1024, -1024, ..., -1024, -1024, -1024]],\n",
      "\n",
      "       [[-1024, -1024, -1024, ..., -1024, -1024, -1024],\n",
      "        [-1024, -1024, -1024, ..., -1024, -1024, -1024],\n",
      "        [-1024, -1024, -1024, ..., -1024, -1024, -1024],\n",
      "        ..., \n",
      "        [-1024, -1024, -1024, ..., -1024, -1024, -1024],\n",
      "        [-1024, -1024, -1024, ..., -1024, -1024, -1024],\n",
      "        [-1024, -1024, -1024, ..., -1024, -1024, -1024]]], dtype=int16), array([[[ -995,  -996,  -993, ..., -1012, -1002,  -992],\n",
      "        [ -977,  -994,  -997, ..., -1002,  -996,  -999],\n",
      "        [ -970,  -985, -1003, ...,  -995,  -996, -1000],\n",
      "        ..., \n",
      "        [-1005, -1002, -1007, ...,  -990, -1017, -1000],\n",
      "        [-1010, -1004,  -999, ..., -1004, -1023, -1010],\n",
      "        [-1018, -1010, -1005, ...,  -993, -1018, -1023]],\n",
      "\n",
      "       [[ -997,  -991,  -986, ..., -1010, -1015, -1008],\n",
      "        [-1007, -1007,  -989, ..., -1018, -1013,  -985],\n",
      "        [-1006, -1011, -1005, ..., -1018,  -993,  -974],\n",
      "        ..., \n",
      "        [-1007,  -985,  -983, ...,  -991, -1015,  -992],\n",
      "        [ -991,  -994,  -989, ..., -1015, -1016,  -983],\n",
      "        [-1005, -1007,  -991, ..., -1011, -1012, -1004]],\n",
      "\n",
      "       [[-1005, -1009, -1012, ..., -1016, -1000,  -983],\n",
      "        [ -998, -1012, -1007, ..., -1018, -1000,  -971],\n",
      "        [ -992, -1008, -1003, ..., -1017,  -992,  -978],\n",
      "        ..., \n",
      "        [ -992,  -992,  -994, ...,  -984,  -994, -1002],\n",
      "        [-1004, -1017, -1012, ..., -1001,  -997, -1011],\n",
      "        [-1014, -1014, -1006, ..., -1015,  -993, -1002]],\n",
      "\n",
      "       ..., \n",
      "       [[ -999,  -989,  -980, ..., -1013, -1007, -1004],\n",
      "        [ -998,  -998,  -979, ..., -1005,  -998, -1006],\n",
      "        [-1002,  -992,  -984, ...,  -992,  -993,  -997],\n",
      "        ..., \n",
      "        [ -985,  -981, -1006, ..., -1014, -1015, -1018],\n",
      "        [ -993,  -992, -1007, ...,  -981,  -989, -1006],\n",
      "        [-1011, -1004, -1008, ...,  -993,  -977,  -998]],\n",
      "\n",
      "       [[ -988, -1012, -1016, ...,  -976, -1009, -1023],\n",
      "        [ -985,  -999, -1015, ...,  -995, -1019, -1015],\n",
      "        [ -990, -1000, -1012, ...,  -986, -1013,  -989],\n",
      "        ..., \n",
      "        [ -965,  -960,  -974, ..., -1024, -1012,  -986],\n",
      "        [ -989,  -986, -1015, ..., -1020, -1020,  -975],\n",
      "        [ -983, -1012, -1024, ..., -1001, -1020,  -997]],\n",
      "\n",
      "       [[-1024, -1010,  -995, ...,  -984,  -999,  -997],\n",
      "        [-1011, -1017, -1013, ...,  -980,  -991, -1013],\n",
      "        [-1009, -1020, -1021, ..., -1002, -1021, -1008],\n",
      "        ..., \n",
      "        [ -984,  -991, -1003, ..., -1024, -1021,  -997],\n",
      "        [-1008, -1016, -1020, ...,  -997, -1024, -1021],\n",
      "        [-1020, -1016, -1009, ...,  -994, -1008, -1011]]], dtype=int16)]\n"
     ]
    },
    {
     "data": {
      "text/plain": [
       "<preprocessing.ct_batch.CTImagesBatch at 0x7f1264c29630>"
      ]
     },
     "execution_count": 7,
     "metadata": {},
     "output_type": "execute_result"
    }
   ],
   "source": [
    "batch.load(fmt='dicom')"
   ]
  },
  {
   "cell_type": "code",
   "execution_count": 8,
   "metadata": {
    "collapsed": false,
    "deletable": true,
    "editable": true
   },
   "outputs": [],
   "source": [
    "batch_copy = deepcopy(batch)"
   ]
  },
  {
   "cell_type": "markdown",
   "metadata": {
    "deletable": true,
    "editable": true
   },
   "source": [
    "* check attrs"
   ]
  },
  {
   "cell_type": "code",
   "execution_count": 9,
   "metadata": {
    "collapsed": false,
    "deletable": true,
    "editable": true
   },
   "outputs": [
    {
     "data": {
      "text/plain": [
       "(471, 512, 512)"
      ]
     },
     "execution_count": 9,
     "metadata": {},
     "output_type": "execute_result"
    }
   ],
   "source": [
    "batch._data.shape"
   ]
  },
  {
   "cell_type": "code",
   "execution_count": 10,
   "metadata": {
    "collapsed": false,
    "deletable": true,
    "editable": true
   },
   "outputs": [
    {
     "data": {
      "text/plain": [
       "array([  0, 184, 314, 471])"
      ]
     },
     "execution_count": 10,
     "metadata": {},
     "output_type": "execute_result"
    }
   ],
   "source": [
    "batch._bounds"
   ]
  },
  {
   "cell_type": "code",
   "execution_count": 11,
   "metadata": {
    "collapsed": false
   },
   "outputs": [
    {
     "data": {
      "text/plain": [
       "array([184, 314, 471])"
      ]
     },
     "execution_count": 11,
     "metadata": {},
     "output_type": "execute_result"
    }
   ],
   "source": [
    "batch.upper_bounds"
   ]
  },
  {
   "cell_type": "markdown",
   "metadata": {
    "deletable": true,
    "editable": true
   },
   "source": [
    "* check resize, segment, dump"
   ]
  },
  {
   "cell_type": "code",
   "execution_count": 12,
   "metadata": {
    "collapsed": false,
    "deletable": true,
    "editable": true
   },
   "outputs": [],
   "source": [
    "batch2 = batch.resize(shape=(32, 64, 64), n_workers=6)"
   ]
  },
  {
   "cell_type": "code",
   "execution_count": 13,
   "metadata": {
    "collapsed": false,
    "deletable": true,
    "editable": true
   },
   "outputs": [
    {
     "data": {
      "text/plain": [
       "(96, 64, 64)"
      ]
     },
     "execution_count": 13,
     "metadata": {},
     "output_type": "execute_result"
    }
   ],
   "source": [
    "batch._data.shape"
   ]
  },
  {
   "cell_type": "code",
   "execution_count": 14,
   "metadata": {
    "collapsed": false,
    "deletable": true,
    "editable": true
   },
   "outputs": [
    {
     "data": {
      "text/plain": [
       "array([ 0, 32, 64, 96])"
      ]
     },
     "execution_count": 14,
     "metadata": {},
     "output_type": "execute_result"
    }
   ],
   "source": [
    "batch._bounds"
   ]
  },
  {
   "cell_type": "markdown",
   "metadata": {
    "deletable": true,
    "editable": true
   },
   "source": [
    "* check dump"
   ]
  },
  {
   "cell_type": "code",
   "execution_count": 15,
   "metadata": {
    "collapsed": false,
    "deletable": true,
    "editable": true
   },
   "outputs": [
    {
     "name": "stderr",
     "output_type": "stream",
     "text": [
      "selector_events.py[LINE:53]#DEBUG    [2017-06-01 09:50:06,025]  Using selector: EpollSelector\n"
     ]
    },
    {
     "name": "stdout",
     "output_type": "stream",
     "text": [
      "[AttributeError(\"'CTImagesBatch' object has no attribute 'dump_blosc_async'\",), AttributeError(\"'CTImagesBatch' object has no attribute 'dump_blosc_async'\",), AttributeError(\"'CTImagesBatch' object has no attribute 'dump_blosc_async'\",)]\n"
     ]
    },
    {
     "ename": "ValueError",
     "evalue": "Failed while parallelizing",
     "output_type": "error",
     "traceback": [
      "\u001b[0;31m---------------------------------------------------------------------------\u001b[0m",
      "\u001b[0;31mValueError\u001b[0m                                Traceback (most recent call last)",
      "\u001b[0;32m<ipython-input-15-ab87f2f4c9d3>\u001b[0m in \u001b[0;36m<module>\u001b[0;34m()\u001b[0m\n\u001b[0;32m----> 1\u001b[0;31m \u001b[0mbatch2\u001b[0m\u001b[0;34m.\u001b[0m\u001b[0mdump\u001b[0m\u001b[0;34m(\u001b[0m\u001b[0mdst\u001b[0m\u001b[0;34m=\u001b[0m\u001b[0mDIR_DUMP\u001b[0m\u001b[0;34m)\u001b[0m\u001b[0;34m\u001b[0m\u001b[0m\n\u001b[0m",
      "\u001b[0;32m/notebooks/Koryagin/Batch_dev/Patching/lung-cancer/dataset/dataset/decorators.py\u001b[0m in \u001b[0;36mwrapped_method\u001b[0;34m(self, *args, **kwargs)\u001b[0m\n\u001b[1;32m    167\u001b[0m                 \u001b[0;32mreturn\u001b[0m \u001b[0mwrap_with_mpc\u001b[0m\u001b[0;34m(\u001b[0m\u001b[0mself\u001b[0m\u001b[0;34m,\u001b[0m \u001b[0margs\u001b[0m\u001b[0;34m,\u001b[0m \u001b[0mkwargs\u001b[0m\u001b[0;34m)\u001b[0m\u001b[0;34m\u001b[0m\u001b[0m\n\u001b[1;32m    168\u001b[0m             \u001b[0;32melif\u001b[0m \u001b[0mtarget\u001b[0m \u001b[0;34m==\u001b[0m \u001b[0;34m'async'\u001b[0m\u001b[0;34m:\u001b[0m\u001b[0;34m\u001b[0m\u001b[0m\n\u001b[0;32m--> 169\u001b[0;31m                 \u001b[0;32mreturn\u001b[0m \u001b[0mwrap_with_async\u001b[0m\u001b[0;34m(\u001b[0m\u001b[0mself\u001b[0m\u001b[0;34m,\u001b[0m \u001b[0margs\u001b[0m\u001b[0;34m,\u001b[0m \u001b[0mkwargs\u001b[0m\u001b[0;34m)\u001b[0m\u001b[0;34m\u001b[0m\u001b[0m\n\u001b[0m\u001b[1;32m    170\u001b[0m             \u001b[0;32mraise\u001b[0m \u001b[0mValueError\u001b[0m\u001b[0;34m(\u001b[0m\u001b[0;34m'Wrong parallelization target:'\u001b[0m\u001b[0;34m,\u001b[0m \u001b[0mtarget\u001b[0m\u001b[0;34m)\u001b[0m\u001b[0;34m\u001b[0m\u001b[0m\n\u001b[1;32m    171\u001b[0m         \u001b[0;32mreturn\u001b[0m \u001b[0mwrapped_method\u001b[0m\u001b[0;34m\u001b[0m\u001b[0m\n",
      "\u001b[0;32m/notebooks/Koryagin/Batch_dev/Patching/lung-cancer/dataset/dataset/decorators.py\u001b[0m in \u001b[0;36mwrap_with_async\u001b[0;34m(self, args, kwargs)\u001b[0m\n\u001b[1;32m    156\u001b[0m             \u001b[0mloop\u001b[0m\u001b[0;34m.\u001b[0m\u001b[0mrun_until_complete\u001b[0m\u001b[0;34m(\u001b[0m\u001b[0masyncio\u001b[0m\u001b[0;34m.\u001b[0m\u001b[0mgather\u001b[0m\u001b[0;34m(\u001b[0m\u001b[0;34m*\u001b[0m\u001b[0mfutures\u001b[0m\u001b[0;34m,\u001b[0m \u001b[0mloop\u001b[0m\u001b[0;34m=\u001b[0m\u001b[0mloop\u001b[0m\u001b[0;34m,\u001b[0m \u001b[0mreturn_exceptions\u001b[0m\u001b[0;34m=\u001b[0m\u001b[0;32mTrue\u001b[0m\u001b[0;34m)\u001b[0m\u001b[0;34m)\u001b[0m\u001b[0;34m\u001b[0m\u001b[0m\n\u001b[1;32m    157\u001b[0m \u001b[0;34m\u001b[0m\u001b[0m\n\u001b[0;32m--> 158\u001b[0;31m             \u001b[0;32mreturn\u001b[0m \u001b[0m_call_post_fn\u001b[0m\u001b[0;34m(\u001b[0m\u001b[0mself\u001b[0m\u001b[0;34m,\u001b[0m \u001b[0mpost_fn\u001b[0m\u001b[0;34m,\u001b[0m \u001b[0mfutures\u001b[0m\u001b[0;34m,\u001b[0m \u001b[0margs\u001b[0m\u001b[0;34m,\u001b[0m \u001b[0mfull_kwargs\u001b[0m\u001b[0;34m)\u001b[0m\u001b[0;34m\u001b[0m\u001b[0m\n\u001b[0m\u001b[1;32m    159\u001b[0m \u001b[0;34m\u001b[0m\u001b[0m\n\u001b[1;32m    160\u001b[0m         \u001b[0;32mdef\u001b[0m \u001b[0mwrapped_method\u001b[0m\u001b[0;34m(\u001b[0m\u001b[0mself\u001b[0m\u001b[0;34m,\u001b[0m \u001b[0;34m*\u001b[0m\u001b[0margs\u001b[0m\u001b[0;34m,\u001b[0m \u001b[0;34m**\u001b[0m\u001b[0mkwargs\u001b[0m\u001b[0;34m)\u001b[0m\u001b[0;34m:\u001b[0m\u001b[0;34m\u001b[0m\u001b[0m\n",
      "\u001b[0;32m/notebooks/Koryagin/Batch_dev/Patching/lung-cancer/dataset/dataset/decorators.py\u001b[0m in \u001b[0;36m_call_post_fn\u001b[0;34m(self, post_fn, futures, args, kwargs)\u001b[0m\n\u001b[1;32m     74\u001b[0m                     \u001b[0;32mfinally\u001b[0m\u001b[0;34m:\u001b[0m\u001b[0;34m\u001b[0m\u001b[0m\n\u001b[1;32m     75\u001b[0m                         \u001b[0mall_results\u001b[0m \u001b[0;34m+=\u001b[0m \u001b[0;34m[\u001b[0m\u001b[0mresult\u001b[0m\u001b[0;34m]\u001b[0m\u001b[0;34m\u001b[0m\u001b[0m\n\u001b[0;32m---> 76\u001b[0;31m                 \u001b[0;32mreturn\u001b[0m \u001b[0mpost_fn\u001b[0m\u001b[0;34m(\u001b[0m\u001b[0mall_results\u001b[0m\u001b[0;34m,\u001b[0m \u001b[0;34m*\u001b[0m\u001b[0margs\u001b[0m\u001b[0;34m,\u001b[0m \u001b[0;34m**\u001b[0m\u001b[0mkwargs\u001b[0m\u001b[0;34m)\u001b[0m\u001b[0;34m\u001b[0m\u001b[0m\n\u001b[0m\u001b[1;32m     77\u001b[0m \u001b[0;34m\u001b[0m\u001b[0m\n\u001b[1;32m     78\u001b[0m         \u001b[0;32mdef\u001b[0m \u001b[0m_make_args\u001b[0m\u001b[0;34m(\u001b[0m\u001b[0minit_args\u001b[0m\u001b[0;34m,\u001b[0m \u001b[0margs\u001b[0m\u001b[0;34m,\u001b[0m \u001b[0mkwargs\u001b[0m\u001b[0;34m)\u001b[0m\u001b[0;34m:\u001b[0m\u001b[0;34m\u001b[0m\u001b[0m\n",
      "\u001b[0;32m/notebooks/Koryagin/Batch_dev/Patching/lung-cancer/preprocessing/ct_batch.py\u001b[0m in \u001b[0;36m_post_default\u001b[0;34m(self, list_of_arrs, update, new_batch, **kwargs)\u001b[0m\n\u001b[1;32m    406\u001b[0m         \u001b[0mprint\u001b[0m\u001b[0;34m(\u001b[0m\u001b[0mlist_of_arrs\u001b[0m\u001b[0;34m)\u001b[0m\u001b[0;34m\u001b[0m\u001b[0m\n\u001b[1;32m    407\u001b[0m         \u001b[0;32mif\u001b[0m \u001b[0many_action_failed\u001b[0m\u001b[0;34m(\u001b[0m\u001b[0mlist_of_arrs\u001b[0m\u001b[0;34m)\u001b[0m\u001b[0;34m:\u001b[0m\u001b[0;34m\u001b[0m\u001b[0m\n\u001b[0;32m--> 408\u001b[0;31m             \u001b[0;32mraise\u001b[0m \u001b[0mValueError\u001b[0m\u001b[0;34m(\u001b[0m\u001b[0;34m\"Failed while parallelizing\"\u001b[0m\u001b[0;34m)\u001b[0m\u001b[0;34m\u001b[0m\u001b[0m\n\u001b[0m\u001b[1;32m    409\u001b[0m \u001b[0;34m\u001b[0m\u001b[0m\n\u001b[1;32m    410\u001b[0m         \u001b[0mres\u001b[0m \u001b[0;34m=\u001b[0m \u001b[0mself\u001b[0m\u001b[0;34m\u001b[0m\u001b[0m\n",
      "\u001b[0;31mValueError\u001b[0m: Failed while parallelizing"
     ]
    }
   ],
   "source": [
    "batch2.dump(dst=DIR_DUMP)"
   ]
  },
  {
   "cell_type": "markdown",
   "metadata": {
    "deletable": true,
    "editable": true
   },
   "source": [
    "### Build batch from dump and compare"
   ]
  },
  {
   "cell_type": "code",
   "execution_count": null,
   "metadata": {
    "collapsed": false,
    "deletable": true,
    "editable": true
   },
   "outputs": [],
   "source": [
    "ind_dumped = FilesIndex(path=DIR_DUMP + '/*', dirs=True)"
   ]
  },
  {
   "cell_type": "code",
   "execution_count": null,
   "metadata": {
    "collapsed": false,
    "deletable": true,
    "editable": true
   },
   "outputs": [],
   "source": [
    "ind_dumped.index"
   ]
  },
  {
   "cell_type": "code",
   "execution_count": null,
   "metadata": {
    "collapsed": false,
    "deletable": true,
    "editable": true
   },
   "outputs": [],
   "source": [
    "batch_from_dump = CTImagesBatch(ind_dumped)"
   ]
  },
  {
   "cell_type": "code",
   "execution_count": null,
   "metadata": {
    "collapsed": false,
    "deletable": true,
    "editable": true,
    "scrolled": true
   },
   "outputs": [],
   "source": [
    "batch_from_dump.load(fmt='blosc', src=None)"
   ]
  },
  {
   "cell_type": "code",
   "execution_count": null,
   "metadata": {
    "collapsed": true,
    "deletable": true,
    "editable": true
   },
   "outputs": [],
   "source": [
    "def plot_slices(height, num_pers, *batches):\n",
    "    fig, axes = plt.subplots(1, len(batches), figsize = (10, len(batches)*8))\n",
    "    com_args = dict(clim=(-1200, 300), cmap=(plt.cm.gray))\n",
    "    \n",
    "    for i in range(len(batches)):\n",
    "        axes[i].imshow(batches[i].get_axial_slice(num_pers, height), **com_args)\n",
    "    \n",
    "    plt.show()"
   ]
  },
  {
   "cell_type": "code",
   "execution_count": null,
   "metadata": {
    "collapsed": false,
    "deletable": true,
    "editable": true
   },
   "outputs": [],
   "source": [
    "batch.indices"
   ]
  },
  {
   "cell_type": "code",
   "execution_count": null,
   "metadata": {
    "collapsed": false,
    "deletable": true,
    "editable": true
   },
   "outputs": [],
   "source": [
    "batch_from_dump.indices"
   ]
  },
  {
   "cell_type": "code",
   "execution_count": null,
   "metadata": {
    "collapsed": false,
    "deletable": true,
    "editable": true
   },
   "outputs": [],
   "source": [
    "interact(lambda height: plot_slices(height, 1, batch_copy, batch, batch_from_dump), \n",
    "         height=(0.01, 0.99, 0.01))"
   ]
  },
  {
   "cell_type": "markdown",
   "metadata": {
    "deletable": true,
    "editable": true
   },
   "source": [
    "### XIP"
   ]
  },
  {
   "cell_type": "code",
   "execution_count": null,
   "metadata": {
    "collapsed": false,
    "deletable": true,
    "editable": true
   },
   "outputs": [],
   "source": [
    "xip = batch.make_xip()"
   ]
  },
  {
   "cell_type": "code",
   "execution_count": null,
   "metadata": {
    "collapsed": false,
    "deletable": true,
    "editable": true
   },
   "outputs": [],
   "source": [
    "interact(lambda height: plot_slices(height, 2, batch_from_dump, xip), height=(0.01, 0.99, 0.01))"
   ]
  },
  {
   "cell_type": "code",
   "execution_count": null,
   "metadata": {
    "collapsed": false,
    "deletable": true,
    "editable": true
   },
   "outputs": [],
   "source": [
    "xip.indices"
   ]
  },
  {
   "cell_type": "code",
   "execution_count": null,
   "metadata": {
    "collapsed": false,
    "deletable": true,
    "editable": true
   },
   "outputs": [],
   "source": [
    "xip.index.index"
   ]
  },
  {
   "cell_type": "code",
   "execution_count": null,
   "metadata": {
    "collapsed": true,
    "deletable": true,
    "editable": true
   },
   "outputs": [],
   "source": []
  }
 ],
 "metadata": {
  "kernelspec": {
   "display_name": "Python 3",
   "language": "python",
   "name": "python3"
  },
  "language_info": {
   "codemirror_mode": {
    "name": "ipython",
    "version": 3
   },
   "file_extension": ".py",
   "mimetype": "text/x-python",
   "name": "python",
   "nbconvert_exporter": "python",
   "pygments_lexer": "ipython3",
   "version": "3.5.2"
  }
 },
 "nbformat": 4,
 "nbformat_minor": 0
}
