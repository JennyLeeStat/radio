{
 "cells": [
  {
   "cell_type": "code",
   "execution_count": 1,
   "metadata": {
    "collapsed": false,
    "deletable": true,
    "editable": true
   },
   "outputs": [
    {
     "name": "stdout",
     "output_type": "stream",
     "text": [
      "OK\n"
     ]
    }
   ],
   "source": [
    "import os\n",
    "import sys\n",
    "import glob\n",
    "import shutil\n",
    "from ipywidgets import interact\n",
    "from copy import deepcopy\n",
    "import matplotlib.pyplot as plt\n",
    "print('OK')"
   ]
  },
  {
   "cell_type": "code",
   "execution_count": 3,
   "metadata": {
    "collapsed": true,
    "deletable": true,
    "editable": true
   },
   "outputs": [],
   "source": [
    "sys.path.append('..')"
   ]
  },
  {
   "cell_type": "code",
   "execution_count": 4,
   "metadata": {
    "collapsed": false,
    "deletable": true,
    "editable": true
   },
   "outputs": [],
   "source": [
    "from preprocessing.BatchCt import BatchCt\n",
    "from dataset.dataset.dsindex import FilesIndex"
   ]
  },
  {
   "cell_type": "markdown",
   "metadata": {
    "deletable": true,
    "editable": true
   },
   "source": [
    "### Global index"
   ]
  },
  {
   "cell_type": "code",
   "execution_count": 5,
   "metadata": {
    "collapsed": true,
    "deletable": true,
    "editable": true
   },
   "outputs": [],
   "source": [
    "DIR_TEST = '/notebooks/data/MRT/nci/*'\n",
    "DIR_DUMP = '/notebooks/Koryagin/Batch_dev/dir_for_dumps/'"
   ]
  },
  {
   "cell_type": "code",
   "execution_count": 6,
   "metadata": {
    "collapsed": true
   },
   "outputs": [],
   "source": [
    "if os.path.exists(DIR_DUMP):\n",
    "    shutil.rmtree(DIR_DUMP)"
   ]
  },
  {
   "cell_type": "code",
   "execution_count": 7,
   "metadata": {
    "collapsed": false,
    "deletable": true,
    "editable": true
   },
   "outputs": [],
   "source": [
    "ind = FilesIndex(DIR_TEST, dirs=True)"
   ]
  },
  {
   "cell_type": "code",
   "execution_count": 8,
   "metadata": {
    "collapsed": false,
    "deletable": true,
    "editable": true
   },
   "outputs": [],
   "source": [
    "paths = glob.glob(DIR_TEST)"
   ]
  },
  {
   "cell_type": "markdown",
   "metadata": {},
   "source": [
    "### Create batch by subindexing"
   ]
  },
  {
   "cell_type": "code",
   "execution_count": 9,
   "metadata": {
    "collapsed": false,
    "deletable": true,
    "editable": true
   },
   "outputs": [],
   "source": [
    "batch = BatchCt(ind.index[[1, 100, 300, 400, 600]])"
   ]
  },
  {
   "cell_type": "code",
   "execution_count": 10,
   "metadata": {
    "collapsed": false,
    "deletable": true,
    "editable": true
   },
   "outputs": [
    {
     "data": {
      "text/plain": [
       "{'_crop_centers': array([], dtype=int32),\n",
       " '_crop_sizes': array([], dtype=int32),\n",
       " '_data': None,\n",
       " '_lower_bounds': array([], dtype=int32),\n",
       " '_patient_index_number': {},\n",
       " '_patient_index_path': {},\n",
       " '_upper_bounds': array([], dtype=int32),\n",
       " 'data': None,\n",
       " 'history': [],\n",
       " 'index': array(['7f137d30638a87d151ac7e84eeaf48e8',\n",
       "        '0fe9dd36f4dece7f4ec017433c4d4a50',\n",
       "        '7b43882369098df840e51421e6059aea',\n",
       "        '90e5f4780b2f05136ff5f776a5cbc2af',\n",
       "        '83728b6eed98845556bfc870b7567883'], \n",
       "       dtype='<U32')}"
      ]
     },
     "execution_count": 10,
     "metadata": {},
     "output_type": "execute_result"
    }
   ],
   "source": [
    "batch.__dict__"
   ]
  },
  {
   "cell_type": "code",
   "execution_count": 11,
   "metadata": {
    "collapsed": true,
    "deletable": true,
    "editable": true
   },
   "outputs": [],
   "source": [
    "dicty = dict(zip(ind.index, paths))"
   ]
  },
  {
   "cell_type": "markdown",
   "metadata": {},
   "source": [
    "### Test actions"
   ]
  },
  {
   "cell_type": "markdown",
   "metadata": {},
   "source": [
    "* check load"
   ]
  },
  {
   "cell_type": "code",
   "execution_count": 12,
   "metadata": {
    "collapsed": false,
    "deletable": true,
    "editable": true
   },
   "outputs": [],
   "source": [
    "batch.load(batch_id='batch_0', all_patients_paths=dicty, \n",
    "           btype='dicom')\n",
    "batch_copy = deepcopy(batch)"
   ]
  },
  {
   "cell_type": "markdown",
   "metadata": {},
   "source": [
    "* check attrs"
   ]
  },
  {
   "cell_type": "code",
   "execution_count": 13,
   "metadata": {
    "collapsed": false,
    "deletable": true,
    "editable": true
   },
   "outputs": [
    {
     "data": {
      "text/plain": [
       "(1193, 512, 512)"
      ]
     },
     "execution_count": 13,
     "metadata": {},
     "output_type": "execute_result"
    }
   ],
   "source": [
    "batch._data.shape"
   ]
  },
  {
   "cell_type": "code",
   "execution_count": 14,
   "metadata": {
    "collapsed": false,
    "deletable": true,
    "editable": true
   },
   "outputs": [
    {
     "data": {
      "text/plain": [
       "array([  0, 124, 246, 577, 705])"
      ]
     },
     "execution_count": 14,
     "metadata": {},
     "output_type": "execute_result"
    }
   ],
   "source": [
    "batch._lower_bounds"
   ]
  },
  {
   "cell_type": "code",
   "execution_count": 15,
   "metadata": {
    "collapsed": false,
    "deletable": true,
    "editable": true
   },
   "outputs": [
    {
     "data": {
      "text/plain": [
       "array([ 124,  246,  577,  705, 1193])"
      ]
     },
     "execution_count": 15,
     "metadata": {},
     "output_type": "execute_result"
    }
   ],
   "source": [
    "batch._upper_bounds"
   ]
  },
  {
   "cell_type": "code",
   "execution_count": 16,
   "metadata": {
    "collapsed": false,
    "deletable": true,
    "editable": true
   },
   "outputs": [
    {
     "data": {
      "text/plain": [
       "[{'method': 'load', 'params': {}}]"
      ]
     },
     "execution_count": 16,
     "metadata": {},
     "output_type": "execute_result"
    }
   ],
   "source": [
    "batch.history"
   ]
  },
  {
   "cell_type": "code",
   "execution_count": 17,
   "metadata": {
    "collapsed": false,
    "deletable": true,
    "editable": true
   },
   "outputs": [
    {
     "data": {
      "text/plain": [
       "array(['7f137d30638a87d151ac7e84eeaf48e8',\n",
       "       '0fe9dd36f4dece7f4ec017433c4d4a50',\n",
       "       '7b43882369098df840e51421e6059aea',\n",
       "       '90e5f4780b2f05136ff5f776a5cbc2af',\n",
       "       '83728b6eed98845556bfc870b7567883'], \n",
       "      dtype='<U32')"
      ]
     },
     "execution_count": 17,
     "metadata": {},
     "output_type": "execute_result"
    }
   ],
   "source": [
    "batch.index"
   ]
  },
  {
   "cell_type": "markdown",
   "metadata": {},
   "source": [
    "* check resize, segment, dump"
   ]
  },
  {
   "cell_type": "code",
   "execution_count": 18,
   "metadata": {
    "collapsed": true
   },
   "outputs": [],
   "source": [
    "batch = batch.resize(num_slices_new=128, num_x_new=256, num_y_new=256,\n",
    "                     num_threads=20).segment(erosion_radius=2, num_threads=20)"
   ]
  },
  {
   "cell_type": "markdown",
   "metadata": {},
   "source": [
    "* check history"
   ]
  },
  {
   "cell_type": "code",
   "execution_count": 19,
   "metadata": {
    "collapsed": false
   },
   "outputs": [
    {
     "data": {
      "text/plain": [
       "[{'method': 'load', 'params': {}},\n",
       " {'method': 'resize',\n",
       "  'params': {'num_slices_new': 128,\n",
       "   'num_threads': 20,\n",
       "   'num_x_new': 256,\n",
       "   'num_y_new': 256,\n",
       "   'order': 3}},\n",
       " {'method': 'segmentation',\n",
       "  'params': {'erosion_radius': 2, 'num_threads': 20}}]"
      ]
     },
     "execution_count": 19,
     "metadata": {},
     "output_type": "execute_result"
    }
   ],
   "source": [
    "batch.history"
   ]
  },
  {
   "cell_type": "markdown",
   "metadata": {},
   "source": [
    "* check dump"
   ]
  },
  {
   "cell_type": "code",
   "execution_count": 20,
   "metadata": {
    "collapsed": true
   },
   "outputs": [],
   "source": [
    "batch.dump(DIR_DUMP)"
   ]
  },
  {
   "cell_type": "markdown",
   "metadata": {},
   "source": [
    "### Build batch from dump and compare"
   ]
  },
  {
   "cell_type": "code",
   "execution_count": 21,
   "metadata": {
    "collapsed": true
   },
   "outputs": [],
   "source": [
    "batch_from_dump = BatchCt(ind.index[[1, 100, 300, 400, 600]])"
   ]
  },
  {
   "cell_type": "code",
   "execution_count": 22,
   "metadata": {
    "collapsed": true
   },
   "outputs": [],
   "source": [
    "paths_dumped = glob.glob(DIR_DUMP+'/*/*')"
   ]
  },
  {
   "cell_type": "code",
   "execution_count": 23,
   "metadata": {
    "collapsed": false
   },
   "outputs": [
    {
     "data": {
      "text/plain": [
       "['/notebooks/Koryagin/Batch_dev/dir_for_dumps/7f137d30638a87d151ac7e84eeaf48e8/data.blk',\n",
       " '/notebooks/Koryagin/Batch_dev/dir_for_dumps/0fe9dd36f4dece7f4ec017433c4d4a50/data.blk',\n",
       " '/notebooks/Koryagin/Batch_dev/dir_for_dumps/7b43882369098df840e51421e6059aea/data.blk',\n",
       " '/notebooks/Koryagin/Batch_dev/dir_for_dumps/90e5f4780b2f05136ff5f776a5cbc2af/data.blk',\n",
       " '/notebooks/Koryagin/Batch_dev/dir_for_dumps/83728b6eed98845556bfc870b7567883/data.blk']"
      ]
     },
     "execution_count": 23,
     "metadata": {},
     "output_type": "execute_result"
    }
   ],
   "source": [
    "paths_dumped"
   ]
  },
  {
   "cell_type": "code",
   "execution_count": 24,
   "metadata": {
    "collapsed": false
   },
   "outputs": [],
   "source": [
    "ind_dumped = FilesIndex(DIR_DUMP +'*', dirs=True)"
   ]
  },
  {
   "cell_type": "code",
   "execution_count": 25,
   "metadata": {
    "collapsed": true
   },
   "outputs": [],
   "source": [
    "dicty_dumped = dict(zip(ind_dumped.index, paths_dumped))"
   ]
  },
  {
   "cell_type": "code",
   "execution_count": 26,
   "metadata": {
    "collapsed": false
   },
   "outputs": [],
   "source": [
    "batch_from_dump.load(batch_id='batch_1', all_patients_paths=dicty_dumped,\n",
    "                    btype='blosc')"
   ]
  },
  {
   "cell_type": "code",
   "execution_count": 27,
   "metadata": {
    "collapsed": false
   },
   "outputs": [
    {
     "data": {
      "text/plain": [
       "(640, 256, 256)"
      ]
     },
     "execution_count": 27,
     "metadata": {},
     "output_type": "execute_result"
    }
   ],
   "source": [
    "batch_from_dump._data.shape"
   ]
  },
  {
   "cell_type": "code",
   "execution_count": 39,
   "metadata": {
    "collapsed": true
   },
   "outputs": [],
   "source": [
    "num_pers = 3\n",
    "\n",
    "def plot_slices(height):\n",
    "    fig, axes = plt.subplots(1, 3, figsize = (10, 25))\n",
    "    com_args = dict(clim=(-1200, 300), cmap=(plt.cm.gray))\n",
    "    axes[0].imshow(batch_copy.get_axial_slice(num_pers, height), **com_args)\n",
    "    axes[1].imshow(batch.get_axial_slice(num_pers, height), **com_args)\n",
    "    axes[2].imshow(batch_from_dump.get_axial_slice(num_pers, height), **com_args)\n",
    "    \n",
    "    plt.show()"
   ]
  },
  {
   "cell_type": "code",
   "execution_count": 40,
   "metadata": {
    "collapsed": false
   },
   "outputs": [
    {
     "data": {
      "application/vnd.jupyter.widget-view+json": {
       "model_id": "f6c965b9612843d1a2b3849bb64d2b11"
      }
     },
     "metadata": {},
     "output_type": "display_data"
    },
    {
     "data": {
      "text/plain": [
       "<function __main__.plot_slices>"
      ]
     },
     "execution_count": 40,
     "metadata": {},
     "output_type": "execute_result"
    }
   ],
   "source": [
    "interact(plot_slices, height=(0.01, 0.99, 0.01))"
   ]
  },
  {
   "cell_type": "code",
   "execution_count": null,
   "metadata": {
    "collapsed": true
   },
   "outputs": [],
   "source": []
  }
 ],
 "metadata": {
  "kernelspec": {
   "display_name": "Python 3",
   "language": "python",
   "name": "python3"
  },
  "language_info": {
   "codemirror_mode": {
    "name": "ipython",
    "version": 3
   },
   "file_extension": ".py",
   "mimetype": "text/x-python",
   "name": "python",
   "nbconvert_exporter": "python",
   "pygments_lexer": "ipython3",
   "version": "3.5.2"
  }
 },
 "nbformat": 4,
 "nbformat_minor": 0
}
