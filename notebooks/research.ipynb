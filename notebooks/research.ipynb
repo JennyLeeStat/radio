{
 "cells": [
  {
   "cell_type": "code",
   "execution_count": 1,
   "metadata": {
    "collapsed": true
   },
   "outputs": [],
   "source": [
    "import sys\n",
    "import numpy as np\n",
    "import pandas as pd"
   ]
  },
  {
   "cell_type": "code",
   "execution_count": 2,
   "metadata": {},
   "outputs": [],
   "source": [
    "sys.path.append('..')\n",
    "sys.path.append('../../lung_cancer/radio/')\n",
    "\n",
    "DIR_CANCER = 'C:/projects/lung_cancer/data/lunaset_split/train/cancer/*'\n",
    "DIR_NCANCER = 'C:/projects/lung_cancer/data/lunaset_split/train/ncancer/*'\n",
    "\n",
    "NODULES = pd.read_csv('C:/projects/lung_cancer/data/CSVFILES/annotations.csv')\n",
    "TEST = 'C:/projects/lung_cancer/data/subset*/*.mhd'"
   ]
  },
  {
   "cell_type": "code",
   "execution_count": 3,
   "metadata": {},
   "outputs": [
    {
     "name": "stderr",
     "output_type": "stream",
     "text": [
      "C:\\Anaconda3\\envs\\tensorflow-gpu\\lib\\site-packages\\dicom\\__init__.py:53: UserWarning: \n",
      "This code is using an older version of pydicom, which is no longer \n",
      "maintained as of Jan 2017.  You can access the new pydicom features and API \n",
      "by installing `pydicom` from PyPI.\n",
      "See 'Transitioning to pydicom 1.x' section at pydicom.readthedocs.org \n",
      "for more information.\n",
      "\n",
      "  warnings.warn(msg)\n",
      "Using TensorFlow backend.\n"
     ]
    }
   ],
   "source": [
    "import radio\n",
    "from radio import dataset as ds\n",
    "from radio import CTImagesMaskedBatch as CTIMB\n",
    "from radio.dataset import V, F, C, Pipeline\n",
    "from radio.pipelines import combine_crops\n",
    "from radio.dataset.models.tf import VNet\n",
    "from radio.models.tf.losses import tversky_loss_with_logits, bce_with_logits, bce\n",
    "import tensorflow as tf\n",
    "from radio.experiments.utils import get_test_pipeline, get_train_pipeline\n",
    "\n",
    "# from utils import InteractivePlot"
   ]
  },
  {
   "cell_type": "code",
   "execution_count": 4,
   "metadata": {
    "collapsed": true
   },
   "outputs": [],
   "source": [
    "from radio.dataset.research import Research, Option"
   ]
  },
  {
   "cell_type": "code",
   "execution_count": 5,
   "metadata": {
    "collapsed": true
   },
   "outputs": [],
   "source": [
    "cix = ds.FilesIndex(path=DIR_CANCER, dirs=True)\n",
    "ncix = ds.FilesIndex(path=DIR_NCANCER, dirs=True)\n",
    "\n",
    "cancerset = ds.Dataset(index=cix, batch_class=CTIMB)\n",
    "ncancerset = ds.Dataset(index=ncix, batch_class=CTIMB)"
   ]
  },
  {
   "cell_type": "code",
   "execution_count": 6,
   "metadata": {
    "collapsed": true
   },
   "outputs": [],
   "source": [
    "cancerset.cv_split()\n",
    "ncancerset.cv_split()"
   ]
  },
  {
   "cell_type": "code",
   "execution_count": 7,
   "metadata": {},
   "outputs": [],
   "source": [
    "model_config = {\n",
    "    'inputs': {\n",
    "        'images/shape': (32, 64, 64, 1),\n",
    "        'labels': {'name': 'targets', 'shape': (32, 64, 64, 1)}\n",
    "    },\n",
    "    'loss': bce, # tversky_loss_with_logits, #'softmax_cross_entropy', #\n",
    "    'optimizer': 'Adam',\n",
    "    'input_block/inputs': 'images',\n",
    "    'head/kernel_size': 1,\n",
    "    'head/num_classes': 1,\n",
    "    'head/layout': 'ca',\n",
    "    'head/activation': tf.sigmoid,\n",
    "    #'output/ops': 'sigmoid'\n",
    "}\n",
    "\n",
    "# preproc = Pipeline().mix_images(p=0.75, mode=C('mode'), mix_masks=C('mix_masks'))\n",
    "preproc = Pipeline().mix_images(p=0.75, mode='max', mix_masks=True)"
   ]
  },
  {
   "cell_type": "code",
   "execution_count": 8,
   "metadata": {},
   "outputs": [],
   "source": [
    "from radio import CTImagesMaskedBatch\n",
    "\n",
    "test_index = ds.FilesIndex(path=TEST, no_ext=True)\n",
    "test_ds = ds.Dataset(index=test_index, batch_class=CTImagesMaskedBatch)"
   ]
  },
  {
   "cell_type": "code",
   "execution_count": 9,
   "metadata": {},
   "outputs": [
    {
     "data": {
      "text/plain": [
       "<radio.dataset.dataset.pipeline.Pipeline at 0x2bba0419978>"
      ]
     },
     "execution_count": 9,
     "metadata": {},
     "output_type": "execute_result"
    }
   ],
   "source": [
    "train_ppl = get_train_pipeline(cancerset, ncancerset, VNet, preproc)\n",
    "train_ppl.set_config({'model_config': model_config})"
   ]
  },
  {
   "cell_type": "code",
   "execution_count": 10,
   "metadata": {},
   "outputs": [
    {
     "data": {
      "text/plain": [
       "<radio.preprocessing.ct_masked_batch.CTImagesMaskedBatch at 0x2bba0419a20>"
      ]
     },
     "execution_count": 10,
     "metadata": {},
     "output_type": "execute_result"
    }
   ],
   "source": [
    "train_ppl.next_batch()"
   ]
  },
  {
   "cell_type": "code",
   "execution_count": 11,
   "metadata": {},
   "outputs": [],
   "source": [
    "# test_ppl = (test_ds.p\n",
    "#             .import_model('model', train_ppl)\n",
    "#             .load(fmt='raw')\n",
    "#             .unify_spacing(spacing=(1.7, 1.0, 1.0),\n",
    "#                            shape=(400, 512, 512),\n",
    "#                            method='pil-simd',\n",
    "#                            padding='reflect')\n",
    "#             .normalize_hu()\n",
    "#             .resize(shape=(100, 100, 100))\n",
    "#             .predict_on_scan(model_name='model',\n",
    "#                              strides=(32, 64, 64),\n",
    "#                              crop_shape=(32, 64, 64),\n",
    "#                              batch_size=4,\n",
    "#                              show_progress=True)\n",
    "#            )"
   ]
  },
  {
   "cell_type": "code",
   "execution_count": 12,
   "metadata": {},
   "outputs": [
    {
     "data": {
      "text/plain": [
       "<radio.dataset.dataset.pipeline.Pipeline at 0x2bbab397240>"
      ]
     },
     "execution_count": 12,
     "metadata": {},
     "output_type": "execute_result"
    }
   ],
   "source": [
    "test_ppl = get_test_pipeline(NODULES, test_ds)\n",
    "test_ppl.set_config({'model_config': model_config, 'train_pipeline': train_ppl})"
   ]
  },
  {
   "cell_type": "code",
   "execution_count": 22,
   "metadata": {
    "collapsed": true
   },
   "outputs": [],
   "source": [
    "batch = test_ppl.next_batch()"
   ]
  },
  {
   "cell_type": "code",
   "execution_count": 14,
   "metadata": {},
   "outputs": [],
   "source": [
    "from radio.experiments.utils import compute_test_metrics"
   ]
  },
  {
   "cell_type": "code",
   "execution_count": 15,
   "metadata": {},
   "outputs": [
    {
     "data": {
      "text/plain": [
       "[]"
      ]
     },
     "execution_count": 15,
     "metadata": {},
     "output_type": "execute_result"
    }
   ],
   "source": [
    "test_ppl.get_variable('true_stats')"
   ]
  },
  {
   "cell_type": "code",
   "execution_count": 16,
   "metadata": {},
   "outputs": [
    {
     "data": {
      "text/plain": [
       "0"
      ]
     },
     "execution_count": 16,
     "metadata": {},
     "output_type": "execute_result"
    }
   ],
   "source": [
    "len(test_ppl.get_variable('true_stats'))"
   ]
  },
  {
   "cell_type": "code",
   "execution_count": 23,
   "metadata": {},
   "outputs": [],
   "source": [
    "compute_test_metrics(batch, NODULES)"
   ]
  },
  {
   "cell_type": "code",
   "execution_count": 24,
   "metadata": {},
   "outputs": [
    {
     "data": {
      "text/plain": [
       "array([ True,  True], dtype=bool)"
      ]
     },
     "execution_count": 24,
     "metadata": {},
     "output_type": "execute_result"
    }
   ],
   "source": [
    "np.in1d(batch.indices, NODULES.seriesuid)"
   ]
  },
  {
   "cell_type": "code",
   "execution_count": 26,
   "metadata": {},
   "outputs": [
    {
     "data": {
      "text/plain": [
       "0       1.3.6.1.4.1.14519.5.2.1.6279.6001.100225287222...\n",
       "1       1.3.6.1.4.1.14519.5.2.1.6279.6001.100225287222...\n",
       "2       1.3.6.1.4.1.14519.5.2.1.6279.6001.100398138793...\n",
       "3       1.3.6.1.4.1.14519.5.2.1.6279.6001.100621383016...\n",
       "4       1.3.6.1.4.1.14519.5.2.1.6279.6001.100621383016...\n",
       "5       1.3.6.1.4.1.14519.5.2.1.6279.6001.100621383016...\n",
       "6       1.3.6.1.4.1.14519.5.2.1.6279.6001.100621383016...\n",
       "7       1.3.6.1.4.1.14519.5.2.1.6279.6001.100953483028...\n",
       "8       1.3.6.1.4.1.14519.5.2.1.6279.6001.102681962408...\n",
       "9       1.3.6.1.4.1.14519.5.2.1.6279.6001.104562737760...\n",
       "10      1.3.6.1.4.1.14519.5.2.1.6279.6001.105495028985...\n",
       "11      1.3.6.1.4.1.14519.5.2.1.6279.6001.106164978370...\n",
       "12      1.3.6.1.4.1.14519.5.2.1.6279.6001.106379658920...\n",
       "13      1.3.6.1.4.1.14519.5.2.1.6279.6001.106379658920...\n",
       "14      1.3.6.1.4.1.14519.5.2.1.6279.6001.106630482085...\n",
       "15      1.3.6.1.4.1.14519.5.2.1.6279.6001.106719103982...\n",
       "16      1.3.6.1.4.1.14519.5.2.1.6279.6001.107109359065...\n",
       "17      1.3.6.1.4.1.14519.5.2.1.6279.6001.107351566259...\n",
       "18      1.3.6.1.4.1.14519.5.2.1.6279.6001.107351566259...\n",
       "19      1.3.6.1.4.1.14519.5.2.1.6279.6001.107351566259...\n",
       "20      1.3.6.1.4.1.14519.5.2.1.6279.6001.107351566259...\n",
       "21      1.3.6.1.4.1.14519.5.2.1.6279.6001.107351566259...\n",
       "22      1.3.6.1.4.1.14519.5.2.1.6279.6001.107351566259...\n",
       "23      1.3.6.1.4.1.14519.5.2.1.6279.6001.108197895896...\n",
       "24      1.3.6.1.4.1.14519.5.2.1.6279.6001.108231420525...\n",
       "25      1.3.6.1.4.1.14519.5.2.1.6279.6001.109002525524...\n",
       "26      1.3.6.1.4.1.14519.5.2.1.6279.6001.109002525524...\n",
       "27      1.3.6.1.4.1.14519.5.2.1.6279.6001.110678335949...\n",
       "28      1.3.6.1.4.1.14519.5.2.1.6279.6001.111172165674...\n",
       "29      1.3.6.1.4.1.14519.5.2.1.6279.6001.111258527162...\n",
       "                              ...                        \n",
       "1156    1.3.6.1.4.1.14519.5.2.1.6279.6001.931383239747...\n",
       "1157    1.3.6.1.4.1.14519.5.2.1.6279.6001.935683764293...\n",
       "1158    1.3.6.1.4.1.14519.5.2.1.6279.6001.935683764293...\n",
       "1159    1.3.6.1.4.1.14519.5.2.1.6279.6001.939152384493...\n",
       "1160    1.3.6.1.4.1.14519.5.2.1.6279.6001.943403138251...\n",
       "1161    1.3.6.1.4.1.14519.5.2.1.6279.6001.944888107209...\n",
       "1162    1.3.6.1.4.1.14519.5.2.1.6279.6001.946129570505...\n",
       "1163    1.3.6.1.4.1.14519.5.2.1.6279.6001.948414623428...\n",
       "1164    1.3.6.1.4.1.14519.5.2.1.6279.6001.948414623428...\n",
       "1165    1.3.6.1.4.1.14519.5.2.1.6279.6001.952265563663...\n",
       "1166    1.3.6.1.4.1.14519.5.2.1.6279.6001.955688628308...\n",
       "1167    1.3.6.1.4.1.14519.5.2.1.6279.6001.955688628308...\n",
       "1168    1.3.6.1.4.1.14519.5.2.1.6279.6001.955688628308...\n",
       "1169    1.3.6.1.4.1.14519.5.2.1.6279.6001.955688628308...\n",
       "1170    1.3.6.1.4.1.14519.5.2.1.6279.6001.955688628308...\n",
       "1171    1.3.6.1.4.1.14519.5.2.1.6279.6001.961063442349...\n",
       "1172    1.3.6.1.4.1.14519.5.2.1.6279.6001.964952370561...\n",
       "1173    1.3.6.1.4.1.14519.5.2.1.6279.6001.964952370561...\n",
       "1174    1.3.6.1.4.1.14519.5.2.1.6279.6001.964952370561...\n",
       "1175    1.3.6.1.4.1.14519.5.2.1.6279.6001.964952370561...\n",
       "1176    1.3.6.1.4.1.14519.5.2.1.6279.6001.970264865033...\n",
       "1177    1.3.6.1.4.1.14519.5.2.1.6279.6001.970428941353...\n",
       "1178    1.3.6.1.4.1.14519.5.2.1.6279.6001.970428941353...\n",
       "1179    1.3.6.1.4.1.14519.5.2.1.6279.6001.975426625618...\n",
       "1180    1.3.6.1.4.1.14519.5.2.1.6279.6001.979083010707...\n",
       "1181    1.3.6.1.4.1.14519.5.2.1.6279.6001.994459772950...\n",
       "1182    1.3.6.1.4.1.14519.5.2.1.6279.6001.994459772950...\n",
       "1183    1.3.6.1.4.1.14519.5.2.1.6279.6001.994459772950...\n",
       "1184    1.3.6.1.4.1.14519.5.2.1.6279.6001.997611074084...\n",
       "1185    1.3.6.1.4.1.14519.5.2.1.6279.6001.997611074084...\n",
       "Name: seriesuid, Length: 1186, dtype: object"
      ]
     },
     "execution_count": 26,
     "metadata": {},
     "output_type": "execute_result"
    }
   ],
   "source": [
    "NODULES.seriesuid"
   ]
  },
  {
   "cell_type": "code",
   "execution_count": 27,
   "metadata": {},
   "outputs": [
    {
     "data": {
      "image/png": "[encoded data removed]",
      "text/plain": [
       "<matplotlib.figure.Figure at 0x1240c8b0630>"
      ]
     },
     "metadata": {},
     "output_type": "display_data"
    }
   ],
   "source": [
    "import matplotlib.pyplot as plt\n",
    "\n",
    "plt.imshow(batch.data.masks[16])\n",
    "plt.show()"
   ]
  },
  {
   "cell_type": "code",
   "execution_count": 16,
   "metadata": {
    "collapsed": true
   },
   "outputs": [],
   "source": [
    "# train_ppl.set_config({'model_config': model_config})\n",
    "# for i in range(10):\n",
    "#     train_ppl.next_batch()"
   ]
  },
  {
   "cell_type": "code",
   "execution_count": 24,
   "metadata": {},
   "outputs": [],
   "source": [
    "# import matplotlib.pyplot as plt\n",
    "\n",
    "# plt.plot(train_ppl.get_variable('loss'))\n",
    "# plt.show()"
   ]
  },
  {
   "cell_type": "code",
   "execution_count": 18,
   "metadata": {
    "collapsed": true
   },
   "outputs": [],
   "source": [
    "# train_ppl = (\n",
    "#     combine_crops(cancerset.train, ncancerset.train, batch_sizes=(2, 2))\n",
    "#     .mix_images(p=0.75, mode=C('mode'), mix_masks=C('mix_masks'))\n",
    "#     .init_variable('loss', init_on_each_run=list)\n",
    "#     .init_model(\n",
    "#         name='model', model_class=VNet,\n",
    "#         config=model_config, mode='dynamic'\n",
    "#     )\n",
    "#     .train_model(\n",
    "#         name='model', fetches='loss', save_to=V('loss'), mode='a',\n",
    "#         feed_dict={'images': F(CTIMB.unpack, component='images'),\n",
    "#                    'targets': F(CTIMB.unpack, component='masks')}\n",
    "#     )\n",
    "# )"
   ]
  },
  {
   "cell_type": "code",
   "execution_count": 19,
   "metadata": {
    "collapsed": true
   },
   "outputs": [],
   "source": [
    "# test_ppl = (\n",
    "#     combine_crops(cancerset.test, ncancerset.test, batch_sizes=(2, 2))\n",
    "#     .init_variable('proba', init_on_each_run=list)\n",
    "#     .import_model('model', C('import_from'))\n",
    "#     .predict_model(\n",
    "#         name='model', fetches='output_sigmoid', save_to=V('proba'), mode='a',\n",
    "#         feed_dict={'images': F(CTIMB.unpack, component='images'),\n",
    "#                    'targets': F(CTIMB.unpack, component='masks')}\n",
    "#     )\n",
    "# )"
   ]
  },
  {
   "cell_type": "code",
   "execution_count": 20,
   "metadata": {
    "collapsed": true
   },
   "outputs": [],
   "source": [
    "# op1 = Option('mode', ['max', 'none'])\n",
    "# op2 = Option('mix_masks', [True, False])\n",
    "# op3 = Option('loss', [tversky_loss_with_logits, ])"
   ]
  },
  {
   "cell_type": "code",
   "execution_count": 21,
   "metadata": {
    "collapsed": true
   },
   "outputs": [],
   "source": [
    "# from radio.dataset.research import SavingWorker"
   ]
  },
  {
   "cell_type": "code",
   "execution_count": 22,
   "metadata": {},
   "outputs": [],
   "source": [
    "# research = Research()\n",
    "# research.add_pipeline(train_ppl, 'loss', name='train',)\n",
    "# research.add_grid_config(op1 * op2)\n",
    "# research.run(1, 5000, n_jobs=[SavingWorker('Custom')])"
   ]
  },
  {
   "cell_type": "code",
   "execution_count": null,
   "metadata": {
    "collapsed": true
   },
   "outputs": [],
   "source": []
  }
 ],
 "metadata": {
  "kernelspec": {
   "display_name": "Python 3",
   "language": "python",
   "name": "python3"
  },
  "language_info": {
   "codemirror_mode": {
    "name": "ipython",
    "version": 3
   },
   "file_extension": ".py",
   "mimetype": "text/x-python",
   "name": "python",
   "nbconvert_exporter": "python",
   "pygments_lexer": "ipython3",
   "version": "3.5.2"
  }
 },
 "nbformat": 4,
 "nbformat_minor": 2
}
