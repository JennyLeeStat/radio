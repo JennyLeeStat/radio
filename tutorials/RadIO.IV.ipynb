{
 "cells": [
  {
   "cell_type": "markdown",
   "metadata": {},
   "source": [
    "# Training models for pulmonary nodule detection on LUNA16 dataset"
   ]
  },
  {
   "cell_type": "markdown",
   "metadata": {},
   "source": [
    "In this Tutorial you will learn how to train models on popular [LUNA16](http://luna16.grand-challenge.org) competition dataset (scans from [LIDC-IDRI])(https://wiki.cancerimagingarchive.net/display/Public/LIDC-IDRI).\n",
    "\n",
    "This tutorial consists of four parts:\n",
    "1. Preparation of dataset of CT-scans crops\n",
    "2. Training a ready-made model from recommended RadIO model zoo, e.g. [**Keras3DUnet**](https://analysiscenter.github.io/radio/api/keras_3dunet.html)\n",
    "3. Training a popular model from dataset/models zoo, e.g. [**V-Net**](https://analysiscenter.github.io/dataset/api/dataset.models.tf.vnet.html)\n",
    "4. Integrating custom model with RadIO framework"
   ]
  },
  {
   "cell_type": "markdown",
   "metadata": {},
   "source": [
    "Before proceeding to the plan, we will make some standard imports:"
   ]
  },
  {
   "cell_type": "code",
   "execution_count": 1,
   "metadata": {
    "collapsed": true
   },
   "outputs": [],
   "source": [
    "import sys\n",
    "sys.path.append('../')\n",
    "\n",
    "import numpy as np\n",
    "import pandas as pd\n",
    "import matplotlib.pyplot as plt\n",
    "%matplotlib inline"
   ]
  },
  {
   "cell_type": "markdown",
   "metadata": {},
   "source": [
    "### Part I. Prepare dataset of crops"
   ]
  },
  {
   "cell_type": "markdown",
   "metadata": {},
   "source": [
    "Since it is not yet practically approachable to train a neural network on CT-scans, as they weight too much (300-500mb+), natural way that allows to tackle volumetric information would be to train on smaller 3D parts, `crops`. Cropping parts with/without nodules will also facilitate better sampling and allow to tune balance of positive/negative examples in batch more accurate. RadIO contains ready-made preprocessing pipeline which will create a dataset with crops, you may use LUNA16 challenge dataset in MetaImage format for this tutorial."
   ]
  },
  {
   "cell_type": "markdown",
   "metadata": {},
   "source": [
    "You will need **LUNA16** folder directory and **annotations.csv** provided for the competition."
   ]
  },
  {
   "cell_type": "code",
   "execution_count": 19,
   "metadata": {},
   "outputs": [],
   "source": [
    "import radio\n",
    "from radio import dataset as ds\n",
    "from radio import CTImagesMaskedBatch as CTIMB\n",
    "\n",
    "# read annotation\n",
    "nodules = pd.read_csv('/data/MRT/luna/CSVFILES/annotations.csv')\n",
    "\n",
    "# create index and dataset\n",
    "lunaix = ds.FilesIndex(path='/data/MRT/luna/s*/*.mhd', no_ext=True)\n",
    "lunaset = ds.Dataset(index=lunaix, batch_class=CTIMB)"
   ]
  },
  {
   "cell_type": "markdown",
   "metadata": {},
   "source": [
    "Note, that you may also want to split your dataset to train/test/validation parts; It's possible by splitting indices of dataset instance by `.cv_split` method, for example, splitting 90% to train and 10% for test:"
   ]
  },
  {
   "cell_type": "code",
   "execution_count": 3,
   "metadata": {
    "collapsed": true
   },
   "outputs": [],
   "source": [
    "lunaset.cv_split(0.9, shuffle=True)"
   ]
  },
  {
   "cell_type": "markdown",
   "metadata": {},
   "source": [
    "Now original dataset is divided into train and test parts:"
   ]
  },
  {
   "cell_type": "code",
   "execution_count": 4,
   "metadata": {},
   "outputs": [
    {
     "data": {
      "text/plain": [
       "(799, 89)"
      ]
     },
     "execution_count": 4,
     "metadata": {},
     "output_type": "execute_result"
    }
   ],
   "source": [
    "len(lunaset.train), len(lunaset.test)"
   ]
  },
  {
   "cell_type": "markdown",
   "metadata": {},
   "source": [
    "Next, we need to write down preprocessing workflow. \n",
    "\n",
    "**split_dump** from `radio.pipelines` returns basic workflow, including normalizing [**Hounsfield Units**](https://en.wikipedia.org/wiki/Hounsfield_scale), resizing all scans to fixed scans and in at same time unifying its spacing to desired one. After preprocessing **split_dump** method samples smaller crops of desired shape **(32, 64, 64)** with nodules and without. Workflow will also create masks based on nodules location and dump all the component, e.g. `masks`, `images`, into fast [**blosc**](http://blosc.org/pages/blosc-in-depth/) format.\n",
    "\n",
    "Crops with cancer nodules will be dumped to `cancer_path` and crops without any nodules will be dumped to `non_cancer_path` to allow managing balance of positive/negative examples in batch later during training.\n",
    "\n",
    "You may want to pass additioanl paramteres as `kwargs`: "
   ]
  },
  {
   "cell_type": "code",
   "execution_count": 5,
   "metadata": {
    "collapsed": true
   },
   "outputs": [],
   "source": [
    "from radio.pipelines import split_dump\n",
    "\n",
    "SPACING = (1.7, 1.0, 1.0)  # spacing of scans after spacing unification\n",
    "SHAPE = (400, 512, 512)  # shape of scans after spacing unification\n",
    "PADDING = 'reflect'  # 'reflect' padding-mode produces the least amount of artefacts\n",
    "METHOD = 'pil-simd'  # robust resize-engine\n",
    "\n",
    "kwargs_default = dict(shape=SHAPE, spacing=SPACING, padding=PADDING, method=METHOD)"
   ]
  },
  {
   "cell_type": "code",
   "execution_count": 6,
   "metadata": {
    "collapsed": true
   },
   "outputs": [],
   "source": [
    "crop_pipeline = split_dump(cancer_path='/data/lunaset_split/train/cancer/', \n",
    "                           non_cancer_path='/data/lunaset_split/train/ncancer/',\n",
    "                           nodules=nodules, fmt='raw', nodule_shape=(32, 64, 64),\n",
    "                           batch_size=20, **kwargs_default)"
   ]
  },
  {
   "cell_type": "markdown",
   "metadata": {},
   "source": [
    "Pass dataset directly to pipeline and run it, for example for `lunaset.train` sub-dataset:\n",
    "\n",
    "(Note, it may take some time, so better grab a coffee)"
   ]
  },
  {
   "cell_type": "code",
   "execution_count": 8,
   "metadata": {
    "collapsed": true
   },
   "outputs": [],
   "source": [
    "(lunaset.train >> crop_pipeline).run()"
   ]
  },
  {
   "cell_type": "markdown",
   "metadata": {},
   "source": [
    "You may want to prepare test part in similar way, but do not forget to change `cancer_path` and `non_cancer_path`. In this Tutorial we will skip it."
   ]
  },
  {
   "cell_type": "markdown",
   "metadata": {},
   "source": [
    "### Part II. Training a ready-to-use model implemented in Keras: 3D U-Net"
   ]
  },
  {
   "cell_type": "markdown",
   "metadata": {},
   "source": [
    "RadIO contains a small but growing zoo of models in Keras and Tensorflow. In this part you will perform training a 3D U-Net architecture for pulmonary nodule segmentation using dataset of CT-scans crops you prepared earlier."
   ]
  },
  {
   "cell_type": "code",
   "execution_count": 7,
   "metadata": {
    "collapsed": true
   },
   "outputs": [],
   "source": [
    "DIR_CANCER = '/data/lunaset_split_new/train/cancer/*'\n",
    "DIR_NCANCER = '/data/lunaset_split_new/train/ncancer/*'"
   ]
  },
  {
   "cell_type": "markdown",
   "metadata": {},
   "source": [
    "Similar to preprocessing, let's build a training pipeline. This time, you will need 2 datasets, one for crops with nodules and another with crops without them, that's why they were dumped in different folders. Remeber, that masks and some other special information is also dumped, so it can be easily loaded on request."
   ]
  },
  {
   "cell_type": "markdown",
   "metadata": {},
   "source": [
    "First of all, create two indices and two datasets corresponding to them:"
   ]
  },
  {
   "cell_type": "code",
   "execution_count": 8,
   "metadata": {
    "collapsed": true
   },
   "outputs": [],
   "source": [
    "cix = ds.FilesIndex(path=DIR_CANCER, dirs=True)\n",
    "ncix = ds.FilesIndex(path=DIR_NCANCER, dirs=True)\n",
    "\n",
    "cancerset = ds.Dataset(index=cix, batch_class=CTIMB)\n",
    "ncancerset = ds.Dataset(index=ncix, batch_class=CTIMB)"
   ]
  },
  {
   "cell_type": "markdown",
   "metadata": {},
   "source": [
    "How can we use both datasets in a same time during training? Dataset package allows to `merge` several pipelines into one requiring only specification of **batch_size** parameter for each of them. Say, we would want take 4 crops with nodules and 4 without them, in total batch_size of 8 crops of (32, 64, 64) size. Let's import a ready made pipeline **combine_crops** for this problem:"
   ]
  },
  {
   "cell_type": "code",
   "execution_count": 9,
   "metadata": {
    "collapsed": true
   },
   "outputs": [],
   "source": [
    "from radio.pipelines import combine_crops\n",
    "combine_pipeline = combine_crops(cancerset, ncancerset, batch_sizes=(4, 4))"
   ]
  },
  {
   "cell_type": "markdown",
   "metadata": {},
   "source": [
    "Next step is the model: import and desciption of config-dict. Need to specify input crops and masks sizes (will be same) as well as trainging model config: Optimizer, Loss function; e.g. use Adam for training and Dice loss funciton for segmentation:"
   ]
  },
  {
   "cell_type": "code",
   "execution_count": 27,
   "metadata": {},
   "outputs": [],
   "source": [
    "from radio.models import Keras3DUNet\n",
    "from radio.models.keras.losses import dice_loss\n",
    "\n",
    "unet_config = dict(\n",
    "    input_shape = (1, 32, 64, 64),\n",
    "    num_targets = 1,\n",
    "    loss= dice_loss\n",
    ")"
   ]
  },
  {
   "cell_type": "markdown",
   "metadata": {},
   "source": [
    "After that, let's add one more part to training pipeline specifying model and training params by chaining `.init_model` and `.train_model` pipeline methods:"
   ]
  },
  {
   "cell_type": "code",
   "execution_count": 36,
   "metadata": {
    "collapsed": true
   },
   "outputs": [],
   "source": [
    "from radio.dataset import F\n",
    "\n",
    "train_pipeline = (\n",
    "    combine_pipeline\n",
    "    .init_model(\n",
    "        name='3dunet', model_class=Keras3DUNet,\n",
    "        config=unet_config, mode='static'\n",
    "    )\n",
    "    .train_model(\n",
    "        name='3dunet',\n",
    "        x=F(CTIMB.unpack, component='images', data_format='channels_first'),\n",
    "        y=F(CTIMB.unpack, component='masks', data_format='channels_first')\n",
    "    )\n",
    ")"
   ]
  },
  {
   "cell_type": "markdown",
   "metadata": {},
   "source": [
    "Here `train_model` employ custom **CTIMB.unpack** method that helps to unpack specific components from batch and put them into desired alias of keras network: `images` component goes to `x` and `masks` into `y`.\n",
    "\n",
    "If you want to try a keras network for classification, you may simply pass component for y's unpack to `classification_targets`. That way, unpack would transform masks into binary classification (`nodule` vs. `non-nodule`) target based on threshold of amount of cancer voxels inside the crop to label `nodule`. See [documentation](https://analysiscenter.github.io/radio/intro/models.html) for details."
   ]
  },
  {
   "cell_type": "markdown",
   "metadata": {},
   "source": [
    "Then, the moment of truth:"
   ]
  },
  {
   "cell_type": "code",
   "execution_count": null,
   "metadata": {
    "collapsed": true
   },
   "outputs": [],
   "source": [
    "train_pipeline.run()"
   ]
  },
  {
   "cell_type": "markdown",
   "metadata": {},
   "source": [
    "After execution is finished, you may `.save` keras model:"
   ]
  },
  {
   "cell_type": "code",
   "execution_count": 19,
   "metadata": {
    "collapsed": true
   },
   "outputs": [],
   "source": [
    "keras_unet = train_pipeline.get_model_by_name('3dunet')\n",
    "keras_unet.save('/path/to/keras_3d_unet/weights')"
   ]
  },
  {
   "cell_type": "markdown",
   "metadata": {},
   "source": [
    "If you later would like to access it, that would be easy by adding `path` in `model_config` and redefining and running same pipeline again:"
   ]
  },
  {
   "cell_type": "code",
   "execution_count": null,
   "metadata": {
    "collapsed": true
   },
   "outputs": [],
   "source": [
    "model_config.update({'path': '3dunet'})\n",
    "\n",
    "train_pipeline = (\n",
    "    combine_pipeline\n",
    "    .init_model(\n",
    "        name='3dunet', model_class=Keras3DUNet,\n",
    "        config=unet_config, mode='static'\n",
    "    )\n",
    "    .train_model(\n",
    "        name='3dunet',\n",
    "        x=F(CTIMB.unpack, component='images', data_format='channels_first'),\n",
    "        y=F(CTIMB.unpack, component='masks', data_format='channels_first')\n",
    "    )\n",
    ")\n",
    "\n",
    "train_pipeline.run()"
   ]
  },
  {
   "cell_type": "markdown",
   "metadata": {},
   "source": [
    "### Part 3. Training a model from radio.dataset.models zoo: V-Net"
   ]
  },
  {
   "cell_type": "markdown",
   "metadata": {},
   "source": [
    "Dataset library used by RadIO contains a zoo of many popular model architecture in tensorflow. In this part you will learn to train V-Net (volumetric u-net) for same task with same preprocessing pipeline. All you need is to define config of dataset's v-net model:"
   ]
  },
  {
   "cell_type": "code",
   "execution_count": 20,
   "metadata": {
    "collapsed": true
   },
   "outputs": [],
   "source": [
    "from radio.dataset.models.tf import VNet\n",
    "# We use Tversky loss here cause it performs slightly better than dice\n",
    "from radio.models.tf.losses import tversky_loss\n",
    "import tensorflow as tf"
   ]
  },
  {
   "cell_type": "code",
   "execution_count": 13,
   "metadata": {
    "collapsed": true
   },
   "outputs": [],
   "source": [
    "vnet_config = {\n",
    "    'inputs': dict(\n",
    "        images={'shape': (32, 64, 64, 1)},\n",
    "        labels={'name': 'targets', 'shape': (32, 64, 64, 1)}\n",
    "    ),\n",
    "    'loss': tversky_loss,\n",
    "    'optimizer': 'Adam',\n",
    "}\n",
    "vnet_config['input_block/inputs'] = 'images'\n",
    "vnet_config['head/layout'] = 'cna'\n",
    "vnet_config['head/activation'] = tf.nn.sigmoid\n",
    "vnet_config['head/kernel_size'] = 1\n",
    "vnet_config['head/num_classes'] = 1"
   ]
  },
  {
   "cell_type": "markdown",
   "metadata": {},
   "source": [
    "Dataset.models has highly parametrized architecures which allows to perform experiments by combining different paramteres without changing model's code. It greatly facilitates clear and reproducible experiment settings.\n",
    "\n",
    "In example above you are provided with V-Net model which will be trained on crops with Adam optimizer, tversky loss. Slight modifications are added to head of the network, last convolutional block would consist of convolution with (1, 1, 1) kernel, 1 filter, following batch normalisation layer and sigmoid activation function. See dataset [documentation](https://analysiscenter.github.io/dataset/intro/tf_models.html) for details."
   ]
  },
  {
   "cell_type": "code",
   "execution_count": 14,
   "metadata": {
    "collapsed": true
   },
   "outputs": [],
   "source": [
    "from IPython.display import clear_output\n",
    "from radio.dataset import V, F\n",
    "\n",
    "vnet_ppl = (\n",
    "    combine_pipeline\n",
    "    .init_variable('loss_history', init_on_each_run=list)\n",
    "    .init_variable('current_loss', init=float)\n",
    "    .init_model(\n",
    "        name='vnet', model_class=VNet,\n",
    "        config=vnet_config, mode='static'\n",
    "    )\n",
    "    .train_model(\n",
    "        name='vnet', fetches='loss', save_to=V('current_loss'), mode='w',\n",
    "        feed_dict={'images': F(CTIMB.unpack, component='images'),\n",
    "                   'targets': F(CTIMB.unpack, component='masks')}\n",
    "    )\n",
    "    .print(\"Current loss:\")\n",
    "    .print(V('current_loss'))\n",
    "    .update_variable('loss_history', value=V('current_loss'), mode='a')\n",
    "    .call(lambda x: clear_output(wait=True))\n",
    ")"
   ]
  },
  {
   "cell_type": "code",
   "execution_count": null,
   "metadata": {},
   "outputs": [
    {
     "name": "stdout",
     "output_type": "stream",
     "text": [
      "Current loss:\n",
      "-0.49989\n"
     ]
    }
   ],
   "source": [
    "vnet_ppl.run()"
   ]
  },
  {
   "cell_type": "markdown",
   "metadata": {},
   "source": [
    "Let's visualize loss changes through learning process:"
   ]
  },
  {
   "cell_type": "code",
   "execution_count": 26,
   "metadata": {},
   "outputs": [
    {
     "data": {
      "text/plain": [
       "<matplotlib.text.Text at 0x7facd83dba90>"
      ]
     },
     "execution_count": 26,
     "metadata": {},
     "output_type": "execute_result"
    },
    {
     "data": {
      "image/png": "[encoded data removed]",
      "text/plain": [
       "<matplotlib.figure.Figure at 0x7facd833b470>"
      ]
     },
     "metadata": {},
     "output_type": "display_data"
    }
   ],
   "source": [
    "loss_history = (\n",
    "    pd.Series(vnet_ppl.get_variable('loss_history'))\n",
    "    .rolling(32)\n",
    "    .mean()\n",
    "    .transform(lambda x: -x)\n",
    ")\n",
    "\n",
    "plt.figure(figsize=(7, 5))\n",
    "loss_history.plot(grid=True)\n",
    "plt.xlabel('Iteration')\n",
    "plt.ylabel('Tversky loss')"
   ]
  },
  {
   "cell_type": "markdown",
   "metadata": {
    "collapsed": true
   },
   "source": [
    "### Part 4. Writing custom tensorflow model compatible with the same pipeline"
   ]
  },
  {
   "cell_type": "markdown",
   "metadata": {},
   "source": [
    "In this part you will see, how to train your own models using RadIO framework. The easiest way would be to write your model in tensorflow or keras and use `.import_model()` in pipeline. Let's implement a simple 3D convolutional encoder-decoder architecture via tensorflow."
   ]
  },
  {
   "cell_type": "markdown",
   "metadata": {},
   "source": [
    "The easiest way to be able to make model compatible with `pipeline`'s model specific methods would be to inherit `BaseModel` class and redefine its **`build`** method for building model's graph in tensorflow, **train** method as it will be used by pipeline's `.train_model` and **predict** method to be able to call pipeline's `predict_model` . See documentation of [BaseModel](https://analysiscenter.github.io/dataset/api/dataset.models.html#dataset.models.BaseModel) to make sense of its possibilities."
   ]
  },
  {
   "cell_type": "code",
   "execution_count": 3,
   "metadata": {
    "collapsed": true
   },
   "outputs": [],
   "source": [
    "import tensorflow as tf\n",
    "from radio.dataset.models import BaseModel"
   ]
  },
  {
   "cell_type": "code",
   "execution_count": 32,
   "metadata": {
    "collapsed": true
   },
   "outputs": [],
   "source": [
    "class TFCustomModel(BaseModel):\n",
    "\n",
    "    def __init__(self, config=None, *args, **kwargs):\n",
    "        self.graph = tf.Graph()\n",
    "        with self.graph.as_default():\n",
    "            crop_shape = self.get('crop_shape', config=self.config, default=(32, 64, 64, 1))\n",
    "            self.images = tf.placeholder(shape=(None, *crop_shape), dtype=tf.float32)\n",
    "            self.masks = tf.placeholder(shape=(None, *crop_shape), dtype=tf.float32)\n",
    "\n",
    "        self.predictions = None\n",
    "        self.loss = None\n",
    "        self.train_step = None\n",
    "        self.sess = None\n",
    "\n",
    "        super().__init__(*args, **kwargs)\n",
    "    \n",
    "    def encoder_block(self, input_tensor, filters, name):\n",
    "        with tf.variable_scope(name):\n",
    "            x = tf.layers.conv3d(input_tensor, filters, (3, 3, 3), name='Conv_1', padding='same', activation=tf.nn.relu)\n",
    "            x = tf.layers.conv3d(x, filters, (3, 3, 3), name='Conv_2', padding='same', activation=tf.nn.relu)\n",
    "            x = tf.layers.max_pooling3d(x, pool_size=(2, 2, 2), strides=(2, 2, 2), padding='same')\n",
    "        return x\n",
    "    \n",
    "    def decoder_block(self, input_tensor, filters, name):\n",
    "        with tf.variable_scope(name):\n",
    "            x = tf.layers.conv3d(input_tensor, filters, (3, 3, 3), name='Conv_1', padding='same', activation=tf.nn.relu)\n",
    "            x = tf.layers.conv3d(x, filters, (3, 3, 3), name='Conv_2', padding='same', activation=tf.nn.relu)\n",
    "            x = tf.layers.conv3d_transpose(x, filters, (2, 2, 2), strides=(2, 2, 2), use_bias=False, padding='same')\n",
    "        return x\n",
    "        \n",
    "    def build(self, *args, **kwargs):\n",
    "        filters = self.get('filters', config=self.config, default=(32, 64, 128, 256))\n",
    "        with self.graph.as_default():\n",
    "            x = self.images\n",
    "            for i, f in enumerate(filters):\n",
    "                x = self.encoder_block(x, f, \"EncoderBlock_\" + str(i))\n",
    "            \n",
    "            for i, f in enumerate(filters[::-1]):\n",
    "                x = self.decoder_block(x, f, \"DecoderBlock_\" + str(i))\n",
    "\n",
    "            self.predictions = tf.layers.conv3d(x, 1, (1, 1, 1), padding='same', name='predictions')\n",
    "            \n",
    "            self.loss = tf.losses.sigmoid_cross_entropy(self.masks, self.predictions)\n",
    "            self.train_step = tf.train.AdamOptimizer().minimize(self.loss)\n",
    "            self.sess = tf.Session()\n",
    "            self.sess.run(tf.global_variables_initializer())\n",
    "    \n",
    "    def train(self, x, y): \n",
    "        self.sess.run(self.train_step, feed_dict={self.images: x, self.masks: y})\n",
    "    \n",
    "    def predict(self, x):\n",
    "        return self.sess.run(self.predictions, feed_dict={self.images: x})"
   ]
  },
  {
   "cell_type": "markdown",
   "metadata": {},
   "source": [
    "Then you can use `.import_model` just like that, and not forget to provide right arguments (from train method) into `.train_model`."
   ]
  },
  {
   "cell_type": "code",
   "execution_count": 33,
   "metadata": {
    "collapsed": true
   },
   "outputs": [],
   "source": [
    "from radio.dataset import F\n",
    "import numpy as np\n",
    "\n",
    "custom_model = TFCustomModel(config={'crop_shape': (32, 64, 64, 1), 'filters': (32, 64, 128, 256)})\n",
    "\n",
    "train_ppl = (\n",
    "    combine_pipeline\n",
    "    .import_model(name='custom_model', source=custom_model)\n",
    "    .train_model(\n",
    "        name='custom_model',\n",
    "        x=F(CTIMB.unpack, component='images'),\n",
    "        y=F(CTIMB.unpack, component='masks')\n",
    "    )\n",
    ")\n",
    "\n",
    "train_ppl.run()"
   ]
  }
 ],
 "metadata": {
  "kernelspec": {
   "display_name": "Python 3",
   "language": "python",
   "name": "python3"
  },
  "language_info": {
   "codemirror_mode": {
    "name": "ipython",
    "version": 3
   },
   "file_extension": ".py",
   "mimetype": "text/x-python",
   "name": "python",
   "nbconvert_exporter": "python",
   "pygments_lexer": "ipython3",
   "version": "3.5.2"
  }
 },
 "nbformat": 4,
 "nbformat_minor": 2
}
